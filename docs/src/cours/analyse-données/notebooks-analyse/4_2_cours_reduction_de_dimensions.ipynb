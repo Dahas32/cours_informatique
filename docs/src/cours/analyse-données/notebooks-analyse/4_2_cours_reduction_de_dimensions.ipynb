{
 "cells": [
  {
   "cell_type": "markdown",
   "metadata": {},
   "source": [
    "# Multi Dimensional Scaling (MDS)"
   ]
  },
  {
   "cell_type": "markdown",
   "metadata": {},
   "source": [
    "Les méthodes de MDS consitent à projeter des données dans un espace de dimension réduite tout en conservant au mieux\n",
    "une distance entre les données.\n",
    "\n",
    "De nombreuses méthodes existent (voir par exemple http://en.wikipedia.org/wiki/Multidimensional_scaling, ou http://scikit-learn.org/stable/_downloads/plot_lle_digits.py) nous n'en présenterons ici que quelques une."
   ]
  },
  {
   "cell_type": "markdown",
   "metadata": {},
   "source": [
    "L'intérêt de ces méthodes est (au moins) double :\n",
    "* il permet de représenter dansun espace de petite dimenstion des données a priri décrites dansun grand nombre de dimension\n",
    "* il permet d'associer des axes à des données uniqueent décrite par une distance. Ceci permet de faire ensite une ACP dessus pour interpréter les données, faire des régressions, ou utiliser des algorithmes uniquement prévu pour le cas euclidien (comme les $k$-means par exemple)."
   ]
  },
  {
   "cell_type": "markdown",
   "metadata": {},
   "source": [
    "## Données iris"
   ]
  },
  {
   "cell_type": "code",
   "execution_count": 33,
   "metadata": {},
   "outputs": [
    {
     "data": {
      "text/html": [
       "<div>\n",
       "<style scoped>\n",
       "    .dataframe tbody tr th:only-of-type {\n",
       "        vertical-align: middle;\n",
       "    }\n",
       "\n",
       "    .dataframe tbody tr th {\n",
       "        vertical-align: top;\n",
       "    }\n",
       "\n",
       "    .dataframe thead th {\n",
       "        text-align: right;\n",
       "    }\n",
       "</style>\n",
       "<table border=\"1\" class=\"dataframe\">\n",
       "  <thead>\n",
       "    <tr style=\"text-align: right;\">\n",
       "      <th></th>\n",
       "      <th>sepal_length</th>\n",
       "      <th>sepal_width</th>\n",
       "      <th>petal_length</th>\n",
       "      <th>petal_width</th>\n",
       "    </tr>\n",
       "  </thead>\n",
       "  <tbody>\n",
       "    <tr>\n",
       "      <th>0</th>\n",
       "      <td>5.1</td>\n",
       "      <td>3.5</td>\n",
       "      <td>1.4</td>\n",
       "      <td>0.2</td>\n",
       "    </tr>\n",
       "    <tr>\n",
       "      <th>1</th>\n",
       "      <td>4.9</td>\n",
       "      <td>3.0</td>\n",
       "      <td>1.4</td>\n",
       "      <td>0.2</td>\n",
       "    </tr>\n",
       "    <tr>\n",
       "      <th>2</th>\n",
       "      <td>4.7</td>\n",
       "      <td>3.2</td>\n",
       "      <td>1.3</td>\n",
       "      <td>0.2</td>\n",
       "    </tr>\n",
       "    <tr>\n",
       "      <th>3</th>\n",
       "      <td>4.6</td>\n",
       "      <td>3.1</td>\n",
       "      <td>1.5</td>\n",
       "      <td>0.2</td>\n",
       "    </tr>\n",
       "    <tr>\n",
       "      <th>4</th>\n",
       "      <td>5.0</td>\n",
       "      <td>3.6</td>\n",
       "      <td>1.4</td>\n",
       "      <td>0.2</td>\n",
       "    </tr>\n",
       "    <tr>\n",
       "      <th>...</th>\n",
       "      <td>...</td>\n",
       "      <td>...</td>\n",
       "      <td>...</td>\n",
       "      <td>...</td>\n",
       "    </tr>\n",
       "    <tr>\n",
       "      <th>145</th>\n",
       "      <td>6.7</td>\n",
       "      <td>3.0</td>\n",
       "      <td>5.2</td>\n",
       "      <td>2.3</td>\n",
       "    </tr>\n",
       "    <tr>\n",
       "      <th>146</th>\n",
       "      <td>6.3</td>\n",
       "      <td>2.5</td>\n",
       "      <td>5.0</td>\n",
       "      <td>1.9</td>\n",
       "    </tr>\n",
       "    <tr>\n",
       "      <th>147</th>\n",
       "      <td>6.5</td>\n",
       "      <td>3.0</td>\n",
       "      <td>5.2</td>\n",
       "      <td>2.0</td>\n",
       "    </tr>\n",
       "    <tr>\n",
       "      <th>148</th>\n",
       "      <td>6.2</td>\n",
       "      <td>3.4</td>\n",
       "      <td>5.4</td>\n",
       "      <td>2.3</td>\n",
       "    </tr>\n",
       "    <tr>\n",
       "      <th>149</th>\n",
       "      <td>5.9</td>\n",
       "      <td>3.0</td>\n",
       "      <td>5.1</td>\n",
       "      <td>1.8</td>\n",
       "    </tr>\n",
       "  </tbody>\n",
       "</table>\n",
       "<p>150 rows × 4 columns</p>\n",
       "</div>"
      ],
      "text/plain": [
       "     sepal_length  sepal_width  petal_length  petal_width\n",
       "0             5.1          3.5           1.4          0.2\n",
       "1             4.9          3.0           1.4          0.2\n",
       "2             4.7          3.2           1.3          0.2\n",
       "3             4.6          3.1           1.5          0.2\n",
       "4             5.0          3.6           1.4          0.2\n",
       "..            ...          ...           ...          ...\n",
       "145           6.7          3.0           5.2          2.3\n",
       "146           6.3          2.5           5.0          1.9\n",
       "147           6.5          3.0           5.2          2.0\n",
       "148           6.2          3.4           5.4          2.3\n",
       "149           5.9          3.0           5.1          1.8\n",
       "\n",
       "[150 rows x 4 columns]"
      ]
     },
     "execution_count": 33,
     "metadata": {},
     "output_type": "execute_result"
    }
   ],
   "source": [
    "import seaborn as sns\n",
    "\n",
    "iris = sns.load_dataset('iris').drop(columns=\"species\")\n",
    "iris"
   ]
  },
  {
   "cell_type": "markdown",
   "metadata": {},
   "source": [
    "On a toujours 3 espèces que l'on représentera en 3 clouleurs différentes. Les 50 premières sont de l'espèce *setosa*, les 50 suivantes de l'espèce *versicolor* et les 50 dernière de l'espèce *virginica*\n",
    "\n",
    "**Attention** : ces 3 espèces sont des *meta* données : ce sont les botanistes qui ont répartis les iris en espèces, ce n'est pas inhérent aux données."
   ]
  },
  {
   "cell_type": "markdown",
   "metadata": {},
   "source": [
    "## Méthode 1 : les 2 premiers axes de l'ACP"
   ]
  },
  {
   "cell_type": "markdown",
   "metadata": {},
   "source": [
    "Permet de garder les axes qui ont le maximum d'information, c'est à dire ceux sur lesquels les points se projettent bien. \n",
    "\n",
    "Dans ce cas là, on ne centre **PAS** et on ne réduit **PAS** les données. On est dans un cas où seule l'inertie nous importe, pas l'interprétation des axes."
   ]
  },
  {
   "cell_type": "markdown",
   "metadata": {},
   "source": [
    "### ACP de données non centrée/réduite"
   ]
  },
  {
   "cell_type": "code",
   "execution_count": 34,
   "metadata": {},
   "outputs": [],
   "source": [
    "from sklearn.decomposition import PCA \n",
    "import numpy as np\n",
    "import pandas"
   ]
  },
  {
   "cell_type": "code",
   "execution_count": 35,
   "metadata": {},
   "outputs": [],
   "source": [
    "X = iris\n",
    "\n",
    "pca = PCA()\n",
    "pca.fit(X)\n",
    "\n",
    "U = np.transpose(pca.components_) # vecteurs propres\n",
    "I = pandas.DataFrame(np.transpose(pca.explained_variance_ratio_), columns=[\"pourcentage\"])  # information véhiculée\n",
    "\n",
    "C = pandas.DataFrame(X @ U, index=X.index) # nouvelles coordonnées"
   ]
  },
  {
   "cell_type": "markdown",
   "metadata": {},
   "source": [
    "### On projette nos données sur les 2 premiers axes"
   ]
  },
  {
   "cell_type": "code",
   "execution_count": 36,
   "metadata": {},
   "outputs": [
    {
     "data": {
      "text/html": [
       "<div>\n",
       "<style scoped>\n",
       "    .dataframe tbody tr th:only-of-type {\n",
       "        vertical-align: middle;\n",
       "    }\n",
       "\n",
       "    .dataframe tbody tr th {\n",
       "        vertical-align: top;\n",
       "    }\n",
       "\n",
       "    .dataframe thead th {\n",
       "        text-align: right;\n",
       "    }\n",
       "</style>\n",
       "<table border=\"1\" class=\"dataframe\">\n",
       "  <thead>\n",
       "    <tr style=\"text-align: right;\">\n",
       "      <th></th>\n",
       "      <th>0</th>\n",
       "      <th>1</th>\n",
       "    </tr>\n",
       "  </thead>\n",
       "  <tbody>\n",
       "    <tr>\n",
       "      <th>0</th>\n",
       "      <td>2.818240</td>\n",
       "      <td>5.646350</td>\n",
       "    </tr>\n",
       "    <tr>\n",
       "      <th>1</th>\n",
       "      <td>2.788223</td>\n",
       "      <td>5.149951</td>\n",
       "    </tr>\n",
       "    <tr>\n",
       "      <th>2</th>\n",
       "      <td>2.613375</td>\n",
       "      <td>5.182003</td>\n",
       "    </tr>\n",
       "    <tr>\n",
       "      <th>3</th>\n",
       "      <td>2.757022</td>\n",
       "      <td>5.008654</td>\n",
       "    </tr>\n",
       "    <tr>\n",
       "      <th>4</th>\n",
       "      <td>2.773649</td>\n",
       "      <td>5.653707</td>\n",
       "    </tr>\n",
       "    <tr>\n",
       "      <th>...</th>\n",
       "      <td>...</td>\n",
       "      <td>...</td>\n",
       "    </tr>\n",
       "    <tr>\n",
       "      <th>145</th>\n",
       "      <td>7.446475</td>\n",
       "      <td>5.514485</td>\n",
       "    </tr>\n",
       "    <tr>\n",
       "      <th>146</th>\n",
       "      <td>7.029532</td>\n",
       "      <td>4.951636</td>\n",
       "    </tr>\n",
       "    <tr>\n",
       "      <th>147</th>\n",
       "      <td>7.266711</td>\n",
       "      <td>5.405811</td>\n",
       "    </tr>\n",
       "    <tr>\n",
       "      <th>148</th>\n",
       "      <td>7.403307</td>\n",
       "      <td>5.443581</td>\n",
       "    </tr>\n",
       "    <tr>\n",
       "      <th>149</th>\n",
       "      <td>6.892554</td>\n",
       "      <td>5.044292</td>\n",
       "    </tr>\n",
       "  </tbody>\n",
       "</table>\n",
       "<p>150 rows × 2 columns</p>\n",
       "</div>"
      ],
      "text/plain": [
       "            0         1\n",
       "0    2.818240  5.646350\n",
       "1    2.788223  5.149951\n",
       "2    2.613375  5.182003\n",
       "3    2.757022  5.008654\n",
       "4    2.773649  5.653707\n",
       "..        ...       ...\n",
       "145  7.446475  5.514485\n",
       "146  7.029532  4.951636\n",
       "147  7.266711  5.405811\n",
       "148  7.403307  5.443581\n",
       "149  6.892554  5.044292\n",
       "\n",
       "[150 rows x 2 columns]"
      ]
     },
     "execution_count": 36,
     "metadata": {},
     "output_type": "execute_result"
    }
   ],
   "source": [
    "data = C.iloc[:, [0, 1]]\n",
    "\n",
    "data"
   ]
  },
  {
   "cell_type": "code",
   "execution_count": 37,
   "metadata": {},
   "outputs": [
    {
     "data": {
      "text/plain": [
       "0    float64\n",
       "1    float64\n",
       "dtype: object"
      ]
     },
     "execution_count": 37,
     "metadata": {},
     "output_type": "execute_result"
    }
   ],
   "source": [
    "data.dtypes"
   ]
  },
  {
   "cell_type": "markdown",
   "metadata": {},
   "source": [
    "### On représente graphiquement le résultat"
   ]
  },
  {
   "cell_type": "markdown",
   "metadata": {},
   "source": [
    "**bug** : avec la version actuelle de seaborn, les noms de colonnes doivent être des `str` (sinon la designation d'une colonne comme axe (dans le sns.scatterplot ne fonctionne pas).\n",
    "\n",
    "On renomme donc les colonnes par des `str`."
   ]
  },
  {
   "cell_type": "code",
   "execution_count": 38,
   "metadata": {},
   "outputs": [
    {
     "data": {
      "text/plain": [
       "array([0, 1])"
      ]
     },
     "execution_count": 38,
     "metadata": {},
     "output_type": "execute_result"
    }
   ],
   "source": [
    "data.columns.values"
   ]
  },
  {
   "cell_type": "code",
   "execution_count": 39,
   "metadata": {},
   "outputs": [],
   "source": [
    "data.columns = (str(x) for x in data.columns)"
   ]
  },
  {
   "cell_type": "code",
   "execution_count": 40,
   "metadata": {},
   "outputs": [
    {
     "data": {
      "text/plain": [
       "array(['0', '1'], dtype=object)"
      ]
     },
     "execution_count": 40,
     "metadata": {},
     "output_type": "execute_result"
    }
   ],
   "source": [
    "data.columns.values"
   ]
  },
  {
   "cell_type": "code",
   "execution_count": 41,
   "metadata": {},
   "outputs": [],
   "source": [
    "import matplotlib.pyplot as plt\n",
    "import seaborn as sns\n",
    "\n",
    "sns.set()\n",
    "\n",
    "current_palette = sns.color_palette()"
   ]
  },
  {
   "cell_type": "code",
   "execution_count": 42,
   "metadata": {},
   "outputs": [
    {
     "data": {
      "image/png": "[encoded data removed]",
      "text/plain": [
       "<Figure size 720x720 with 1 Axes>"
      ]
     },
     "metadata": {},
     "output_type": "display_data"
    }
   ],
   "source": [
    "fig, ax = plt.subplots(figsize=(10, 10))\n",
    "\n",
    "sns.scatterplot(x='0', \n",
    "                y='1', \n",
    "                data=data,\n",
    "                legend=False,\n",
    "                hue = [0] * 50 + [1] * 50 + [2] * 50,\n",
    "                palette=current_palette[:3],\n",
    "                ax=ax)\n",
    "\n",
    "\n",
    "plt.show()"
   ]
  },
  {
   "cell_type": "markdown",
   "metadata": {},
   "source": [
    "## Méthode 2 : le hasard"
   ]
  },
  {
   "cell_type": "markdown",
   "metadata": {},
   "source": [
    "Cela peut sembler idiot, mais sur des données de grandes dimensions c'est (prouvé) assez efficace."
   ]
  },
  {
   "cell_type": "markdown",
   "metadata": {},
   "source": [
    "On utilise un module de sklearn https://scikit-learn.org/stable/modules/random_projection.html"
   ]
  },
  {
   "cell_type": "markdown",
   "metadata": {},
   "source": [
    "### On choisi ici 2 nouveaux axes aléatoires"
   ]
  },
  {
   "cell_type": "code",
   "execution_count": 43,
   "metadata": {},
   "outputs": [],
   "source": [
    "from sklearn import random_projection\n",
    "\n",
    "rp = random_projection.SparseRandomProjection(n_components=2, random_state=42)"
   ]
  },
  {
   "cell_type": "markdown",
   "metadata": {},
   "source": [
    "### On projette nos données dessus"
   ]
  },
  {
   "cell_type": "code",
   "execution_count": 44,
   "metadata": {},
   "outputs": [
    {
     "data": {
      "text/html": [
       "<div>\n",
       "<style scoped>\n",
       "    .dataframe tbody tr th:only-of-type {\n",
       "        vertical-align: middle;\n",
       "    }\n",
       "\n",
       "    .dataframe tbody tr th {\n",
       "        vertical-align: top;\n",
       "    }\n",
       "\n",
       "    .dataframe thead th {\n",
       "        text-align: right;\n",
       "    }\n",
       "</style>\n",
       "<table border=\"1\" class=\"dataframe\">\n",
       "  <thead>\n",
       "    <tr style=\"text-align: right;\">\n",
       "      <th></th>\n",
       "      <th>0</th>\n",
       "      <th>1</th>\n",
       "    </tr>\n",
       "  </thead>\n",
       "  <tbody>\n",
       "    <tr>\n",
       "      <th>0</th>\n",
       "      <td>-3.7</td>\n",
       "      <td>5.1</td>\n",
       "    </tr>\n",
       "    <tr>\n",
       "      <th>1</th>\n",
       "      <td>-3.2</td>\n",
       "      <td>4.6</td>\n",
       "    </tr>\n",
       "    <tr>\n",
       "      <th>2</th>\n",
       "      <td>-3.4</td>\n",
       "      <td>4.7</td>\n",
       "    </tr>\n",
       "    <tr>\n",
       "      <th>3</th>\n",
       "      <td>-3.3</td>\n",
       "      <td>4.8</td>\n",
       "    </tr>\n",
       "    <tr>\n",
       "      <th>4</th>\n",
       "      <td>-3.8</td>\n",
       "      <td>5.2</td>\n",
       "    </tr>\n",
       "    <tr>\n",
       "      <th>...</th>\n",
       "      <td>...</td>\n",
       "      <td>...</td>\n",
       "    </tr>\n",
       "    <tr>\n",
       "      <th>145</th>\n",
       "      <td>-5.3</td>\n",
       "      <td>10.5</td>\n",
       "    </tr>\n",
       "    <tr>\n",
       "      <th>146</th>\n",
       "      <td>-4.4</td>\n",
       "      <td>9.4</td>\n",
       "    </tr>\n",
       "    <tr>\n",
       "      <th>147</th>\n",
       "      <td>-5.0</td>\n",
       "      <td>10.2</td>\n",
       "    </tr>\n",
       "    <tr>\n",
       "      <th>148</th>\n",
       "      <td>-5.7</td>\n",
       "      <td>11.1</td>\n",
       "    </tr>\n",
       "    <tr>\n",
       "      <th>149</th>\n",
       "      <td>-4.8</td>\n",
       "      <td>9.9</td>\n",
       "    </tr>\n",
       "  </tbody>\n",
       "</table>\n",
       "<p>150 rows × 2 columns</p>\n",
       "</div>"
      ],
      "text/plain": [
       "       0     1\n",
       "0   -3.7   5.1\n",
       "1   -3.2   4.6\n",
       "2   -3.4   4.7\n",
       "3   -3.3   4.8\n",
       "4   -3.8   5.2\n",
       "..   ...   ...\n",
       "145 -5.3  10.5\n",
       "146 -4.4   9.4\n",
       "147 -5.0  10.2\n",
       "148 -5.7  11.1\n",
       "149 -4.8   9.9\n",
       "\n",
       "[150 rows x 2 columns]"
      ]
     },
     "execution_count": 44,
     "metadata": {},
     "output_type": "execute_result"
    }
   ],
   "source": [
    "iris_random = rp.fit_transform(iris)\n",
    "\n",
    "\n",
    "iris_random = pandas.DataFrame(iris_random)\n",
    "\n",
    "iris_random"
   ]
  },
  {
   "cell_type": "markdown",
   "metadata": {},
   "source": [
    "### On représente graphiquement le résultat"
   ]
  },
  {
   "cell_type": "code",
   "execution_count": 45,
   "metadata": {},
   "outputs": [],
   "source": [
    "data = iris_random\n",
    "\n",
    "data.columns = (str(x) for x in data.columns) # pour ce fichu bug"
   ]
  },
  {
   "cell_type": "code",
   "execution_count": 46,
   "metadata": {},
   "outputs": [
    {
     "data": {
      "image/png": "[encoded data removed]",
      "text/plain": [
       "<Figure size 720x720 with 1 Axes>"
      ]
     },
     "metadata": {},
     "output_type": "display_data"
    }
   ],
   "source": [
    "data = iris_random\n",
    "\n",
    "fig, ax = plt.subplots(figsize=(10, 10))\n",
    "\n",
    "sns.scatterplot(x=\"0\", \n",
    "                y=\"1\", \n",
    "                data=data,\n",
    "                legend=False,\n",
    "                hue = [0] * 50 + [1] * 50 + [2] * 50,\n",
    "                palette=current_palette[:3],\n",
    "                ax=ax)\n",
    "plt.show()"
   ]
  },
  {
   "cell_type": "markdown",
   "metadata": {},
   "source": [
    "## Méthode 3 : le MDS classique"
   ]
  },
  {
   "cell_type": "markdown",
   "metadata": {},
   "source": [
    "Nos données sont ici décrites par une distance (pas forcément euclidienne) et on veut trouver $k$ axes telle que cette distance corresponde à la distance euclienne de points sur ces $k$ axes. \n",
    "\n",
    "voir : https://fr.wikipedia.org/wiki/Positionnement_multidimensionnel\n"
   ]
  },
  {
   "cell_type": "markdown",
   "metadata": {},
   "source": [
    "Ici nos iris sont décritent dans un espace à 4 dimensions. \n",
    "\n",
    "On va commencer par déterminer une distance entre nos iris. Nous allons utiliser la distance euclidienne mais il y en a plein d'autres de possible : \n",
    "\n",
    "https://scikit-learn.org/stable/modules/classes.html#sklearn-metrics-metrics\n",
    "\n",
    "voir aussi https://towardsdatascience.com/3-basic-distance-measurement-in-text-mining-5852becff1d7 pour les 3 distances les plus utilisées (la dernière va vous surprendre)\n"
   ]
  },
  {
   "cell_type": "markdown",
   "metadata": {},
   "source": [
    "### Distance euclidienne entre nos données"
   ]
  },
  {
   "cell_type": "code",
   "execution_count": 47,
   "metadata": {},
   "outputs": [
    {
     "data": {
      "text/plain": [
       "array([[0.        , 0.53851648, 0.50990195, ..., 4.45982062, 4.65080638,\n",
       "        4.14004831],\n",
       "       [0.53851648, 0.        , 0.3       , ..., 4.49888875, 4.71805044,\n",
       "        4.15331193],\n",
       "       [0.50990195, 0.3       , 0.        , ..., 4.66154481, 4.84871117,\n",
       "        4.29883705],\n",
       "       ...,\n",
       "       [4.45982062, 4.49888875, 4.66154481, ..., 0.        , 0.6164414 ,\n",
       "        0.64031242],\n",
       "       [4.65080638, 4.71805044, 4.84871117, ..., 0.6164414 , 0.        ,\n",
       "        0.76811457],\n",
       "       [4.14004831, 4.15331193, 4.29883705, ..., 0.64031242, 0.76811457,\n",
       "        0.        ]])"
      ]
     },
     "execution_count": 47,
     "metadata": {},
     "output_type": "execute_result"
    }
   ],
   "source": [
    "from sklearn.metrics import euclidean_distances\n",
    "\n",
    "d = euclidean_distances(iris)\n",
    "\n",
    "d"
   ]
  },
  {
   "cell_type": "code",
   "execution_count": 48,
   "metadata": {},
   "outputs": [
    {
     "data": {
      "text/plain": [
       "0.7681145747868631"
      ]
     },
     "execution_count": 48,
     "metadata": {},
     "output_type": "execute_result"
    }
   ],
   "source": [
    "# c'est une liste de liste. Par exemple distance entre l'élément 0 et l'élément 42\n",
    "d[0][42]"
   ]
  },
  {
   "cell_type": "code",
   "execution_count": 49,
   "metadata": {},
   "outputs": [
    {
     "data": {
      "text/plain": [
       "0.7681145747868631"
      ]
     },
     "execution_count": 49,
     "metadata": {},
     "output_type": "execute_result"
    }
   ],
   "source": [
    "# ou au format numpy\n",
    "\n",
    "d[0, 42]"
   ]
  },
  {
   "cell_type": "markdown",
   "metadata": {},
   "source": [
    "On cherche ensuite 2 dimensions pour les quelles cette distance serait bien conservée\n",
    "\n",
    "https://scikit-learn.org/stable/modules/generated/sklearn.manifold.MDS.html#sklearn.manifold.MDS"
   ]
  },
  {
   "cell_type": "markdown",
   "metadata": {},
   "source": [
    "### On trouve 2 axes permettant de recréer la distance de façon approchée"
   ]
  },
  {
   "cell_type": "code",
   "execution_count": 50,
   "metadata": {},
   "outputs": [],
   "source": [
    "from sklearn import manifold"
   ]
  },
  {
   "cell_type": "code",
   "execution_count": 51,
   "metadata": {},
   "outputs": [
    {
     "data": {
      "text/plain": [
       "array([[-1.65615143, -2.14786901],\n",
       "       [-2.04627141, -1.80908026],\n",
       "       [-2.11833775, -1.99075062],\n",
       "       [-2.15340722, -1.74814279],\n",
       "       [-1.67260438, -2.20114426],\n",
       "       [-1.05826046, -2.16234039],\n",
       "       [-2.04374725, -1.99661049],\n",
       "       [-1.72253333, -1.99806231],\n",
       "       [-2.425807  , -1.69172704],\n",
       "       [-1.96062839, -1.8314505 ],\n",
       "       [-1.28789133, -2.25223258],\n",
       "       [-1.81331003, -1.89059597],\n",
       "       [-2.13127173, -1.82920586],\n",
       "       [-2.6128236 , -1.9850166 ],\n",
       "       [-1.02563513, -2.73504443],\n",
       "       [-2.44454437, -1.18379643],\n",
       "       [-1.24923064, -2.46672708],\n",
       "       [-1.63540294, -2.11929316],\n",
       "       [-0.90873826, -2.19199204],\n",
       "       [-1.4343006 , -2.2393744 ],\n",
       "       [-1.32490629, -1.92700183],\n",
       "       [-1.45691897, -2.14666129],\n",
       "       [-2.13447603, -2.45746487],\n",
       "       [-1.52996979, -1.72034894],\n",
       "       [-1.70211168, -1.62002392],\n",
       "       [-1.88577369, -1.6597922 ],\n",
       "       [-1.62692432, -1.86479618],\n",
       "       [-1.53998949, -2.08822601],\n",
       "       [-1.62705166, -2.1114782 ],\n",
       "       [-1.98276791, -1.74676183],\n",
       "       [-1.95151678, -1.71274176],\n",
       "       [-1.36841857, -2.02680566],\n",
       "       [-1.22416249, -2.52870372],\n",
       "       [-1.03783118, -2.6355322 ],\n",
       "       [-1.93198147, -1.80513877],\n",
       "       [-1.96388362, -2.12441407],\n",
       "       [-1.37229323, -2.35787964],\n",
       "       [-1.76556652, -2.22455662],\n",
       "       [-2.42997785, -1.82158577],\n",
       "       [-1.65439859, -2.01421869],\n",
       "       [-1.75138639, -2.18156919],\n",
       "       [-2.75925013, -1.3156437 ],\n",
       "       [-2.35300292, -1.93255687],\n",
       "       [-1.53043364, -1.85912579],\n",
       "       [-1.16606166, -1.9327073 ],\n",
       "       [-2.09177987, -1.76075438],\n",
       "       [-1.3910236 , -2.20179115],\n",
       "       [-2.15042334, -1.89647283],\n",
       "       [-1.36259669, -2.23250599],\n",
       "       [-1.81650229, -2.01715509],\n",
       "       [ 1.47861054,  0.31844523],\n",
       "       [ 0.90045851,  0.42430383],\n",
       "       [ 1.47229222,  0.57382832],\n",
       "       [-0.46140889,  0.68076259],\n",
       "       [ 0.92639232,  0.58333548],\n",
       "       [ 0.14779038,  0.73960222],\n",
       "       [ 0.96636675,  0.61678919],\n",
       "       [-1.22807688,  0.15432649],\n",
       "       [ 1.03069133,  0.4114442 ],\n",
       "       [-0.57557037,  0.55488798],\n",
       "       [-1.26520708,  0.52272876],\n",
       "       [ 0.27879021,  0.44605061],\n",
       "       [ 0.19606333,  0.02189631],\n",
       "       [ 0.62083987,  0.75292472],\n",
       "       [-0.28179108,  0.0105289 ],\n",
       "       [ 1.06782351,  0.22902894],\n",
       "       [ 0.12896771,  0.81881213],\n",
       "       [-0.0122823 ,  0.29339916],\n",
       "       [ 0.15831493,  1.14189925],\n",
       "       [-0.36310526,  0.3852028 ],\n",
       "       [ 0.57604359,  1.0501642 ],\n",
       "       [ 0.27538717,  0.202388  ],\n",
       "       [ 0.81961684,  0.97246085],\n",
       "       [ 0.55353584,  0.70958066],\n",
       "       [ 0.70891283,  0.2667022 ],\n",
       "       [ 0.96179779,  0.29010814],\n",
       "       [ 1.30090376,  0.53288248],\n",
       "       [ 1.33967682,  0.84537878],\n",
       "       [ 0.45355413,  0.6873071 ],\n",
       "       [-0.4520568 , -0.01869534],\n",
       "       [-0.53464425,  0.39627187],\n",
       "       [-0.61244113,  0.30220523],\n",
       "       [-0.08904091,  0.24563786],\n",
       "       [ 0.66664366,  1.26434993],\n",
       "       [-0.07363108,  0.92740701],\n",
       "       [ 0.69395069,  0.46298064],\n",
       "       [ 1.20707211,  0.5077868 ],\n",
       "       [ 0.66796362,  0.34001994],\n",
       "       [-0.05454657,  0.40332325],\n",
       "       [-0.35159483,  0.55745699],\n",
       "       [-0.16692259,  0.79436481],\n",
       "       [ 0.60290062,  0.64812396],\n",
       "       [-0.09129568,  0.36616954],\n",
       "       [-1.2033904 ,  0.19318987],\n",
       "       [-0.09804326,  0.58511024],\n",
       "       [ 0.07359242,  0.38997826],\n",
       "       [ 0.05003073,  0.47951326],\n",
       "       [ 0.50667846,  0.37625502],\n",
       "       [-1.17451359, -0.12673397],\n",
       "       [-0.03108804,  0.44509429],\n",
       "       [ 1.53017674,  2.20183121],\n",
       "       [ 0.55211555,  1.45523013],\n",
       "       [ 2.13578301,  1.57003001],\n",
       "       [ 1.19983416,  1.59312844],\n",
       "       [ 1.586442  ,  1.77196533],\n",
       "       [ 2.86765347,  1.96769144],\n",
       "       [-0.57465676,  1.3116218 ],\n",
       "       [ 2.48730128,  1.70058034],\n",
       "       [ 1.49596887,  1.84656052],\n",
       "       [ 2.68526237,  1.4451645 ],\n",
       "       [ 1.34529391,  1.05234021],\n",
       "       [ 1.12587602,  1.40288879],\n",
       "       [ 1.71589404,  1.34877096],\n",
       "       [ 0.35567632,  1.55382925],\n",
       "       [ 0.54504021,  1.77805094],\n",
       "       [ 1.44096213,  1.35749873],\n",
       "       [ 1.37935437,  1.3798991 ],\n",
       "       [ 2.73895223,  2.57155009],\n",
       "       [ 2.94289326,  2.50291553],\n",
       "       [ 0.29018966,  1.49691822],\n",
       "       [ 1.94848752,  1.53742934],\n",
       "       [ 0.30673761,  1.4151035 ],\n",
       "       [ 3.01858469,  1.95860907],\n",
       "       [ 0.88625854,  1.07210362],\n",
       "       [ 1.80711302,  1.47182762],\n",
       "       [ 2.3279736 ,  1.36383076],\n",
       "       [ 0.77912276,  1.00031589],\n",
       "       [ 0.78204509,  1.0668896 ],\n",
       "       [ 1.32797357,  1.67827621],\n",
       "       [ 2.21616911,  1.11402913],\n",
       "       [ 2.47054681,  1.5513308 ],\n",
       "       [ 3.28858419,  1.30449218],\n",
       "       [ 1.34195391,  1.72604132],\n",
       "       [ 0.97999988,  1.0385545 ],\n",
       "       [ 0.77517425,  1.77705454],\n",
       "       [ 2.77643878,  1.5911437 ],\n",
       "       [ 1.31845535,  1.91818675],\n",
       "       [ 1.32317289,  1.39585532],\n",
       "       [ 0.65069928,  1.02498049],\n",
       "       [ 1.78100453,  1.2103233 ],\n",
       "       [ 1.73556596,  1.61459358],\n",
       "       [ 1.76947137,  0.97531686],\n",
       "       [ 0.55211554,  1.45523013],\n",
       "       [ 1.93740344,  1.74986449],\n",
       "       [ 1.80085864,  1.77899849],\n",
       "       [ 1.60619424,  1.17724873],\n",
       "       [ 0.84429556,  1.31963656],\n",
       "       [ 1.3130393 ,  1.19404042],\n",
       "       [ 1.36765449,  1.52163308],\n",
       "       [ 0.69415945,  1.30648612]])"
      ]
     },
     "execution_count": 51,
     "metadata": {},
     "output_type": "execute_result"
    }
   ],
   "source": [
    "mds = manifold.MDS(n_components=2, max_iter=3000,\n",
    "                   dissimilarity=\"precomputed\", n_jobs=1)\n",
    "\n",
    "pos = mds.fit(d).embedding_\n",
    "pos"
   ]
  },
  {
   "cell_type": "markdown",
   "metadata": {},
   "source": [
    "### On représente graphiquement le résultat"
   ]
  },
  {
   "cell_type": "code",
   "execution_count": 52,
   "metadata": {},
   "outputs": [
    {
     "data": {
      "image/png": "[encoded data removed]",
      "text/plain": [
       "<Figure size 720x720 with 1 Axes>"
      ]
     },
     "metadata": {},
     "output_type": "display_data"
    }
   ],
   "source": [
    "data = pandas.DataFrame(pos)\n",
    "data.columns=(str(x) for x in data.columns) # pour ce fichu bug\n",
    "\n",
    "fig, ax = plt.subplots(figsize=(10, 10))\n",
    "\n",
    "sns.scatterplot(x='0', \n",
    "                y='1', \n",
    "                data=data,\n",
    "                legend=False,\n",
    "                hue = [0] * 50 + [1] * 50 + [2] * 50,\n",
    "                palette=current_palette[:3],\n",
    "                ax=ax)\n",
    "plt.show()"
   ]
  },
  {
   "cell_type": "markdown",
   "metadata": {},
   "source": [
    "## Méthode 4 : isomap"
   ]
  },
  {
   "cell_type": "markdown",
   "metadata": {},
   "source": [
    "On essaie non pas de conserver toutes les distances mais seulement les $k$ plus proches.\n",
    "\n",
    "https://scikit-learn.org/stable/modules/generated/sklearn.manifold.Isomap.html#sklearn.manifold.Isomap"
   ]
  },
  {
   "cell_type": "markdown",
   "metadata": {},
   "source": [
    "### On trouve 2 axes permettant de recréer la distance des 10 plus proches voisins de façon approchée"
   ]
  },
  {
   "cell_type": "code",
   "execution_count": 53,
   "metadata": {},
   "outputs": [
    {
     "name": "stderr",
     "output_type": "stream",
     "text": [
      "/opt/anaconda3/lib/python3.9/site-packages/sklearn/manifold/_isomap.py:304: UserWarning: The number of connected components of the neighbors graph is 2 > 1. Completing the graph to fit Isomap might be slow. Increase the number of neighbors to avoid this issue.\n",
      "  self._fit_transform(X)\n",
      "/opt/anaconda3/lib/python3.9/site-packages/scipy/sparse/_index.py:82: SparseEfficiencyWarning: Changing the sparsity structure of a csr_matrix is expensive. lil_matrix is more efficient.\n",
      "  self._set_intXint(row, col, x.flat[0])\n"
     ]
    },
    {
     "data": {
      "text/plain": [
       "array([[-3.14007806e+00, -1.13626428e-01],\n",
       "       [-3.36113178e+00, -1.61869662e-01],\n",
       "       [-3.57844630e+00, -1.85398046e-01],\n",
       "       [-3.47609782e+00, -1.75179610e-01],\n",
       "       [-3.20756210e+00, -1.05742298e-01],\n",
       "       [-3.49910122e+00,  1.79337999e-02],\n",
       "       [-3.39222846e+00, -1.59988199e-01],\n",
       "       [-3.02221336e+00, -1.33103474e-01],\n",
       "       [-3.74924272e+00, -1.93470341e-01],\n",
       "       [-3.31311114e+00, -1.58020624e-01],\n",
       "       [-3.31058555e+00, -4.08718659e-02],\n",
       "       [-3.10673741e+00, -1.43556437e-01],\n",
       "       [-3.47541889e+00, -1.73619317e-01],\n",
       "       [-3.96000139e+00, -2.19055472e-01],\n",
       "       [-3.84004606e+00,  7.12590261e-02],\n",
       "       [-4.01558466e+00,  1.03935202e-01],\n",
       "       [-3.52098406e+00,  1.66855665e-02],\n",
       "       [-3.04388280e+00, -1.12876965e-01],\n",
       "       [-3.49275450e+00,  6.54268051e-02],\n",
       "       [-3.28223942e+00, -6.14564391e-02],\n",
       "       [-3.04225462e+00, -4.67918274e-02],\n",
       "       [-3.14669155e+00, -6.96481022e-02],\n",
       "       [-3.67099640e+00, -1.54290833e-01],\n",
       "       [-2.64309273e+00, -1.10261900e-01],\n",
       "       [-3.08524336e+00, -1.12253547e-01],\n",
       "       [-3.40364001e+00, -1.52656485e-01],\n",
       "       [-2.83935194e+00, -1.22128822e-01],\n",
       "       [-3.05356248e+00, -1.00128974e-01],\n",
       "       [-3.07595913e+00, -1.12188651e-01],\n",
       "       [-3.31416633e+00, -1.60003229e-01],\n",
       "       [-3.38876214e+00, -1.64946940e-01],\n",
       "       [-2.99800807e+00, -5.17553219e-02],\n",
       "       [-3.62579659e+00, -1.57865731e-02],\n",
       "       [-3.75699063e+00,  4.89184094e-02],\n",
       "       [-3.29564722e+00, -1.59025873e-01],\n",
       "       [-3.27592429e+00, -1.46720822e-01],\n",
       "       [-3.30212368e+00, -4.45098455e-02],\n",
       "       [-3.27301704e+00, -1.22615789e-01],\n",
       "       [-3.75749075e+00, -1.98945126e-01],\n",
       "       [-3.00919049e+00, -1.23338361e-01],\n",
       "       [-3.17886402e+00, -1.23327966e-01],\n",
       "       [-4.11630421e+00, -2.01329930e-01],\n",
       "       [-3.69125346e+00, -1.92374991e-01],\n",
       "       [-2.88474051e+00, -7.93260946e-02],\n",
       "       [-3.13344038e+00, -2.19524725e-03],\n",
       "       [-3.48206329e+00, -1.73932544e-01],\n",
       "       [-3.36260110e+00, -6.29408491e-02],\n",
       "       [-3.52867739e+00, -1.80861944e-01],\n",
       "       [-3.25825751e+00, -5.62999555e-02],\n",
       "       [-3.06734884e+00, -1.40058616e-01],\n",
       "       [ 1.74055555e+00,  3.98834230e-02],\n",
       "       [ 1.33648110e+00,  2.15316422e-01],\n",
       "       [ 1.84926517e+00, -9.93510633e-02],\n",
       "       [ 9.15753226e-02,  3.97348271e-01],\n",
       "       [ 1.41213134e+00,  2.04295463e-02],\n",
       "       [ 7.33709371e-01,  1.06180073e-01],\n",
       "       [ 1.50167771e+00,  4.92333707e-01],\n",
       "       [-7.67968832e-01,  3.59542979e-01],\n",
       "       [ 1.35589813e+00,  7.05825061e-02],\n",
       "       [-5.85664553e-02,  2.33902473e-01],\n",
       "       [-5.69929276e-01,  5.28729204e-01],\n",
       "       [ 7.78566323e-01,  8.70871929e-02],\n",
       "       [ 3.68743795e-01, -8.88509496e-02],\n",
       "       [ 1.21036444e+00,  1.17010918e-01],\n",
       "       [-8.59049436e-02, -8.73287455e-02],\n",
       "       [ 1.36904281e+00, -3.80366248e-02],\n",
       "       [ 8.04613163e-01,  2.97330882e-01],\n",
       "       [ 3.28103397e-01,  1.83535458e-01],\n",
       "       [ 1.13440600e+00, -3.27229890e-02],\n",
       "       [ 3.51949711e-02,  2.52431966e-02],\n",
       "       [ 1.51807962e+00,  3.95213343e-01],\n",
       "       [ 5.80455816e-01,  7.38519668e-02],\n",
       "       [ 1.57289772e+00,  2.09774217e-01],\n",
       "       [ 1.16554534e+00,  2.17787156e-01],\n",
       "       [ 1.01936952e+00, -3.61566137e-02],\n",
       "       [ 1.26870167e+00, -3.42003002e-02],\n",
       "       [ 1.67216011e+00, -1.05648141e-02],\n",
       "       [ 1.94752599e+00, -1.97207876e-01],\n",
       "       [ 1.05656894e+00,  3.69280739e-02],\n",
       "       [-2.21703579e-01, -3.72042882e-02],\n",
       "       [-1.12788122e-01,  8.99078824e-02],\n",
       "       [-2.00910478e-01,  7.25526249e-02],\n",
       "       [ 2.53755096e-01,  4.64364774e-02],\n",
       "       [ 1.88090142e+00,  6.49924364e-01],\n",
       "       [ 7.65608533e-01,  5.48995947e-01],\n",
       "       [ 1.23207931e+00,  4.07183756e-01],\n",
       "       [ 1.62509529e+00, -1.64978973e-01],\n",
       "       [ 9.67374269e-01,  4.70538804e-02],\n",
       "       [ 4.18227614e-01, -9.34231129e-03],\n",
       "       [ 9.70542739e-02,  8.43435342e-02],\n",
       "       [ 4.79855707e-01,  1.99706213e-01],\n",
       "       [ 1.20369111e+00,  3.41206939e-01],\n",
       "       [ 2.71615019e-01,  9.23205222e-02],\n",
       "       [-7.41247020e-01,  2.83352335e-01],\n",
       "       [ 3.97488866e-01,  7.35419620e-02],\n",
       "       [ 5.44316626e-01,  1.53875402e-01],\n",
       "       [ 5.78578408e-01,  6.10872390e-03],\n",
       "       [ 9.22880846e-01,  7.80250732e-02],\n",
       "       [-9.86084430e-01,  3.20681321e-02],\n",
       "       [ 4.37131583e-01, -3.64803473e-03],\n",
       "       [ 3.21523811e+00,  2.92303349e-01],\n",
       "       [ 1.82863400e+00,  1.13515928e+00],\n",
       "       [ 3.13354967e+00, -5.40425756e-01],\n",
       "       [ 2.25150768e+00, -1.68716063e-01],\n",
       "       [ 2.74921494e+00, -1.39340708e-01],\n",
       "       [ 3.96064290e+00, -7.97215253e-01],\n",
       "       [ 5.30598697e-01,  1.06616673e+00],\n",
       "       [ 3.59327308e+00, -5.30312496e-01],\n",
       "       [ 2.71515912e+00, -1.96666006e-01],\n",
       "       [ 3.64892264e+00, -4.07725581e-01],\n",
       "       [ 2.15342812e+00, -1.24522702e-01],\n",
       "       [ 2.11658813e+00,  1.93413850e-02],\n",
       "       [ 2.64770649e+00, -3.54596271e-01],\n",
       "       [ 1.60970495e+00,  8.94965096e-01],\n",
       "       [ 2.03849197e+00,  8.67050374e-01],\n",
       "       [ 2.50490296e+00,  1.10839492e-01],\n",
       "       [ 2.50200136e+00, -5.53530941e-02],\n",
       "       [ 4.37790147e+00, -8.56675724e-01],\n",
       "       [ 4.32853306e+00, -8.63415683e-01],\n",
       "       [ 1.59876387e+00,  6.10716615e-01],\n",
       "       [ 2.99379439e+00, -3.49197468e-01],\n",
       "       [ 1.53564680e+00,  8.98511030e-01],\n",
       "       [ 4.12152722e+00, -7.64233383e-01],\n",
       "       [ 1.71039845e+00, -5.27033718e-02],\n",
       "       [ 3.01397792e+00, -9.19690177e-02],\n",
       "       [ 3.35715985e+00, -5.60281950e-01],\n",
       "       [ 1.53680991e+00,  1.52963288e-02],\n",
       "       [ 1.62243179e+00,  1.16105003e-01],\n",
       "       [ 2.47873407e+00, -2.79252841e-02],\n",
       "       [ 3.27805851e+00, -3.57298901e-01],\n",
       "       [ 3.54493352e+00, -4.98447945e-01],\n",
       "       [ 4.32815738e+00, -8.78765216e-01],\n",
       "       [ 2.53548729e+00,  5.75445839e-03],\n",
       "       [ 1.66692713e+00,  1.09198958e-01],\n",
       "       [ 2.19312335e+00,  3.87312832e-01],\n",
       "       [ 3.76926449e+00, -7.19608076e-01],\n",
       "       [ 2.86757423e+00,  1.98523477e-01],\n",
       "       [ 2.49676093e+00, -2.37695322e-02],\n",
       "       [ 1.47953239e+00,  1.39200772e-01],\n",
       "       [ 2.66863345e+00, -2.97929228e-01],\n",
       "       [ 2.96102778e+00, -4.41723177e-02],\n",
       "       [ 2.58595397e+00, -1.32858018e-01],\n",
       "       [ 1.82863400e+00,  1.13515928e+00],\n",
       "       [ 3.12197292e+00, -2.57634609e-01],\n",
       "       [ 3.04973740e+00, -4.35281976e-02],\n",
       "       [ 2.55196934e+00, -8.51944676e-02],\n",
       "       [ 1.87428597e+00,  2.49777934e-01],\n",
       "       [ 2.21716799e+00, -2.25563225e-01],\n",
       "       [ 2.65747701e+00,  2.20560275e-01],\n",
       "       [ 1.71480100e+00,  6.93403213e-01]])"
      ]
     },
     "execution_count": 53,
     "metadata": {},
     "output_type": "execute_result"
    }
   ],
   "source": [
    "mds = manifold.Isomap(n_neighbors=10,\n",
    "                      n_components=2, max_iter=3000,                      \n",
    "                      metric=\"precomputed\")\n",
    "\n",
    "pos = mds.fit(d).embedding_\n",
    "pos"
   ]
  },
  {
   "cell_type": "markdown",
   "metadata": {},
   "source": [
    "### On représente graphiquement le résultat\n"
   ]
  },
  {
   "cell_type": "code",
   "execution_count": 54,
   "metadata": {},
   "outputs": [
    {
     "ename": "NameError",
     "evalue": "name 'pd' is not defined",
     "output_type": "error",
     "traceback": [
      "\u001b[0;31m---------------------------------------------------------------------------\u001b[0m",
      "\u001b[0;31mNameError\u001b[0m                                 Traceback (most recent call last)",
      "Input \u001b[0;32mIn [54]\u001b[0m, in \u001b[0;36m<cell line: 1>\u001b[0;34m()\u001b[0m\n\u001b[0;32m----> 1\u001b[0m data \u001b[38;5;241m=\u001b[39m \u001b[43mpd\u001b[49m\u001b[38;5;241m.\u001b[39mDataFrame(pos)\n\u001b[1;32m      2\u001b[0m data\u001b[38;5;241m.\u001b[39mcolumns \u001b[38;5;241m=\u001b[39m (\u001b[38;5;28mstr\u001b[39m(x) \u001b[38;5;28;01mfor\u001b[39;00m x \u001b[38;5;129;01min\u001b[39;00m data\u001b[38;5;241m.\u001b[39mcolumns) \u001b[38;5;66;03m# pour ce fichu bug\u001b[39;00m\n\u001b[1;32m      4\u001b[0m fig, ax \u001b[38;5;241m=\u001b[39m plt\u001b[38;5;241m.\u001b[39msubplots(figsize\u001b[38;5;241m=\u001b[39m(\u001b[38;5;241m10\u001b[39m, \u001b[38;5;241m10\u001b[39m))\n",
      "\u001b[0;31mNameError\u001b[0m: name 'pd' is not defined"
     ]
    }
   ],
   "source": [
    "data = pandas.DataFrame(pos)\n",
    "data.columns = (str(x) for x in data.columns) # pour ce fichu bug\n",
    "\n",
    "fig, ax = plt.subplots(figsize=(10, 10))\n",
    "\n",
    "sns.scatterplot(x='0', \n",
    "                y='1', \n",
    "                data=data,\n",
    "                legend=False,\n",
    "                hue = [0] * 50 + [1] * 50 + [2] * 50,\n",
    "                palette=current_palette[:3],\n",
    "                ax=ax)\n",
    "plt.show()"
   ]
  },
  {
   "cell_type": "code",
   "execution_count": null,
   "metadata": {},
   "outputs": [],
   "source": []
  }
 ],
 "metadata": {
  "kernelspec": {
   "display_name": "Python 3 (ipykernel)",
   "language": "python",
   "name": "python3"
  },
  "language_info": {
   "codemirror_mode": {
    "name": "ipython",
    "version": 3
   },
   "file_extension": ".py",
   "mimetype": "text/x-python",
   "name": "python",
   "nbconvert_exporter": "python",
   "pygments_lexer": "ipython3",
   "version": "3.9.12"
  },
  "vscode": {
   "interpreter": {
    "hash": "40d3a090f54c6569ab1632332b64b2c03c39dcf918b08424e98f38b5ae0af88f"
   }
  }
 },
 "nbformat": 4,
 "nbformat_minor": 2
}
