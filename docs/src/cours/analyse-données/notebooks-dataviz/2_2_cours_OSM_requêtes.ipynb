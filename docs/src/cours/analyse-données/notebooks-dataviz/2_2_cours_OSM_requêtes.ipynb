{
 "cells": [
  {
   "cell_type": "markdown",
   "id": "2364d690-2844-4e51-b8e8-7d90e6dc061c",
   "metadata": {},
   "source": [
    "# requêtes Openstreetmap\n",
    "\n",
    "Nous allons effectuer des requêtes spécifique à l'API d'OSM pour récupérer nos données au format json.\n",
    "\n",
    "Notre but sera ici de compter les pizzéria marseillaises référencées dans OSM et de les représenter sur une carte chloroplète."
   ]
  },
  {
   "cell_type": "code",
   "execution_count": null,
   "id": "673e970b-10b4-4797-b1ab-013e25c04a65",
   "metadata": {},
   "outputs": [],
   "source": []
  }
 ],
 "metadata": {
  "kernelspec": {
   "display_name": "Python 3 (ipykernel)",
   "language": "python",
   "name": "python3"
  },
  "language_info": {
   "codemirror_mode": {
    "name": "ipython",
    "version": 3
   },
   "file_extension": ".py",
   "mimetype": "text/x-python",
   "name": "python",
   "nbconvert_exporter": "python",
   "pygments_lexer": "ipython3",
   "version": "3.11.6"
  }
 },
 "nbformat": 4,
 "nbformat_minor": 5
}
