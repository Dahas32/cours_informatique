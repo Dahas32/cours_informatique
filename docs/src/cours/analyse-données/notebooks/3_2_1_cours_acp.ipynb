{
 "cells": [
  {
   "cell_type": "markdown",
   "metadata": {},
   "source": [
    "# Analyse en Composantes Principales\n",
    "\n",
    "\n",
    "L'Analyse en composantes principales est une méthode pour interpréter les données. Elle fonctionne sur des données décrites par par des attributs réels et est basée sur la méthodes des projections vue précédemment.\n",
    "\n",
    "Cette méthode cherche à déterminer des tendances dans les données, et par là des oppositions grand/petit, gauche/droite, etc. Cette méthode est d'autant plus remarquable que ces tendances/oppositions peuvent être quantifiées : les interprétations (toujours subjectives) de nos nos données sont alors soutenus par des valeurs numériques (objectives).\n",
    "\n",
    "Pour illustrer la méthode on utilisera nos (maintenant classiques) iris de fisher."
   ]
  },
  {
   "cell_type": "markdown",
   "metadata": {},
   "source": [
    "## Données : les iris de fisher\n",
    "\n",
    "https://fr.wikipedia.org/wiki/Iris_de_Fisher On a pas besoin des espèces, on veut voir ce qu'il y a dans les données."
   ]
  },
  {
   "cell_type": "code",
   "execution_count": null,
   "metadata": {},
   "outputs": [],
   "source": [
    "import matplotlib.pyplot as plt\n",
    "import seaborn as sns\n",
    "\n",
    "import numpy as np\n",
    "import pandas\n",
    "\n",
    "sns.set()"
   ]
  },
  {
   "cell_type": "code",
   "execution_count": null,
   "metadata": {},
   "outputs": [],
   "source": [
    "data = sns.load_dataset('iris').drop(columns=\"species\")\n",
    "data"
   ]
  },
  {
   "cell_type": "markdown",
   "metadata": {},
   "source": [
    "## Matrice X\n",
    "\n",
    "Nous allons centrer et réduire les données."
   ]
  },
  {
   "cell_type": "code",
   "execution_count": null,
   "metadata": {},
   "outputs": [],
   "source": [
    "from sklearn.preprocessing import StandardScaler\n",
    "\n",
    "scaler = StandardScaler()\n",
    "X = pandas.DataFrame(scaler.fit_transform(data), columns=data.columns, index=data.index)"
   ]
  },
  {
   "cell_type": "code",
   "execution_count": null,
   "metadata": {},
   "outputs": [],
   "source": [
    "X"
   ]
  },
  {
   "cell_type": "markdown",
   "metadata": {},
   "source": [
    "### Caractéristiques initiales 2 à 2\n",
    "\n",
    "Nos données représentent 150 iris selon 4 caractéristiques. Commençons par représenter graphiquement les axes 2 à 2.\n",
    "\n",
    "> **Attention** : [`seaborn.pairplot`](https://seaborn.pydata.org/generated/seaborn.pairplot.html) n'est pas compatible avec les axes de matplotlib."
   ]
  },
  {
   "cell_type": "code",
   "execution_count": null,
   "metadata": {},
   "outputs": [],
   "source": [
    "sns.pairplot(X)\n",
    "\n",
    "plt.show()"
   ]
  },
  {
   "cell_type": "markdown",
   "metadata": {},
   "source": [
    "* La moyenne de chaque variable à 0 signifie que le centre de gravité du nuage est l'origine.\n",
    "* L'écart type de chaque variable est 1 ce qui signifie que les valeurs vont être presque toutes comprisent en -2 et 2"
   ]
  },
  {
   "cell_type": "markdown",
   "metadata": {},
   "source": [
    "Le données se répartissent selon des axes (les attributs).\n",
    "\n",
    "Il arrive que certains axes permettent de déterminer des groupes dans nos données, par exemple ici `petal_length` qui a l'air de séparer nos iris en 2 groupes :\n",
    "\n",
    "* un resserré sur les petites valeurs\n",
    "* un autre plus long prenant les valeurs intermédiaire à grande\n",
    "\n",
    "Mais la plupart du temps, comme par exemple ici `sepal_length`, les données s'étalent tout au long de l'axe. **chaque axe détermine une tendance au sein de nos données** : elle vont de petit à grand selon cet axe.\n",
    "\n",
    "\n",
    "> Nos données étant réduite, **chaque axe explique 1/4 de l'information totale**."
   ]
  },
  {
   "cell_type": "markdown",
   "metadata": {},
   "source": [
    "#### Corrélation\n",
    "\n",
    "La corrélation linéaire permet d'expliquer un axe par rapport à un autre. "
   ]
  },
  {
   "cell_type": "code",
   "execution_count": null,
   "metadata": {},
   "outputs": [],
   "source": [
    "X.corr()"
   ]
  },
  {
   "cell_type": "markdown",
   "metadata": {},
   "source": [
    "On voit que :\n",
    "\n",
    "* la longueur du pétale est très corrélée positivement à sa largeur\n",
    "* la longueur du sépale est corrélée positivement à la largeur et à la longueur du pétale."
   ]
  },
  {
   "cell_type": "markdown",
   "metadata": {},
   "source": [
    "## But de l'analyse en composantes principale\n",
    "\n",
    "Les axes déterminent des tendances au sein des données. La méthode cherche à déterminer les tendances les plus importantes (principales) des données.\n",
    "\n",
    "**Attention** : on ne cherche pas à supprimer des axes initiaux ou a expliquer un axe initial par un autre. On cherche à expliquer nos données en considérant tous nos attributs.\n",
    "\n",
    "En effet, si l'on a choisi de prendre tous ces attributs pour décrire nos données c'est que l'on pense qu'ils sont chacun aussi important l'un que l'autre (le choix des attributs a été une étape antérieure).\n",
    "\n",
    "\n",
    "Pour cela, on cherche les axes maximisant la projection, ceci permettant d'expliquer les données par rapport aux axes."
   ]
  },
  {
   "cell_type": "markdown",
   "metadata": {},
   "source": [
    "### Projections d'inertie maximale\n",
    "\n",
    "On cherche tous les axes maximisant l'inertie."
   ]
  },
  {
   "cell_type": "code",
   "execution_count": null,
   "metadata": {},
   "outputs": [],
   "source": [
    "# https://scikit-learn.org/stable/modules/generated/sklearn.decomposition.PCA.html\n",
    "from sklearn.decomposition import PCA\n",
    "import numpy as np\n",
    "\n",
    "pca = PCA() \n",
    "pca.fit(X)\n",
    "\n",
    "U = np.transpose(pca.components_) # vecteurs propres\n",
    "I = pandas.DataFrame(np.transpose(pca.explained_variance_ratio_), columns=[\"pourcentage\"])  # information véhiculée\n",
    "\n",
    "C = pandas.DataFrame(X @ U, index=X.index) # nouvelles coordonnées\n",
    "\n",
    "corrélations = pandas.DataFrame([[C[facteur].corr(X[column]) for facteur in C] for column in X], index=X.columns)\n",
    "cos2 = (C**2).div((X**2).sum(axis=1), axis='index')"
   ]
  },
  {
   "cell_type": "markdown",
   "metadata": {},
   "source": [
    "### Inertie et information"
   ]
  },
  {
   "cell_type": "markdown",
   "metadata": {},
   "source": [
    "### Inertie totale\n",
    "\n",
    "On a coutume de représenter l'inertie par axe."
   ]
  },
  {
   "cell_type": "code",
   "execution_count": null,
   "metadata": {},
   "outputs": [],
   "source": [
    "I"
   ]
  },
  {
   "cell_type": "markdown",
   "metadata": {},
   "source": [
    "Si les chiffres, c'est bien, une représentation graphique est plus explicite : "
   ]
  },
  {
   "cell_type": "code",
   "execution_count": null,
   "metadata": {},
   "outputs": [],
   "source": [
    "fig, ax = plt.subplots(figsize=(7, 7)) \n",
    "\n",
    "I.plot(ax=ax)\n",
    "\n",
    "plt.title(\"inertie expliquée\")\n",
    "plt.xlabel(\"axes principaux\")\n",
    "plt.ylabel(\"% d'inertie expliquée\")\n",
    "\n",
    "plt.show()"
   ]
  },
  {
   "cell_type": "markdown",
   "metadata": {},
   "source": [
    "L'inertie est bien décroissante, le 1er axe (axe d'index 0) expliquant plus de 70% de l'information, le second (d'index 1) seulement un peu plus de 20%.\n",
    "\n",
    "A eux deux ils expliquent donc plus de 90% de l'information totale ! Pour montrer cela, on va représenter l'inertie cumulée."
   ]
  },
  {
   "cell_type": "code",
   "execution_count": null,
   "metadata": {},
   "outputs": [],
   "source": [
    "I.cumsum()"
   ]
  },
  {
   "cell_type": "code",
   "execution_count": null,
   "metadata": {},
   "outputs": [],
   "source": [
    "fig, ax = plt.subplots(figsize=(7, 7)) \n",
    "\n",
    "I.cumsum().plot(ax=ax)\n",
    "\n",
    "plt.title(\"inertie expliquée cumulée\")\n",
    "plt.xlabel(\"axes principaux\")\n",
    "plt.ylabel(\"% d'inertie expliquée\")\n",
    "\n",
    "plt.show()"
   ]
  },
  {
   "cell_type": "markdown",
   "metadata": {},
   "source": [
    "Le nombre d'axe à garder pour l'analyse peut être déterminé de deux façon :\n",
    "\n",
    "* le pourcentage minimale d'information que l'on veut conserver\n",
    "* chercher un point d'inflexion (annulation de la dérivée seconde) à la courbe d'inertie : l'ajout d'un axe devient inneficace par rapport au gain d'information.\n",
    "\n",
    "Dans notre cas, deux axes permettent d'expliquer à eux seuls 95% de l'information."
   ]
  },
  {
   "cell_type": "markdown",
   "metadata": {},
   "source": [
    "### Interprétation des axes\n",
    "\n",
    "Nous avons décidé de garder les 2 premiers axes. regardons comment les expliquer, en dessinant le cercle des corrélations"
   ]
  },
  {
   "cell_type": "code",
   "execution_count": null,
   "metadata": {},
   "outputs": [],
   "source": [
    "axe_x = 0\n",
    "axe_y = 1\n",
    "\n",
    "couleurs = [sns.color_palette()[3]] * len(corrélations)\n",
    "\n",
    "fig, ax = plt.subplots(figsize=(7, 7)) \n",
    "\n",
    "draw = corrélations.plot.scatter(x=axe_x, y=axe_y, ax=ax, \n",
    "                                 color=couleurs)\n",
    "\n",
    "\n",
    "for index, row in corrélations.iterrows():\n",
    "    draw.annotate(str(index), (row[axe_x], row[axe_y]))\n",
    "\n",
    "draw.add_patch(plt.Circle((0, 0), radius=1, color=(0, 0, 0, .3)))\n",
    "\n",
    "plt.xlim(-1.2, 1.2)\n",
    "plt.ylim(-1.2, 1.2)\n",
    "plt.axvline(0)\n",
    "plt.axhline(0)\n",
    "\n",
    "plt.show()"
   ]
  },
  {
   "cell_type": "markdown",
   "metadata": {},
   "source": [
    "Si l'on regarde les éléments les pls corrélés avec chaque axe :\n",
    "\n",
    "* l'axe 0 (horizontal) s'explique par la longueur et largeur du pétale ainsi que la longueur du sépale\n",
    "* l'axe 1 (vertical) s'explique par la largeur du sépale"
   ]
  },
  {
   "cell_type": "markdown",
   "metadata": {},
   "source": [
    "Si l'on avait cherché à expliquer les axes 2 et 3 qui expliquent respectivement 3% et .5% de l'information, on pourrait regarder les cercles de corrélations pour ces deux axes. Nous n'allons pas le faire ici."
   ]
  },
  {
   "cell_type": "markdown",
   "metadata": {},
   "source": [
    "### Dessiner les projections"
   ]
  },
  {
   "cell_type": "code",
   "execution_count": null,
   "metadata": {},
   "outputs": [],
   "source": [
    "C"
   ]
  },
  {
   "cell_type": "markdown",
   "metadata": {},
   "source": [
    "Représentons nos iris sur les axes principaux 0 et 1"
   ]
  },
  {
   "cell_type": "code",
   "execution_count": null,
   "metadata": {},
   "outputs": [],
   "source": [
    "axe_x = 0\n",
    "axe_y = 1\n",
    "\n",
    "couleurs = [sns.color_palette()[0]] * len(C)\n",
    "\n",
    "fig, ax = plt.subplots(figsize=(7, 7)) \n",
    "\n",
    "draw = C.plot.scatter(axe_x, axe_y, color=couleurs , ax=ax)\n",
    "\n",
    "for index, row in C.iterrows():\n",
    "    draw.annotate(str(index), (row[axe_x], row[axe_y]))\n",
    "    \n",
    "plt.axvline(0)\n",
    "plt.axhline(0)\n",
    "\n",
    "plt.show() "
   ]
  },
  {
   "cell_type": "markdown",
   "metadata": {},
   "source": [
    "On n'y voit pas grand chose. Regroupons les iris par espèces. "
   ]
  },
  {
   "cell_type": "code",
   "execution_count": null,
   "metadata": {},
   "outputs": [],
   "source": [
    "# palette de couleurs\n",
    "\n",
    "current_palette = sns.color_palette()\n",
    "sns.palplot(current_palette)\n",
    "plt.show() "
   ]
  },
  {
   "cell_type": "code",
   "execution_count": null,
   "metadata": {},
   "outputs": [],
   "source": [
    "# une couleur pour chaque classe d'iris\n",
    "\n",
    "colors = [current_palette[0], current_palette[2], current_palette[3]]\n",
    "iris_colors = [colors[i // 50] for i in range(len(X))]"
   ]
  },
  {
   "cell_type": "code",
   "execution_count": null,
   "metadata": {},
   "outputs": [],
   "source": [
    "axe_x = 0\n",
    "axe_y = 1\n",
    "\n",
    "couleurs = iris_colors\n",
    "\n",
    "fig, ax = plt.subplots(figsize=(7, 7)) \n",
    "\n",
    "draw = C.plot.scatter(axe_x, axe_y, color=couleurs, ax=ax)\n",
    "\n",
    "for index, row in C.iterrows():\n",
    "    draw.annotate(str(index), (row[axe_x], row[axe_y]))\n",
    "    \n",
    "plt.axvline(0)\n",
    "plt.axhline(0)\n",
    "\n",
    "plt.show() "
   ]
  },
  {
   "cell_type": "markdown",
   "metadata": {},
   "source": [
    "On remarque que les iris bleues sont bien représenté à gauche, puis il y a un gradiant :\n",
    "* les bleus sont petites\n",
    "* les verts sont moyennes\n",
    "* les rouges sont grandes\n",
    "\n",
    "Et c'est pas clair entre moyen et grand."
   ]
  },
  {
   "cell_type": "markdown",
   "metadata": {},
   "source": [
    "La dispersion selon cet axe explique 73% de nos données."
   ]
  },
  {
   "cell_type": "markdown",
   "metadata": {},
   "source": [
    "### Qualité de la projection\n",
    "\n",
    "Globalement, les points vont bien se représenter sur l'axe, mais individuellement, il peut exister des points qui en sont éloignés. \n",
    "\n",
    "On calcule la qualité de la projection en calculant l'angle entre le point initial et le point projeté. Ceci parce que ça se calcule bien : le rapport entre la norme du projeté sur la norme du point dont le carré correspond au cosinus carré l'angle $\\theta$ entre les 2 vecteur : $cos(\\theta)^2 = \\frac{||p(x_i)||^2}{||x_i||^2}$"
   ]
  },
  {
   "cell_type": "markdown",
   "metadata": {},
   "source": [
    "Regardons les 10 iris qui se représentent le mieux sur le premier axe (cos2 très grand) :"
   ]
  },
  {
   "cell_type": "code",
   "execution_count": null,
   "metadata": {},
   "outputs": [],
   "source": [
    "cos2[0].sort_values().tail(10)"
   ]
  },
  {
   "cell_type": "markdown",
   "metadata": {},
   "source": [
    "Regardons les 10 iris qui se représentent le moins bien sur le premier axe (cos2 très petit) :"
   ]
  },
  {
   "cell_type": "code",
   "execution_count": null,
   "metadata": {},
   "outputs": [],
   "source": [
    "cos2[0].sort_values().head(10)"
   ]
  },
  {
   "cell_type": "markdown",
   "metadata": {},
   "source": [
    "En regardant les statistiques descriptives des $\\cos^2$ pour le 1er axe :"
   ]
  },
  {
   "cell_type": "code",
   "execution_count": null,
   "metadata": {},
   "outputs": [],
   "source": [
    "cos2[0].describe()"
   ]
  },
  {
   "cell_type": "markdown",
   "metadata": {},
   "source": [
    "En gros ça se projette bien, 75% des points à un angle inférieur à 45°"
   ]
  },
  {
   "cell_type": "code",
   "execution_count": null,
   "metadata": {},
   "outputs": [],
   "source": [
    "import math\n",
    "\n",
    "math.degrees(math.acos(math.sqrt(0.488812)))"
   ]
  },
  {
   "cell_type": "markdown",
   "metadata": {},
   "source": [
    "Angle en degrés pour les 2 premiers axes : "
   ]
  },
  {
   "cell_type": "code",
   "execution_count": null,
   "metadata": {},
   "outputs": [],
   "source": [
    "# angle: acos(sqrt(p))\n",
    "\n",
    "from math import sqrt, acos, pi\n",
    "\n",
    "cos2[[0, 1]].sum(axis=1).apply(lambda x: acos(sqrt(x)) * 180 / pi)"
   ]
  },
  {
   "cell_type": "markdown",
   "metadata": {},
   "source": [
    "Les $\\cos^2$ triées. On voit que l'angle maximum est de 63° :"
   ]
  },
  {
   "cell_type": "code",
   "execution_count": null,
   "metadata": {},
   "outputs": [],
   "source": [
    "cos2[[0, 1]].sum(axis=1).apply(lambda x: acos(sqrt(x)) * 180 / pi).sort_values()"
   ]
  },
  {
   "cell_type": "code",
   "execution_count": null,
   "metadata": {},
   "outputs": [],
   "source": []
  }
 ],
 "metadata": {
  "kernelspec": {
   "display_name": "Python 3 (ipykernel)",
   "language": "python",
   "name": "python3"
  },
  "language_info": {
   "codemirror_mode": {
    "name": "ipython",
    "version": 3
   },
   "file_extension": ".py",
   "mimetype": "text/x-python",
   "name": "python",
   "nbconvert_exporter": "python",
   "pygments_lexer": "ipython3",
   "version": "3.9.12"
  },
  "vscode": {
   "interpreter": {
    "hash": "aee8b7b246df8f9039afb4144a1f6fd8d2ca17a180786b69acc140d282b71a49"
   }
  }
 },
 "nbformat": 4,
 "nbformat_minor": 4
}
