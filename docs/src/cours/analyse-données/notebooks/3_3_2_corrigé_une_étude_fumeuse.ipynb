{
 "cells": [
  {
   "cell_type": "markdown",
   "metadata": {},
   "source": [
    "# Une analyse qui fleure bon les années 50"
   ]
  },
  {
   "cell_type": "markdown",
   "metadata": {},
   "source": [
    "## Introduction"
   ]
  },
  {
   "cell_type": "markdown",
   "metadata": {},
   "source": [
    "Cette étude de cas est extraite de l'ouvrage de Jean-Pierre Benzécri\n",
    "\"Analyse des données. Tome 2 : l'analyse des correspondances\". Il\n",
    "s'agit d'une étude réelle dont nous avons complété les\n",
    "objectifs. "
   ]
  },
  {
   "cell_type": "markdown",
   "metadata": {},
   "source": [
    "## But"
   ]
  },
  {
   "cell_type": "markdown",
   "metadata": {},
   "source": [
    "Une enquête a été effectuée auprès de cent fumeurs afin de choisir les\n",
    "noms de deux nouvelles marques de cigarettes. La première marque est\n",
    "destinée à une clientèle masculine : L'homme ciblé est un connaisseur\n",
    "distingué, raffiné mais viril, de niveau socio-économique élevé. La\n",
    "seconde symbolise un public féminin, élégant, assuré, dynamique."
   ]
  },
  {
   "cell_type": "markdown",
   "metadata": {},
   "source": [
    "## Les donées"
   ]
  },
  {
   "cell_type": "markdown",
   "metadata": {},
   "source": [
    "Douze marques ont été retenues :\n",
    "- Orly (Orl)\n",
    "- Alezan (Ale)\n",
    "- Corsaire (Cor)\n",
    "- Directoire (Dir)\n",
    "- Ducat (Duc)\n",
    "- Fontenoy (Fon)\n",
    "- Icare (Ica)\n",
    "- Zodiac (Zod)\n",
    "- Pavois (Pav)\n",
    "- Cocker (Coc)\n",
    "- Escale (Esc)\n",
    "- Hôtesse (Hot)\n",
    "\n",
    "Pour évaluer leur image auprès du public, onze attributs ont été\n",
    "proposés aux fumeurs :\n",
    "- vieillot - désuet (VD)\n",
    "- nouveau riche (NR)\n",
    "- sobre, élégant (SE)\n",
    "- cocasse - ridicule (CR)\n",
    "- racé (RA)\n",
    "- mièvre (MI)\n",
    "- distingué (DI)\n",
    "- vulgaire - commun (VC)\n",
    "- pour un homme (HO)\n",
    "- pour une femme (FE)\n",
    "- pour une petite nature (PN)\n",
    "\n",
    "On a demandé à chacun des cent fumeurs d'associer une ou plusieurs\n",
    "parques qui selon eux conviennent le mieux.\n",
    "Le tableau de données est disponible dans le fichier \"fume.txt\"."
   ]
  },
  {
   "cell_type": "code",
   "execution_count": null,
   "metadata": {},
   "outputs": [],
   "source": [
    "import pandas"
   ]
  },
  {
   "cell_type": "code",
   "execution_count": null,
   "metadata": {},
   "outputs": [],
   "source": [
    "fume = pandas.read_csv(\"fume.txt\", delim_whitespace=True)"
   ]
  },
  {
   "cell_type": "code",
   "execution_count": null,
   "metadata": {},
   "outputs": [],
   "source": [
    "fume"
   ]
  },
  {
   "cell_type": "markdown",
   "metadata": {},
   "source": [
    "## Analyse"
   ]
  },
  {
   "cell_type": "markdown",
   "metadata": {},
   "source": [
    "### Quelles sont les marques les plus citées ? Attributs ?"
   ]
  },
  {
   "cell_type": "code",
   "execution_count": null,
   "metadata": {},
   "outputs": [],
   "source": [
    "fume.sum().sort_values(ascending=False)"
   ]
  },
  {
   "cell_type": "code",
   "execution_count": null,
   "metadata": {},
   "outputs": [],
   "source": [
    "fume.sum(axis=1).sort_values(ascending=False)"
   ]
  },
  {
   "cell_type": "markdown",
   "metadata": {},
   "source": [
    "- Attributs en commun : \"SE\", \"RA\" et \"DI\".\n",
    "- On propose des attributs qui ne leur correspondent pas pour ne garder que les marques ayant des aspects positifs."
   ]
  },
  {
   "cell_type": "markdown",
   "metadata": {},
   "source": [
    "## Regarder la correlation entre les marques. Quelles sont les marques dont les correlations sont les plus faibles ? Les plus élevées ? Comment interpréter ces résultats ?"
   ]
  },
  {
   "cell_type": "code",
   "execution_count": null,
   "metadata": {},
   "outputs": [],
   "source": [
    "import seaborn as sns\n",
    "import matplotlib.pyplot as plt\n",
    "\n",
    "sns.set()\n",
    "current_palette = sns.color_palette()"
   ]
  },
  {
   "cell_type": "code",
   "execution_count": null,
   "metadata": {},
   "outputs": [],
   "source": [
    "data = fume.corr().applymap(abs)\n",
    "\n",
    "fig, ax = plt.subplots(figsize=(10, 10))\n",
    "sns.heatmap(data, \n",
    "            annot=True, \n",
    "            cmap='coolwarm',\n",
    "            vmin=0, vmax=1)\n",
    "plt.show()"
   ]
  },
  {
   "cell_type": "markdown",
   "metadata": {},
   "source": [
    "## Les publics visés ont-ils des points communs ? Quels sont les attributs correspondants  Pourquoi a-t-on proposé des attributs ne leur correspondant pas ?"
   ]
  },
  {
   "cell_type": "markdown",
   "metadata": {},
   "source": [
    "* Attributs en commun : `SE`, `RA` et `DI`\n",
    "* On propose des attributs qui ne leur correspondent pas pour ne garder que les marques ayant des aspects positifs"
   ]
  },
  {
   "cell_type": "markdown",
   "metadata": {},
   "source": [
    "## Regarder la correlation entre les attributs. Quelles sont les marques dont les correlations sont les plus faibles ? Les plus élevées ? Comment interpréter ces résultats ?"
   ]
  },
  {
   "cell_type": "code",
   "execution_count": null,
   "metadata": {},
   "outputs": [],
   "source": [
    "data = fume.transpose().corr().applymap(abs)\n",
    "\n",
    "fig, ax = plt.subplots(figsize=(10, 10))\n",
    "sns.heatmap(data, \n",
    "            annot=True, \n",
    "            cmap='coolwarm',\n",
    "            vmin=0, vmax=1)\n",
    "plt.show()"
   ]
  },
  {
   "cell_type": "code",
   "execution_count": null,
   "metadata": {},
   "outputs": [],
   "source": [
    "data = fume.transpose().corr()\n",
    "\n",
    "fig, ax = plt.subplots(figsize=(10, 10))\n",
    "sns.heatmap(data, \n",
    "            annot=True, \n",
    "            cmap='coolwarm',\n",
    "            vmin=0, vmax=1)\n",
    "plt.show()"
   ]
  },
  {
   "cell_type": "markdown",
   "metadata": {},
   "source": [
    "* `HO`corrélé avec `VC` (en positif) et `MI` (en négatif) : attention lors des interprétations ! On veut juste une marque pour un homme pas pour un plouc (il faudra trouver des axes qui séparent ces deux attributs)\n",
    "* `FE`très peu corrélé avec `NR`"
   ]
  },
  {
   "cell_type": "markdown",
   "metadata": {},
   "source": [
    "## En examinant les valeurs propres et leur diagramme, déterminer les axes principaux qu'il faut garder dans les analyses."
   ]
  },
  {
   "cell_type": "markdown",
   "metadata": {},
   "source": [
    "Attention, nous voulons expliquer les marques par rapports aux attributs. Nos données sont donc les marques. Il faut transposer le tableau de données."
   ]
  },
  {
   "cell_type": "code",
   "execution_count": null,
   "metadata": {},
   "outputs": [],
   "source": [
    "fume.transpose()"
   ]
  },
  {
   "cell_type": "code",
   "execution_count": null,
   "metadata": {},
   "outputs": [],
   "source": [
    "from sklearn.preprocessing import StandardScaler\n",
    "\n",
    "scaler = StandardScaler()\n",
    "\n",
    "X = pandas.DataFrame(scaler.fit_transform(fume.transpose()),\n",
    "                     columns=fume.transpose().columns, \n",
    "                     index=fume.transpose().index)"
   ]
  },
  {
   "cell_type": "code",
   "execution_count": null,
   "metadata": {},
   "outputs": [],
   "source": [
    "from sklearn.decomposition import PCA \n",
    "import numpy as np\n",
    "\n",
    "pca = PCA() \n",
    "pca.fit(X)\n",
    "\n",
    "U = np.transpose(pca.components_) # vecteurs propres\n",
    "I = pandas.DataFrame(np.transpose(pca.explained_variance_ratio_), columns=[\"pourcentage\"])  # information véhiculée\n",
    "\n",
    "C = pandas.DataFrame(X @ U, index=X.index) # nouvelles coordonnées\n",
    "\n",
    "corrélations = pandas.DataFrame([[C[facteur].corr(X[column]) for facteur in C] for column in X], index=X.columns)\n",
    "cos2 = (C**2).div((X**2).sum(axis=1), axis='index')"
   ]
  },
  {
   "cell_type": "code",
   "execution_count": null,
   "metadata": {},
   "outputs": [],
   "source": [
    "I"
   ]
  },
  {
   "cell_type": "code",
   "execution_count": null,
   "metadata": {},
   "outputs": [],
   "source": [
    "fig, ax = plt.subplots(figsize=(10, 10)) \n",
    "\n",
    "I.plot(ax=ax)\n",
    "\n",
    "plt.title(\"inertie expliquée\")\n",
    "plt.xlabel(\"axes principaux\")\n",
    "plt.ylabel(\"% d'inertie expliquée\")\n",
    "\n",
    "plt.show()"
   ]
  },
  {
   "cell_type": "code",
   "execution_count": null,
   "metadata": {},
   "outputs": [],
   "source": [
    "fig, ax = plt.subplots(figsize=(10, 10)) \n",
    "\n",
    "I.cumsum().plot(ax=ax)\n",
    "\n",
    "plt.title(\"inertie expliquée cumulée\")\n",
    "plt.xlabel(\"axes principaux\")\n",
    "plt.ylabel(\"% d'inertie expliquée\")\n",
    "\n",
    "plt.show()"
   ]
  },
  {
   "cell_type": "markdown",
   "metadata": {},
   "source": [
    "On garde tous les axes avant la \"chute\" de l'inertie expliquée (le gain d'un nouvel axe ne fait plus gagner grand chose) ou lorsque le pourcentage d'inertie expliquée est suffisant. Ici 5 axes nous permettent d'expliquer plus de 90% des données et l'axe 5 correspond à une chute d'inertie expliquée."
   ]
  },
  {
   "cell_type": "markdown",
   "metadata": {},
   "source": [
    "## Interprétation"
   ]
  },
  {
   "cell_type": "markdown",
   "metadata": {},
   "source": [
    "### Les axes"
   ]
  },
  {
   "cell_type": "code",
   "execution_count": null,
   "metadata": {},
   "outputs": [],
   "source": [
    "corrélations.transpose()[0:5]"
   ]
  },
  {
   "cell_type": "code",
   "execution_count": null,
   "metadata": {},
   "outputs": [],
   "source": [
    "fig, ax = plt.subplots(figsize=(10, 10)) \n",
    "\n",
    "corrélations.transpose()[0:5].plot.bar(ax=ax)\n",
    "\n",
    "plt.show()"
   ]
  },
  {
   "cell_type": "code",
   "execution_count": null,
   "metadata": {},
   "outputs": [],
   "source": [
    "I.iloc[:5]"
   ]
  },
  {
   "cell_type": "markdown",
   "metadata": {},
   "source": [
    "- composante 0 : 28% de l'inertie. Oppose vulgaire-commun (`VC`) à sobre-éléguant (`SE`), distingué (`DI`) même si avec une petite tendance nouveau riche (`NR`). Nos marques cibles sont à gauche de l'axe 0\n",
    "- composante 1 : 21% de l'inertie. Oppose petite nature (`PN`) et cocasse-ridicule (`CR`) à Homme (`HO`). Axe de virilité (rappelez vous que c'est les années 50) : axe de *virilité* ?\n",
    "- composante 2 : 14 % de l'inertie. Les Femmes (`FE`) (a gauche). *Opposition homme/femme* ?\n",
    "- composante 3 : 13% de l'inertie. Racé (`RA`) (à droite)\n",
    "- composante 4 : 11% de l'inertie. vieillot-désuet (`VD`) (à droite)"
   ]
  },
  {
   "cell_type": "markdown",
   "metadata": {},
   "source": [
    "### Qualité de la projection"
   ]
  },
  {
   "cell_type": "code",
   "execution_count": null,
   "metadata": {},
   "outputs": [],
   "source": [
    "cos2[list(range(5))]"
   ]
  },
  {
   "cell_type": "code",
   "execution_count": null,
   "metadata": {},
   "outputs": [],
   "source": [
    "axe_x = 0\n",
    "axe_y = 3\n",
    "\n",
    "couleurs = [sns.color_palette()[0]] * len(C)\n",
    "\n",
    "fig, ax = plt.subplots(figsize=(7, 7)) \n",
    "\n",
    "draw = C.plot.scatter(axe_x, axe_y, color=couleurs , ax=ax)\n",
    "\n",
    "for index, row in C.iterrows():\n",
    "    draw.annotate(str(index), (row[axe_x], row[axe_y]))\n",
    "    \n",
    "plt.axvline(0)\n",
    "plt.axhline(0)\n",
    "\n",
    "plt.show() "
   ]
  },
  {
   "cell_type": "markdown",
   "metadata": {},
   "source": [
    "Nos marques cible sont à gauche. Le deuxième axe (raçé) est plus typé homme."
   ]
  },
  {
   "cell_type": "code",
   "execution_count": null,
   "metadata": {},
   "outputs": [],
   "source": [
    "axe_x = 0\n",
    "axe_y = 2\n",
    "\n",
    "couleurs = [sns.color_palette()[0]] * len(C)\n",
    "\n",
    "fig, ax = plt.subplots(figsize=(7, 7)) \n",
    "\n",
    "draw = C.plot.scatter(axe_x, axe_y, color=couleurs , ax=ax)\n",
    "\n",
    "for index, row in C.iterrows():\n",
    "    draw.annotate(str(index), (row[axe_x], row[axe_y]))\n",
    "    \n",
    "plt.axvline(0)\n",
    "plt.axhline(0)\n",
    "\n",
    "plt.show() "
   ]
  },
  {
   "cell_type": "markdown",
   "metadata": {},
   "source": [
    "Hotesse est très typé femme et Alezan typé Homme. Nos choix se portent là dessus."
   ]
  },
  {
   "cell_type": "code",
   "execution_count": null,
   "metadata": {},
   "outputs": [],
   "source": [
    "axe_x = 0\n",
    "axe_y = 1\n",
    "\n",
    "couleurs = [sns.color_palette()[0]] * len(C)\n",
    "\n",
    "fig, ax = plt.subplots(figsize=(7, 7)) \n",
    "\n",
    "draw = C.plot.scatter(axe_x, axe_y, color=couleurs , ax=ax)\n",
    "\n",
    "for index, row in C.iterrows():\n",
    "    draw.annotate(str(index), (row[axe_x], row[axe_y]))\n",
    "    \n",
    "plt.axvline(0)\n",
    "plt.axhline(0)\n",
    "\n",
    "plt.show()"
   ]
  },
  {
   "cell_type": "markdown",
   "metadata": {},
   "source": [
    "Directoire n'est pas très viril alors qu'Hotesse, oui."
   ]
  },
  {
   "cell_type": "code",
   "execution_count": null,
   "metadata": {},
   "outputs": [],
   "source": [
    "axe_x = 0\n",
    "axe_y = 4\n",
    "\n",
    "couleurs = [sns.color_palette()[0]] * len(C)\n",
    "\n",
    "fig, ax = plt.subplots(figsize=(7, 7)) \n",
    "\n",
    "draw = C.plot.scatter(axe_x, axe_y, color=couleurs , ax=ax)\n",
    "\n",
    "for index, row in C.iterrows():\n",
    "    draw.annotate(str(index), (row[axe_x], row[axe_y]))\n",
    "    \n",
    "plt.axvline(0)\n",
    "plt.axhline(0)\n",
    "\n",
    "plt.show() "
   ]
  },
  {
   "cell_type": "markdown",
   "metadata": {},
   "source": [
    "Alezan se projette mal sur l'axe 4, mais pavois et Orly font très nouveau riche."
   ]
  }
 ],
 "metadata": {
  "kernelspec": {
   "display_name": "Python 3 (ipykernel)",
   "language": "python",
   "name": "python3"
  },
  "language_info": {
   "codemirror_mode": {
    "name": "ipython",
    "version": 3
   },
   "file_extension": ".py",
   "mimetype": "text/x-python",
   "name": "python",
   "nbconvert_exporter": "python",
   "pygments_lexer": "ipython3",
   "version": "3.9.12"
  },
  "vscode": {
   "interpreter": {
    "hash": "aee8b7b246df8f9039afb4144a1f6fd8d2ca17a180786b69acc140d282b71a49"
   }
  }
 },
 "nbformat": 4,
 "nbformat_minor": 4
}
