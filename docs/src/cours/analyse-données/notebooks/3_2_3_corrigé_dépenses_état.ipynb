{
 "cells": [
  {
   "cell_type": "markdown",
   "metadata": {},
   "source": [
    "# Dépenses de l'état"
   ]
  },
  {
   "cell_type": "markdown",
   "metadata": {},
   "source": [
    "Votre première Analyse en composante principale.\n",
    "\n",
    "**NOTE** : c'est le schéma général que vous devez suivre pour toute ACP.\n",
    "\n",
    "1. calcul de statistiques descriptives et **interprétations**\n",
    "2. calcul des données de l'ACP sur des données centrées et réduites\n",
    "3. étude de l'inertie : répartition de l'inertie pour sur les axes et combien garder d'axes a priori\n",
    "4. pour les axes d'intérêts :\n",
    "    1. étude des corrélations des anciens axes avec les nouveaux et **interprétations**\n",
    "    2. représentations graphiques des projections avec qualités des projections"
   ]
  },
  {
   "cell_type": "markdown",
   "metadata": {},
   "source": [
    "## Les données"
   ]
  },
  {
   "cell_type": "markdown",
   "metadata": {},
   "source": [
    "Les données du fichier `dépense_état.csv` décrivent les\n",
    " ventilations des dépenses de l'état français de 1872 à 1971. \n",
    "Les différents champs sont :\n",
    "\n",
    "* PVP : pouvoirs publics,\n",
    "* AGR : agriculture,\n",
    "* CMI : commerce et industrie,\n",
    "* TRA : transports,\n",
    "* LOG : logement et aménagement du territoire,\n",
    "* EDU : éducation et culture,\n",
    "* ACO : anciens combattants,\n",
    "* ACS : actions sociales,\n",
    "* DEF : défense,\n",
    "* DET : dette,\n",
    "* DIV : divers."
   ]
  },
  {
   "cell_type": "code",
   "execution_count": null,
   "metadata": {},
   "outputs": [],
   "source": [
    "import pandas\n",
    "\n",
    "dépense = pandas.read_csv(\"./dépense_état.csv\", index_col=0)"
   ]
  },
  {
   "cell_type": "code",
   "execution_count": null,
   "metadata": {},
   "outputs": [],
   "source": [
    "dépense"
   ]
  },
  {
   "cell_type": "markdown",
   "metadata": {},
   "source": [
    "### Statistiques descriptives\n",
    "\n",
    "* **Calcul** : \n",
    "  * analyse descriptive des données\n",
    "  * chaque caractéristique étant un pourcentage et chaque ligne sommant à 100%, représentez graphique les lignes en utilisant un [pandas.DataFrame.plot.barh](https://pandas.pydata.org/docs/reference/api/pandas.DataFrame.plot.barh.html)\n",
    "* **Analyses** :\n",
    "  * Faites des remarques générales sur les statistiques descriptives de ce jeu de donnée.\n",
    "  * Comment se ventile les caractéristiques par année.\n",
    "* **Questions** :\n",
    "  * Que vous apporte les statistiques descriptives de ce jeu de données quand à l'importance de chaque caractéristiques dans le budget de l'état ?\n",
    "  * Une petite variation est-elle moins importante qu'une grande ?\n",
    "\n",
    "\n",
    "> Il pourra être utile de consulter les moyens de [visualiser les données en pandas](https://pandas.pydata.org/pandas-docs/stable/visualization.html)."
   ]
  },
  {
   "cell_type": "code",
   "execution_count": null,
   "metadata": {},
   "outputs": [],
   "source": [
    "dépense.describe()"
   ]
  },
  {
   "cell_type": "code",
   "execution_count": null,
   "metadata": {},
   "outputs": [],
   "source": [
    "# dessins matplotlib + stype seaborn\n",
    "\n",
    "import matplotlib.pyplot as plt\n",
    "import seaborn as sns\n",
    "\n",
    "sns.set()\n"
   ]
  },
  {
   "cell_type": "code",
   "execution_count": null,
   "metadata": {},
   "outputs": [],
   "source": [
    "fig, ax = plt.subplots(figsize=(7, 7)) \n",
    "\n",
    "dépense.plot.barh(stacked=True, ax=ax)\n",
    "plt.legend(bbox_to_anchor=(1.05, 1), loc=2, borderaxespad=0.)  # en dehors de la figure\n",
    "\n",
    "plt.show() "
   ]
  },
  {
   "cell_type": "markdown",
   "metadata": {},
   "source": [
    "On voit que certaines caractéristiques sont importante, comme `DEF` ou encore `DET` par rapport à `AGR` ou encore `ACS`. On voit émerger des tendances, comme l'augmentation de `ACS` au court du temps et une courbe en \"cloche\" de `ACO` par exemple.\n",
    "\n",
    "Une petite variation absolue peut être importante pour une caractéristique qui est elle-même petite. Pensez au budget de la culture par exemple. POur rendre compte des variations de façon relative à la colonne, il est nécessaire de réduire les données.\n"
   ]
  },
  {
   "cell_type": "markdown",
   "metadata": {},
   "source": [
    "## ACP\n",
    "\n",
    "### Calculs\n",
    "\n",
    "1. centrez et réduisez les données\n",
    "2. Faites l'ACP en déterminant tous les résultats"
   ]
  },
  {
   "cell_type": "code",
   "execution_count": null,
   "metadata": {},
   "outputs": [],
   "source": [
    "data = dépense\n",
    "\n",
    "from sklearn.preprocessing import StandardScaler\n",
    "\n",
    "scaler = StandardScaler()\n",
    "X = pandas.DataFrame(scaler.fit_transform(data), columns=data.columns, index=data.index)"
   ]
  },
  {
   "cell_type": "code",
   "execution_count": null,
   "metadata": {},
   "outputs": [],
   "source": [
    "X"
   ]
  },
  {
   "cell_type": "code",
   "execution_count": null,
   "metadata": {},
   "outputs": [],
   "source": [
    "from sklearn.decomposition import PCA \n",
    "import numpy as np\n",
    "\n",
    "pca = PCA() \n",
    "pca.fit(X)\n",
    "\n",
    "U = np.transpose(pca.components_) # vecteurs propres\n",
    "I = pandas.DataFrame(np.transpose(pca.explained_variance_ratio_), columns=[\"pourcentage\"])  # information véhiculée\n",
    "\n",
    "C = pandas.DataFrame(X @ U, index=X.index) # nouvelles coordonnées\n",
    "\n",
    "corrélations = pandas.DataFrame([[C[facteur].corr(X[column]) for facteur in C] for column in X], index=X.columns)\n",
    "cos2 = (C**2).div((X**2).sum(axis=1), axis='index')"
   ]
  },
  {
   "cell_type": "markdown",
   "metadata": {},
   "source": [
    "## ACP Interprétations"
   ]
  },
  {
   "cell_type": "markdown",
   "metadata": {},
   "source": [
    "### Inertie\n",
    "\n",
    "* **Calculs** :\n",
    "  * représentez le graphique de l'évolution de l'inertie pour chaque axe. \n",
    "  * Représentez également le graphique de l'inertie cumulée.\n",
    "* **Questions** :\n",
    "  * Combien d'axes pensez-vous garder ? Pourquoi ?\n",
    "  * Quels sont les années les moins bien représentées sur ces axes ?"
   ]
  },
  {
   "cell_type": "code",
   "execution_count": null,
   "metadata": {},
   "outputs": [],
   "source": [
    "I"
   ]
  },
  {
   "cell_type": "markdown",
   "metadata": {},
   "source": [
    "Pour des données centrées réduites le % d'inertie par axe est :"
   ]
  },
  {
   "cell_type": "code",
   "execution_count": null,
   "metadata": {},
   "outputs": [],
   "source": [
    "fig, ax = plt.subplots(figsize=(7, 7)) \n",
    "\n",
    "I.plot(ax=ax)\n",
    "\n",
    "plt.title(\"inertie expliquée\")\n",
    "plt.xlabel(\"axes principaux\")\n",
    "plt.ylabel(\"% d'inertie expliquée\")\n",
    "\n",
    "plt.show()"
   ]
  },
  {
   "cell_type": "code",
   "execution_count": null,
   "metadata": {},
   "outputs": [],
   "source": [
    "\n",
    "I.cumsum()"
   ]
  },
  {
   "cell_type": "code",
   "execution_count": null,
   "metadata": {},
   "outputs": [],
   "source": [
    "fig, ax = plt.subplots(figsize=(7, 7)) \n",
    "\n",
    "I.cumsum().plot(ax=ax)\n",
    "\n",
    "plt.title(\"inertie expliquée cumulée\")\n",
    "plt.xlabel(\"axes principaux\")\n",
    "plt.ylabel(\"% d'inertie expliquée\")\n",
    "\n",
    "plt.show()"
   ]
  },
  {
   "cell_type": "markdown",
   "metadata": {},
   "source": [
    "Le point d'inflexion est au alentours du troisième axe (index 2). Le premier axe explique à lui tout seul presque la moitié de l'information (45%). L'inertie totale conservée en gardant 3 axes est de 75% et chaque axe explique plus que 10% de l'information.\n",
    "\n",
    "On garde donc 3 axes pour l'analyse à priori, mais si on en garde 2 on explique déjà 64% de l'information."
   ]
  },
  {
   "cell_type": "code",
   "execution_count": null,
   "metadata": {},
   "outputs": [],
   "source": [
    "cos2.iloc[:,:3].sum(axis=1).sort_values()"
   ]
  },
  {
   "cell_type": "code",
   "execution_count": null,
   "metadata": {},
   "outputs": [],
   "source": [
    "from math import sqrt, acos, pi\n",
    "\n",
    "cos2.iloc[:,:3].sum(axis=1).apply(lambda x: acos(sqrt(x)) * 180 / pi).sort_values()"
   ]
  },
  {
   "cell_type": "markdown",
   "metadata": {},
   "source": [
    "A priori toutes les années sont bien représentées. L'angle max étant de 50°. L'année la moins bien représentée serait l'année 1938 (année particulière s'il en est)."
   ]
  },
  {
   "cell_type": "markdown",
   "metadata": {},
   "source": [
    "### Interprétation des axes\n",
    "\n",
    "* **Questions** :\n",
    "  * proposer une interprétation des 2 premiers axes principaux en utilisant le cercle de corrélation\n",
    "  * donnez une interprétation des autres axes que vous pensez garder dans l'analyse"
   ]
  },
  {
   "cell_type": "markdown",
   "metadata": {},
   "source": [
    "#### Axes 1 et 2"
   ]
  },
  {
   "cell_type": "code",
   "execution_count": null,
   "metadata": {},
   "outputs": [],
   "source": [
    "axe_x = 0\n",
    "axe_y = 1\n",
    "\n",
    "couleurs = [sns.color_palette()[3]] * len(corrélations)\n",
    "\n",
    "fig, ax = plt.subplots(figsize=(7, 7)) \n",
    "\n",
    "draw = corrélations.plot.scatter(x=axe_x, y=axe_y, ax=ax, \n",
    "                                 color=couleurs)\n",
    "\n",
    "\n",
    "for index, row in corrélations.iterrows():\n",
    "    draw.annotate(str(index), (row[axe_x], row[axe_y]))\n",
    "\n",
    "draw.add_patch(plt.Circle((0, 0), radius=1, color=(0, 0, 0, .3)))\n",
    "\n",
    "plt.xlim(-1.2, 1.2)\n",
    "plt.ylim(-1.2, 1.2)\n",
    "plt.axvline(0)\n",
    "plt.axhline(0)\n",
    "\n",
    "plt.show()"
   ]
  },
  {
   "cell_type": "markdown",
   "metadata": {},
   "source": [
    "On ne regarde que les caractéristiques qui **contribuent le plus** (en positif ou en négatif) pour chaque axe. On cherche soit les tendances soit les oppositions entre les caractéristiques :\n",
    "\n",
    "* axe 0 (horizontal) : on oppose `DET` à `EDU`, `ACS`, `AGR`, `CMI` et `LOG` \n",
    "* axe 1 (vertical) : on oppose `ACO` à `TRA` et `PVP`\n",
    "\n",
    "Le 1er axe est une opposition entre un remboursement de la dette (à gauche) et des dépenses liées à l'action sociale, l'éducation, logement, commerce et industrie. Bref entre le passé (passif ?) et le présent/futur de la nation. Le second axe oppose quant à lui les anciens combatants au travaux publics (semble bizarre à première vue)."
   ]
  },
  {
   "cell_type": "markdown",
   "metadata": {},
   "source": [
    "#### Axe 3\n",
    "\n",
    "On représente les corrélations pour l'axe d'indice 2"
   ]
  },
  {
   "cell_type": "code",
   "execution_count": null,
   "metadata": {},
   "outputs": [],
   "source": [
    "corrélations[2].sort_values()"
   ]
  },
  {
   "cell_type": "markdown",
   "metadata": {},
   "source": [
    "Les corrélations ne sont pas aussi tranchées pour les 2 premiers axe. C'est normal, il n'explique que peu d'information (10%) par rapport à eux. \n",
    "\n",
    "Si l'on garde les caractéristiques de corrélations maximum en valeur absolue, seule `DIV` sort du lot avec un score de .54\n",
    "\n",
    "On peut interpréter cet axe comme un axe où divers est plus important que d'habitude. Reste à voir les années qui se projettent bien sur cet axe."
   ]
  },
  {
   "cell_type": "markdown",
   "metadata": {},
   "source": [
    "### Projections\n",
    "\n",
    "* **Calculs** :\n",
    "  * représentez graphiquement les projections des années sur les 2 premiers axes factoriels\n",
    "  * quels sont les années qui ne se représentent pas bien dessus ?\n",
    "  * quels snt les années qui se représentent bien sur les autres axes que vous avez descidé de garder ?\n",
    "* **Interprétations** :\n",
    "  * Interprétez la répartition des années sur ce graphique. Peut-on grouper les années par paquet homogène ?\n",
    "  * Interprétez la répartition des années sur les autres axes."
   ]
  },
  {
   "cell_type": "code",
   "execution_count": null,
   "metadata": {},
   "outputs": [],
   "source": [
    "C.iloc[:,:3]"
   ]
  },
  {
   "cell_type": "code",
   "execution_count": null,
   "metadata": {},
   "outputs": [],
   "source": [
    "axe_x = 0\n",
    "axe_y = 1\n",
    "\n",
    "couleurs = [sns.color_palette()[0]] * len(C)\n",
    "\n",
    "fig, ax = plt.subplots(figsize=(7, 7)) \n",
    "\n",
    "draw = C.plot.scatter(axe_x, axe_y, color=couleurs , ax=ax)\n",
    "\n",
    "for index, row in C.iterrows():\n",
    "    draw.annotate(str(index), (row[axe_x], row[axe_y]))\n",
    "    \n",
    "plt.axvline(0)\n",
    "plt.axhline(0)\n",
    "\n",
    "plt.show() "
   ]
  },
  {
   "cell_type": "code",
   "execution_count": null,
   "metadata": {},
   "outputs": [],
   "source": [
    "cos2.iloc[:,:2].sum(axis=1).sort_values().head(5)"
   ]
  },
  {
   "cell_type": "code",
   "execution_count": null,
   "metadata": {},
   "outputs": [],
   "source": [
    "from math import sqrt, acos, pi\n",
    "\n",
    "cos2.iloc[:,:2].sum(axis=1).apply(lambda x: acos(sqrt(x)) * 180 / pi).sort_values().tail(5)"
   ]
  },
  {
   "cell_type": "markdown",
   "metadata": {},
   "source": [
    "Les années se représentent assez bien. L'angle maximum étant de 53°. Au pire, ce sont les années 1938 et 1953 que l'on pourrait retoquer car l'angle est supérieur à 50°."
   ]
  },
  {
   "cell_type": "markdown",
   "metadata": {},
   "source": [
    "1. On remarque que les années se projettent de façon chronologique selon l'axe 0 : la tendance du budget de l'état français au cours du temps est de suivre les tendances décrites par le 1er axe factoriel\n",
    "2. on peut regrouper les années en 4 grands groupes :\n",
    "   * à gauche : les années avant la 1ère guerre mondiale\n",
    "   * en haut au milieu : l'entre 2 guerre\n",
    "   * à droite : post 2ne guerre mondiale\n",
    "   * en bas : immédiate après-guerre"
   ]
  },
  {
   "cell_type": "markdown",
   "metadata": {},
   "source": [
    "### axe 2 (troisième axe)"
   ]
  },
  {
   "cell_type": "code",
   "execution_count": null,
   "metadata": {},
   "outputs": [],
   "source": [
    "I.loc[2]"
   ]
  },
  {
   "cell_type": "markdown",
   "metadata": {},
   "source": [
    "Les années qui sont le plus représentées par cet axe sont :"
   ]
  },
  {
   "cell_type": "code",
   "execution_count": null,
   "metadata": {},
   "outputs": [],
   "source": [
    "cos2.iloc[:, 2].sort_values().tail(10)"
   ]
  },
  {
   "cell_type": "code",
   "execution_count": null,
   "metadata": {},
   "outputs": [],
   "source": [
    "from math import sqrt, acos, pi\n",
    "\n",
    "cos2.iloc[:, 2].apply(lambda x: acos(sqrt(x)) * 180 / pi).sort_values().head(10)"
   ]
  },
  {
   "cell_type": "markdown",
   "metadata": {},
   "source": [
    "Projections axe 0 et 2"
   ]
  },
  {
   "cell_type": "code",
   "execution_count": null,
   "metadata": {},
   "outputs": [],
   "source": [
    "axe_x = 0\n",
    "axe_y = 2\n",
    "\n",
    "couleurs = [sns.color_palette()[0]] * len(C)\n",
    "\n",
    "fig, ax = plt.subplots(figsize=(7, 7)) \n",
    "\n",
    "draw = C.plot.scatter(axe_x, axe_y, color=couleurs , ax=ax)\n",
    "\n",
    "for index, row in C.iterrows():\n",
    "    draw.annotate(str(index), (row[axe_x], row[axe_y]))\n",
    "    \n",
    "plt.axvline(0)\n",
    "plt.axhline(0)\n",
    "\n",
    "plt.show() "
   ]
  }
 ],
 "metadata": {
  "kernelspec": {
   "display_name": "Python 3 (ipykernel)",
   "language": "python",
   "name": "python3"
  },
  "language_info": {
   "codemirror_mode": {
    "name": "ipython",
    "version": 3
   },
   "file_extension": ".py",
   "mimetype": "text/x-python",
   "name": "python",
   "nbconvert_exporter": "python",
   "pygments_lexer": "ipython3",
   "version": "3.9.12"
  },
  "vscode": {
   "interpreter": {
    "hash": "aee8b7b246df8f9039afb4144a1f6fd8d2ca17a180786b69acc140d282b71a49"
   }
  }
 },
 "nbformat": 4,
 "nbformat_minor": 4
}
