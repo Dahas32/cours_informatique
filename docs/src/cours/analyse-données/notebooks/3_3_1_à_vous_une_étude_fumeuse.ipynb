{
 "cells": [
  {
   "cell_type": "markdown",
   "metadata": {},
   "source": [
    "# Une analyse qui fleure bon les années 50"
   ]
  },
  {
   "cell_type": "markdown",
   "metadata": {},
   "source": [
    "## Introduction"
   ]
  },
  {
   "cell_type": "markdown",
   "metadata": {},
   "source": [
    "Cette étude de cas est extraite de l'ouvrage de Jean-Pierre Benzécri\n",
    "\"Analyse des données. Tome 2 : l'analyse des correspondances\". Il\n",
    "s'agit d'une étude réelle dont nous avons complété les\n",
    "objectifs. \n"
   ]
  },
  {
   "cell_type": "markdown",
   "metadata": {},
   "source": [
    "## But"
   ]
  },
  {
   "cell_type": "markdown",
   "metadata": {},
   "source": [
    "Une enquête a été effectuée auprès de cent fumeurs afin de choisir les\n",
    "noms de deux nouvelles marques de cigarettes. La première marque est\n",
    "destinée à une clientèle masculine : L'homme ciblé est un connaisseur\n",
    "distingué, raffiné mais viril, de niveau socio-économique élevé. La\n",
    "seconde symbolise un public féminin, élégant, assuré, dynamique."
   ]
  },
  {
   "cell_type": "markdown",
   "metadata": {},
   "source": [
    "## Les donées"
   ]
  },
  {
   "cell_type": "markdown",
   "metadata": {},
   "source": [
    "Douze marques ont été retenues :\n",
    "- Orly (Orl)\n",
    "- Alezan (Ale)\n",
    "- Corsaire (Cor)\n",
    "- Directoire (Dir)\n",
    "- Ducat (Duc)\n",
    "- Fontenoy (Fon)\n",
    "- Icare (Ica)\n",
    "- Zodiac (Zod)\n",
    "- Pavois (Pav)\n",
    "- Cocker (Coc)\n",
    "- Escale (Esc)\n",
    "- Hôtesse (Hot)\n",
    "\n",
    "Pour évaluer leur image auprès du public, onze attributs ont été\n",
    "proposés aux fumeurs :\n",
    "- vieillot - désuet (VD)\n",
    "- nouveau riche (NR)\n",
    "- sobre, élégant (SE)\n",
    "- cocasse - ridicule (CR)\n",
    "- racé (RA)\n",
    "- mièvre (MI)\n",
    "- distingué (DI)\n",
    "- vulgaire - commun (VC)\n",
    "- pour un homme (HO)\n",
    "- pour une femme (FE)\n",
    "- pour une petite nature (PN)\n",
    "\n",
    "On a demandé à chacun des cent fumeurs d'associer une ou plusieurs\n",
    "parques qui selon eux conviennent le mieux.\n",
    "Le tableau de données est disponible dans le fichier \"fume.txt\"."
   ]
  },
  {
   "cell_type": "code",
   "execution_count": 1,
   "metadata": {},
   "outputs": [],
   "source": [
    "import pandas"
   ]
  },
  {
   "cell_type": "code",
   "execution_count": 2,
   "metadata": {},
   "outputs": [],
   "source": [
    "fume = pandas.read_csv(\"fume.txt\", delim_whitespace=True)"
   ]
  },
  {
   "cell_type": "code",
   "execution_count": 3,
   "metadata": {},
   "outputs": [
    {
     "data": {
      "text/html": [
       "<div>\n",
       "<style scoped>\n",
       "    .dataframe tbody tr th:only-of-type {\n",
       "        vertical-align: middle;\n",
       "    }\n",
       "\n",
       "    .dataframe tbody tr th {\n",
       "        vertical-align: top;\n",
       "    }\n",
       "\n",
       "    .dataframe thead th {\n",
       "        text-align: right;\n",
       "    }\n",
       "</style>\n",
       "<table border=\"1\" class=\"dataframe\">\n",
       "  <thead>\n",
       "    <tr style=\"text-align: right;\">\n",
       "      <th></th>\n",
       "      <th>Orl</th>\n",
       "      <th>Ale</th>\n",
       "      <th>Cor</th>\n",
       "      <th>Dir</th>\n",
       "      <th>Duc</th>\n",
       "      <th>Fon</th>\n",
       "      <th>Ica</th>\n",
       "      <th>Zod</th>\n",
       "      <th>Pav</th>\n",
       "      <th>Coc</th>\n",
       "      <th>Esc</th>\n",
       "      <th>Hot</th>\n",
       "    </tr>\n",
       "  </thead>\n",
       "  <tbody>\n",
       "    <tr>\n",
       "      <th>VD</th>\n",
       "      <td>1</td>\n",
       "      <td>2</td>\n",
       "      <td>14</td>\n",
       "      <td>38</td>\n",
       "      <td>18</td>\n",
       "      <td>10</td>\n",
       "      <td>9</td>\n",
       "      <td>5</td>\n",
       "      <td>9</td>\n",
       "      <td>4</td>\n",
       "      <td>0</td>\n",
       "      <td>1</td>\n",
       "    </tr>\n",
       "    <tr>\n",
       "      <th>NR</th>\n",
       "      <td>20</td>\n",
       "      <td>9</td>\n",
       "      <td>1</td>\n",
       "      <td>11</td>\n",
       "      <td>10</td>\n",
       "      <td>9</td>\n",
       "      <td>1</td>\n",
       "      <td>1</td>\n",
       "      <td>20</td>\n",
       "      <td>9</td>\n",
       "      <td>7</td>\n",
       "      <td>12</td>\n",
       "    </tr>\n",
       "    <tr>\n",
       "      <th>SE</th>\n",
       "      <td>9</td>\n",
       "      <td>23</td>\n",
       "      <td>1</td>\n",
       "      <td>15</td>\n",
       "      <td>7</td>\n",
       "      <td>11</td>\n",
       "      <td>6</td>\n",
       "      <td>2</td>\n",
       "      <td>7</td>\n",
       "      <td>12</td>\n",
       "      <td>3</td>\n",
       "      <td>17</td>\n",
       "    </tr>\n",
       "    <tr>\n",
       "      <th>CR</th>\n",
       "      <td>1</td>\n",
       "      <td>3</td>\n",
       "      <td>15</td>\n",
       "      <td>15</td>\n",
       "      <td>6</td>\n",
       "      <td>5</td>\n",
       "      <td>12</td>\n",
       "      <td>18</td>\n",
       "      <td>4</td>\n",
       "      <td>25</td>\n",
       "      <td>2</td>\n",
       "      <td>2</td>\n",
       "    </tr>\n",
       "    <tr>\n",
       "      <th>RA</th>\n",
       "      <td>4</td>\n",
       "      <td>33</td>\n",
       "      <td>7</td>\n",
       "      <td>8</td>\n",
       "      <td>3</td>\n",
       "      <td>6</td>\n",
       "      <td>6</td>\n",
       "      <td>4</td>\n",
       "      <td>5</td>\n",
       "      <td>15</td>\n",
       "      <td>5</td>\n",
       "      <td>3</td>\n",
       "    </tr>\n",
       "    <tr>\n",
       "      <th>MI</th>\n",
       "      <td>3</td>\n",
       "      <td>9</td>\n",
       "      <td>1</td>\n",
       "      <td>7</td>\n",
       "      <td>7</td>\n",
       "      <td>5</td>\n",
       "      <td>12</td>\n",
       "      <td>9</td>\n",
       "      <td>6</td>\n",
       "      <td>9</td>\n",
       "      <td>6</td>\n",
       "      <td>13</td>\n",
       "    </tr>\n",
       "    <tr>\n",
       "      <th>DI</th>\n",
       "      <td>11</td>\n",
       "      <td>9</td>\n",
       "      <td>1</td>\n",
       "      <td>17</td>\n",
       "      <td>4</td>\n",
       "      <td>21</td>\n",
       "      <td>6</td>\n",
       "      <td>1</td>\n",
       "      <td>5</td>\n",
       "      <td>4</td>\n",
       "      <td>5</td>\n",
       "      <td>27</td>\n",
       "    </tr>\n",
       "    <tr>\n",
       "      <th>VC</th>\n",
       "      <td>4</td>\n",
       "      <td>4</td>\n",
       "      <td>32</td>\n",
       "      <td>2</td>\n",
       "      <td>6</td>\n",
       "      <td>0</td>\n",
       "      <td>9</td>\n",
       "      <td>7</td>\n",
       "      <td>3</td>\n",
       "      <td>10</td>\n",
       "      <td>12</td>\n",
       "      <td>7</td>\n",
       "    </tr>\n",
       "    <tr>\n",
       "      <th>HO</th>\n",
       "      <td>9</td>\n",
       "      <td>12</td>\n",
       "      <td>23</td>\n",
       "      <td>4</td>\n",
       "      <td>7</td>\n",
       "      <td>13</td>\n",
       "      <td>5</td>\n",
       "      <td>5</td>\n",
       "      <td>10</td>\n",
       "      <td>5</td>\n",
       "      <td>13</td>\n",
       "      <td>9</td>\n",
       "    </tr>\n",
       "    <tr>\n",
       "      <th>FE</th>\n",
       "      <td>9</td>\n",
       "      <td>3</td>\n",
       "      <td>9</td>\n",
       "      <td>8</td>\n",
       "      <td>4</td>\n",
       "      <td>2</td>\n",
       "      <td>6</td>\n",
       "      <td>8</td>\n",
       "      <td>1</td>\n",
       "      <td>6</td>\n",
       "      <td>23</td>\n",
       "      <td>33</td>\n",
       "    </tr>\n",
       "    <tr>\n",
       "      <th>PN</th>\n",
       "      <td>7</td>\n",
       "      <td>5</td>\n",
       "      <td>2</td>\n",
       "      <td>7</td>\n",
       "      <td>11</td>\n",
       "      <td>2</td>\n",
       "      <td>6</td>\n",
       "      <td>11</td>\n",
       "      <td>9</td>\n",
       "      <td>24</td>\n",
       "      <td>10</td>\n",
       "      <td>5</td>\n",
       "    </tr>\n",
       "  </tbody>\n",
       "</table>\n",
       "</div>"
      ],
      "text/plain": [
       "    Orl  Ale  Cor  Dir  Duc  Fon  Ica  Zod  Pav  Coc  Esc  Hot\n",
       "VD    1    2   14   38   18   10    9    5    9    4    0    1\n",
       "NR   20    9    1   11   10    9    1    1   20    9    7   12\n",
       "SE    9   23    1   15    7   11    6    2    7   12    3   17\n",
       "CR    1    3   15   15    6    5   12   18    4   25    2    2\n",
       "RA    4   33    7    8    3    6    6    4    5   15    5    3\n",
       "MI    3    9    1    7    7    5   12    9    6    9    6   13\n",
       "DI   11    9    1   17    4   21    6    1    5    4    5   27\n",
       "VC    4    4   32    2    6    0    9    7    3   10   12    7\n",
       "HO    9   12   23    4    7   13    5    5   10    5   13    9\n",
       "FE    9    3    9    8    4    2    6    8    1    6   23   33\n",
       "PN    7    5    2    7   11    2    6   11    9   24   10    5"
      ]
     },
     "execution_count": 3,
     "metadata": {},
     "output_type": "execute_result"
    }
   ],
   "source": [
    "fume"
   ]
  },
  {
   "cell_type": "markdown",
   "metadata": {},
   "source": [
    "## Analyse"
   ]
  },
  {
   "cell_type": "markdown",
   "metadata": {},
   "source": [
    "### Quelles sont les marques les plus citées ? Attributs ?"
   ]
  },
  {
   "cell_type": "markdown",
   "metadata": {},
   "source": [
    "## Regarder la correlation entre les marques. Quelles sont les marques dont les correlations sont les plus faibles ? Les plus élevées ? Comment interpréter ces résultats ?"
   ]
  },
  {
   "cell_type": "markdown",
   "metadata": {},
   "source": [
    "## Les publics visés ont-ils des points communs ? Quels sont les attributs correspondants  Pourquoi a-t-on proposé des attributs ne leur correspondant pas ?"
   ]
  },
  {
   "cell_type": "markdown",
   "metadata": {},
   "source": [
    "## Regarder la correlation entre les attributs. Quelles sont les marques dont les correlations sont les plus faibles ? Les plus élevées ? Comment interpréter ces résultats ?"
   ]
  },
  {
   "cell_type": "markdown",
   "metadata": {},
   "source": [
    "## En examinant les valeurs propres et leur diagramme, déterminer les axes principaux qu'il faut garder dans les analyses."
   ]
  },
  {
   "cell_type": "markdown",
   "metadata": {},
   "source": [
    "**Attention** : nous voulons expliquer les marques par rapports aux attributs. Nos données sont donc les marques. Il faut transposer le tableau de données."
   ]
  },
  {
   "cell_type": "markdown",
   "metadata": {},
   "source": [
    "## Interprétation"
   ]
  },
  {
   "cell_type": "markdown",
   "metadata": {},
   "source": [
    "### Les axes"
   ]
  },
  {
   "cell_type": "markdown",
   "metadata": {},
   "source": [
    "Pour les axes retenus représeter sous forme d'un histogramme les corrélations aux anciens axes (`correlations[i].plot.bar()`)"
   ]
  },
  {
   "cell_type": "markdown",
   "metadata": {},
   "source": [
    "interprétations ?"
   ]
  },
  {
   "cell_type": "markdown",
   "metadata": {},
   "source": [
    "## Choix des marques ? Homme ? Femme ?"
   ]
  },
  {
   "cell_type": "code",
   "execution_count": null,
   "metadata": {},
   "outputs": [],
   "source": []
  }
 ],
 "metadata": {
  "kernelspec": {
   "display_name": "Python 3",
   "language": "python",
   "name": "python3"
  },
  "language_info": {
   "codemirror_mode": {
    "name": "ipython",
    "version": 3
   },
   "file_extension": ".py",
   "mimetype": "text/x-python",
   "name": "python",
   "nbconvert_exporter": "python",
   "pygments_lexer": "ipython3",
   "version": "3.9.13"
  },
  "vscode": {
   "interpreter": {
    "hash": "aee8b7b246df8f9039afb4144a1f6fd8d2ca17a180786b69acc140d282b71a49"
   }
  }
 },
 "nbformat": 4,
 "nbformat_minor": 4
}
