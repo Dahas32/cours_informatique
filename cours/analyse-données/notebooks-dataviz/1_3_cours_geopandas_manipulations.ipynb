{
 "cells": [
  {
   "cell_type": "markdown",
   "metadata": {},
   "source": [
    "# Geopandas\n",
    "\n",
    "https://geopandas.org/ \n",
    "\n",
    "Est la bibliothèque bermettant d'utiliser des dataframe géographiques (geodataframes). Vous devirez déjà l'avoir installée mais dans le doute, remettons la procédure"
   ]
  },
  {
   "cell_type": "markdown",
   "metadata": {},
   "source": [
    "## Bases \n",
    "\n",
    "### tutos\n",
    "\n",
    "* https://www.youtube.com/watch?v=t7lliJXFt8w : introduction à geopandas\n",
    "* https://www.youtube.com/watch?v=xJyJlKbZFlc&list=PLewNEVDy7gq3DjrPDxGFLbHE4G2QWe8Qh : les 7 premières vidéos\n",
    "\n",
    "### geodataframe"
   ]
  },
  {
   "cell_type": "code",
   "execution_count": 7,
   "metadata": {},
   "outputs": [],
   "source": [
    "import geopandas as gpd"
   ]
  },
  {
   "cell_type": "markdown",
   "metadata": {},
   "source": [
    "Importer des données se fait avec [read_file](https://geopandas.org/reference/geopandas.read_file.html?highlight=read_file). On l'a vu en 1.1 cette méthdoe lit tout un tas de format de données (geojson, shp, fichier zip shp, ...) qu'ils soient le local sur votre disque dur ou sur internet.\n"
   ]
  },
  {
   "cell_type": "code",
   "execution_count": 8,
   "metadata": {},
   "outputs": [],
   "source": [
    "regions = gpd.read_file(\"https://raw.githubusercontent.com/gregoiredavid/france-geojson/master/regions.geojson\")"
   ]
  },
  {
   "cell_type": "code",
   "execution_count": 9,
   "metadata": {},
   "outputs": [
    {
     "data": {
      "text/html": [
       "<div>\n",
       "<style scoped>\n",
       "    .dataframe tbody tr th:only-of-type {\n",
       "        vertical-align: middle;\n",
       "    }\n",
       "\n",
       "    .dataframe tbody tr th {\n",
       "        vertical-align: top;\n",
       "    }\n",
       "\n",
       "    .dataframe thead th {\n",
       "        text-align: right;\n",
       "    }\n",
       "</style>\n",
       "<table border=\"1\" class=\"dataframe\">\n",
       "  <thead>\n",
       "    <tr style=\"text-align: right;\">\n",
       "      <th></th>\n",
       "      <th>code</th>\n",
       "      <th>nom</th>\n",
       "      <th>geometry</th>\n",
       "    </tr>\n",
       "  </thead>\n",
       "  <tbody>\n",
       "    <tr>\n",
       "      <th>0</th>\n",
       "      <td>11</td>\n",
       "      <td>Île-de-France</td>\n",
       "      <td>POLYGON ((2.59052 49.07965, 2.59602 49.08171, ...</td>\n",
       "    </tr>\n",
       "    <tr>\n",
       "      <th>1</th>\n",
       "      <td>24</td>\n",
       "      <td>Centre-Val de Loire</td>\n",
       "      <td>POLYGON ((2.87463 47.52042, 2.87984 47.51671, ...</td>\n",
       "    </tr>\n",
       "    <tr>\n",
       "      <th>2</th>\n",
       "      <td>27</td>\n",
       "      <td>Bourgogne-Franche-Comté</td>\n",
       "      <td>POLYGON ((3.62942 46.74946, 3.62655 46.75228, ...</td>\n",
       "    </tr>\n",
       "    <tr>\n",
       "      <th>3</th>\n",
       "      <td>28</td>\n",
       "      <td>Normandie</td>\n",
       "      <td>MULTIPOLYGON (((-1.11962 49.35557, -1.11554 49...</td>\n",
       "    </tr>\n",
       "    <tr>\n",
       "      <th>4</th>\n",
       "      <td>32</td>\n",
       "      <td>Hauts-de-France</td>\n",
       "      <td>POLYGON ((4.14090 49.97876, 4.14407 49.97625, ...</td>\n",
       "    </tr>\n",
       "  </tbody>\n",
       "</table>\n",
       "</div>"
      ],
      "text/plain": [
       "  code                      nom   \n",
       "0   11            Île-de-France  \\\n",
       "1   24      Centre-Val de Loire   \n",
       "2   27  Bourgogne-Franche-Comté   \n",
       "3   28                Normandie   \n",
       "4   32          Hauts-de-France   \n",
       "\n",
       "                                            geometry  \n",
       "0  POLYGON ((2.59052 49.07965, 2.59602 49.08171, ...  \n",
       "1  POLYGON ((2.87463 47.52042, 2.87984 47.51671, ...  \n",
       "2  POLYGON ((3.62942 46.74946, 3.62655 46.75228, ...  \n",
       "3  MULTIPOLYGON (((-1.11962 49.35557, -1.11554 49...  \n",
       "4  POLYGON ((4.14090 49.97876, 4.14407 49.97625, ...  "
      ]
     },
     "execution_count": 9,
     "metadata": {},
     "output_type": "execute_result"
    }
   ],
   "source": [
    "regions.head()"
   ]
  },
  {
   "cell_type": "markdown",
   "metadata": {},
   "source": [
    "geopandas manipule des [GeoDataframe](https://geopandas.org/reference/geopandas.GeoDataFrame.html?highlight=geodataframe) tout comme pandas manipule des [Dataframe](https://pandas.pydata.org/pandas-docs/stable/reference/api/pandas.DataFrame.html). \n",
    "\n",
    "La principale différence visible est un type geometry (qui est dans la colonne `geometry`) qui contient nos données spaciales :"
   ]
  },
  {
   "cell_type": "code",
   "execution_count": 10,
   "metadata": {},
   "outputs": [
    {
     "data": {
      "text/plain": [
       "code          object\n",
       "nom           object\n",
       "geometry    geometry\n",
       "dtype: object"
      ]
     },
     "execution_count": 10,
     "metadata": {},
     "output_type": "execute_result"
    }
   ],
   "source": [
    "regions.dtypes"
   ]
  },
  {
   "cell_type": "raw",
   "metadata": {},
   "source": [
    "Et un crs associé à ces données : "
   ]
  },
  {
   "cell_type": "code",
   "execution_count": 11,
   "metadata": {},
   "outputs": [
    {
     "data": {
      "text/plain": [
       "<Geographic 2D CRS: EPSG:4326>\n",
       "Name: WGS 84\n",
       "Axis Info [ellipsoidal]:\n",
       "- Lat[north]: Geodetic latitude (degree)\n",
       "- Lon[east]: Geodetic longitude (degree)\n",
       "Area of Use:\n",
       "- name: World.\n",
       "- bounds: (-180.0, -90.0, 180.0, 90.0)\n",
       "Datum: World Geodetic System 1984 ensemble\n",
       "- Ellipsoid: WGS 84\n",
       "- Prime Meridian: Greenwich"
      ]
     },
     "execution_count": 11,
     "metadata": {},
     "output_type": "execute_result"
    }
   ],
   "source": [
    "regions.crs"
   ]
  },
  {
   "cell_type": "markdown",
   "metadata": {},
   "source": [
    "La colonne nommée geometry est une [GeoSeries](https://geopandas.org/reference/geopandas.GeoSeries.html). \n",
    "\n",
    "Il est **indispensable** qu'une geodataframe ait :\n",
    "\n",
    "* une colonne nommée `geometry` qui soit une geoseries (une geoseries qui n'est pas nommée geometry ne sera pas prise en compte et une colonne geometry qui n'est pas une geoserie fera planter tôt ou tard geopandas).\n",
    "* un crs de renseigné (sinon, tôt ou tard un calcul ne se fera pas comme il faut)."
   ]
  },
  {
   "cell_type": "code",
   "execution_count": 12,
   "metadata": {},
   "outputs": [
    {
     "data": {
      "text/plain": [
       "0     POLYGON ((2.59052 49.07965, 2.59602 49.08171, ...\n",
       "1     POLYGON ((2.87463 47.52042, 2.87984 47.51671, ...\n",
       "2     POLYGON ((3.62942 46.74946, 3.62655 46.75228, ...\n",
       "3     MULTIPOLYGON (((-1.11962 49.35557, -1.11554 49...\n",
       "4     POLYGON ((4.14090 49.97876, 4.14407 49.97625, ...\n",
       "5     POLYGON ((4.23316 49.95775, 4.23690 49.95858, ...\n",
       "6     MULTIPOLYGON (((-2.62284 47.40975, -2.62341 47...\n",
       "7     MULTIPOLYGON (((-3.47716 48.88127, -3.47863 48...\n",
       "8     MULTIPOLYGON (((1.41519 46.34722, 1.41675 46.3...\n",
       "9     MULTIPOLYGON (((1.78613 42.57362, 1.78661 42.5...\n",
       "10    POLYGON ((4.78021 46.17668, 4.78024 46.18905, ...\n",
       "11    MULTIPOLYGON (((6.94834 44.65482, 6.94769 44.6...\n",
       "12    MULTIPOLYGON (((8.58640 41.87389, 8.58667 41.8...\n",
       "Name: geometry, dtype: geometry"
      ]
     },
     "execution_count": 12,
     "metadata": {},
     "output_type": "execute_result"
    }
   ],
   "source": [
    "regions['geometry']"
   ]
  },
  {
   "cell_type": "markdown",
   "metadata": {},
   "source": [
    "Le format des données est [geojson](https://fr.wikipedia.org/wiki/GeoJSON). En particulier, ce format permet de créer des points, des lignes ou des polygones.\n",
    "\n",
    "**Note** : il n'a pas de cercle car la projection de cercles sur des cartes peut être compliquée."
   ]
  },
  {
   "cell_type": "markdown",
   "metadata": {},
   "source": [
    "En python, ces formes sont gérées par [shapely](https://shapely.readthedocs.io/en/latest/)) :"
   ]
  },
  {
   "cell_type": "code",
   "execution_count": 13,
   "metadata": {},
   "outputs": [
    {
     "data": {
      "text/plain": [
       "shapely.geometry.polygon.Polygon"
      ]
     },
     "execution_count": 13,
     "metadata": {},
     "output_type": "execute_result"
    }
   ],
   "source": [
    "type(regions['geometry'][0])"
   ]
  },
  {
   "cell_type": "markdown",
   "metadata": {},
   "source": [
    "On peut bien sur représenter la dataframe (ligne à ligne) :"
   ]
  },
  {
   "cell_type": "code",
   "execution_count": 14,
   "metadata": {},
   "outputs": [
    {
     "data": {
      "text/plain": [
       "<Axes: >"
      ]
     },
     "execution_count": 14,
     "metadata": {},
     "output_type": "execute_result"
    },
    {
     "data": {
      "image/png": "[encoded data removed]",
      "text/plain": [
       "<Figure size 640x480 with 1 Axes>"
      ]
     },
     "metadata": {},
     "output_type": "display_data"
    }
   ],
   "source": [
    "regions.plot()"
   ]
  },
  {
   "cell_type": "markdown",
   "metadata": {},
   "source": [
    "juste sa géométrie : "
   ]
  },
  {
   "cell_type": "code",
   "execution_count": 15,
   "metadata": {},
   "outputs": [
    {
     "data": {
      "text/plain": [
       "<Axes: >"
      ]
     },
     "execution_count": 15,
     "metadata": {},
     "output_type": "execute_result"
    },
    {
     "data": {
      "image/png": "[encoded data removed]",
      "text/plain": [
       "<Figure size 640x480 with 1 Axes>"
      ]
     },
     "metadata": {},
     "output_type": "display_data"
    }
   ],
   "source": [
    "regions['geometry'].plot()"
   ]
  },
  {
   "cell_type": "markdown",
   "metadata": {},
   "source": [
    "ou une forme (sans plot) :"
   ]
  },
  {
   "cell_type": "code",
   "execution_count": 16,
   "metadata": {},
   "outputs": [
    {
     "data": {
      "image/svg+xml": [
       "<svg xmlns=\"http://www.w3.org/2000/svg\" xmlns:xlink=\"http://www.w3.org/1999/xlink\" width=\"100.0\" height=\"100.0\" viewBox=\"1.3619676 48.0360576 2.2810248 1.289734799999998\" preserveAspectRatio=\"xMinYMin meet\"><g transform=\"matrix(1,0,0,-1,0,97.36185)\"><path fill-rule=\"evenodd\" fill=\"#66cc99\" stroke=\"#555555\" stroke-width=\"0.045620495999999996\" opacity=\"0.6\" d=\"M 2.59052,49.07965 L 2.59602,49.08171 L 2.59787,49.08179 L 2.59993,49.08408 L 2.6033,49.08588 L 2.60818,49.09013 L 2.61033,49.09305 L 2.61034,49.09494 L 2.6169,49.09389 L 2.61834,49.09474 L 2.623,49.09559 L 2.62488,49.09877 L 2.62433,49.10036 L 2.62763,49.10147 L 2.62729,49.10223 L 2.63064,49.10245 L 2.63175,49.10492 L 2.63175,49.10627 L 2.63327,49.10838 L 2.63655,49.10711 L 2.63511,49.10455 L 2.63647,49.1036 L 2.63584,49.10181 L 2.64071,49.10103 L 2.64124,49.09909 L 2.64343,49.09926 L 2.64597,49.10015 L 2.65021,49.10055 L 2.65636,49.09851 L 2.65903,49.09617 L 2.66129,49.09674 L 2.66277,49.09369 L 2.66572,49.09304 L 2.67315,49.09086 L 2.67739,49.08829 L 2.67853,49.08545 L 2.68344,49.08184 L 2.69502,49.07474 L 2.69337,49.0734 L 2.69115,49.07062 L 2.68991,49.06757 L 2.691,49.06658 L 2.69625,49.06544 L 2.69781,49.0644 L 2.70029,49.06479 L 2.70523,49.06504 L 2.70832,49.06733 L 2.71271,49.0697 L 2.72049,49.07488 L 2.72097,49.07601 L 2.71996,49.07839 L 2.72058,49.07943 L 2.72436,49.08046 L 2.724,49.07793 L 2.72466,49.07537 L 2.72931,49.07477 L 2.73079,49.07207 L 2.73242,49.0704 L 2.73192,49.0681 L 2.73286,49.06612 L 2.73339,49.0623 L 2.73501,49.06045 L 2.74048,49.06102 L 2.75355,49.06074 L 2.76626,49.06474 L 2.76962,49.06766 L 2.77183,49.06823 L 2.775,49.07074 L 2.77793,49.07023 L 2.78708,49.0755 L 2.7821,49.07772 L 2.77794,49.07859 L 2.77413,49.08036 L 2.77256,49.08149 L 2.76834,49.08326 L 2.77265,49.08361 L 2.7788,49.08277 L 2.78887,49.08287 L 2.78854,49.08445 L 2.78399,49.08864 L 2.78775,49.08912 L 2.79386,49.0908 L 2.79668,49.09259 L 2.79992,49.09316 L 2.80411,49.09548 L 2.80925,49.09754 L 2.81475,49.09198 L 2.81985,49.08737 L 2.82954,49.08383 L 2.83363,49.08295 L 2.83816,49.08334 L 2.83946,49.084 L 2.84495,49.08488 L 2.84827,49.08167 L 2.84899,49.07911 L 2.85014,49.07757 L 2.85496,49.07338 L 2.85465,49.07018 L 2.86627,49.07069 L 2.87032,49.07019 L 2.87214,49.07205 L 2.87359,49.07165 L 2.87606,49.07407 L 2.87961,49.07366 L 2.88053,49.07597 L 2.88376,49.07612 L 2.88555,49.07858 L 2.88761,49.07947 L 2.89495,49.07706 L 2.90151,49.08537 L 2.90599,49.08301 L 2.90647,49.08324 L 2.91125,49.08205 L 2.91745,49.07982 L 2.92154,49.07885 L 2.92331,49.07758 L 2.92591,49.07801 L 2.9297,49.07939 L 2.92924,49.07994 L 2.93307,49.08095 L 2.93471,49.08085 L 2.93408,49.07909 L 2.9357,49.07828 L 2.94059,49.07713 L 2.94288,49.0782 L 2.94459,49.08161 L 2.94442,49.08485 L 2.94583,49.08808 L 2.94827,49.08694 L 2.95674,49.08541 L 2.95877,49.08774 L 2.96103,49.08817 L 2.96531,49.09116 L 2.96873,49.09146 L 2.96877,49.08916 L 2.97143,49.08897 L 2.96961,49.08543 L 2.97228,49.08519 L 2.97177,49.08349 L 2.97317,49.08074 L 2.97535,49.0742 L 2.97713,49.07442 L 2.97746,49.07266 L 2.97972,49.07306 L 2.98284,49.07132 L 2.9834,49.07218 L 2.98689,49.07107 L 2.9882,49.07268 L 2.98771,49.07634 L 2.98884,49.08029 L 2.99124,49.08401 L 2.99333,49.08525 L 2.9953,49.0855 L 2.99641,49.08774 L 2.99944,49.0874 L 3.00088,49.08953 L 3.00189,49.08866 L 3.00396,49.08874 L 3.00605,49.08645 L 3.00852,49.09151 L 3.01555,49.09123 L 3.02652,49.08717 L 3.02953,49.08593 L 3.03157,49.08561 L 3.03279,49.08907 L 3.03966,49.08673 L 3.04022,49.08735 L 3.04658,49.0866 L 3.04992,49.08599 L 3.051,49.08509 L 3.05451,49.08579 L 3.05507,49.08834 L 3.05737,49.08707 L 3.05854,49.08855 L 3.06074,49.08683 L 3.06501,49.08515 L 3.06511,49.08702 L 3.0631,49.09058 L 3.06001,49.09195 L 3.05735,49.09399 L 3.05685,49.0958 L 3.05562,49.09643 L 3.05602,49.10048 L 3.05659,49.10213 L 3.0594,49.10226 L 3.05935,49.10365 L 3.06254,49.10619 L 3.06334,49.10961 L 3.06714,49.11134 L 3.06766,49.11439 L 3.06994,49.1159 L 3.06969,49.11752 L 3.07188,49.11755 L 3.07321,49.11721 L 3.07533,49.11521 L 3.0785,49.1145 L 3.07799,49.11311 L 3.07978,49.11295 L 3.08098,49.11183 L 3.08285,49.11249 L 3.08592,49.11229 L 3.08843,49.11093 L 3.09403,49.11049 L 3.0948,49.11169 L 3.09999,49.10949 L 3.10264,49.108 L 3.10783,49.10742 L 3.10955,49.10786 L 3.11297,49.10784 L 3.11573,49.10731 L 3.11607,49.10841 L 3.12146,49.10931 L 3.1237,49.10696 L 3.12582,49.10599 L 3.13014,49.107 L 3.13309,49.10716 L 3.1344,49.10661 L 3.13613,49.10737 L 3.13817,49.10713 L 3.14013,49.10599 L 3.14106,49.10396 L 3.14397,49.10192 L 3.15181,49.09993 L 3.15277,49.10005 L 3.16098,49.09928 L 3.16523,49.09965 L 3.16206,49.09383 L 3.16112,49.09149 L 3.15931,49.08953 L 3.15859,49.08774 L 3.15618,49.08623 L 3.15358,49.08328 L 3.1576,49.081 L 3.16126,49.07926 L 3.16658,49.07784 L 3.17663,49.06958 L 3.18012,49.06541 L 3.18159,49.06275 L 3.18183,49.06087 L 3.18111,49.05875 L 3.18064,49.05543 L 3.18165,49.0547 L 3.18217,49.05236 L 3.18996,49.05257 L 3.19075,49.05104 L 3.1909,49.04762 L 3.18924,49.04596 L 3.18046,49.04449 L 3.1796,49.04271 L 3.18273,49.04169 L 3.18222,49.04004 L 3.18076,49.0387 L 3.17864,49.03813 L 3.17895,49.03588 L 3.17994,49.03403 L 3.17649,49.03298 L 3.17692,49.03075 L 3.17407,49.02854 L 3.17126,49.02981 L 3.16809,49.02809 L 3.16367,49.02663 L 3.16103,49.02423 L 3.16188,49.02152 L 3.16301,49.01994 L 3.1659,49.02069 L 3.16829,49.01667 L 3.1674,49.0124 L 3.17594,49.01247 L 3.18052,49.01298 L 3.18561,49.01028 L 3.1884,49.00923 L 3.19221,49.00857 L 3.19652,49.00882 L 3.19754,49.00849 L 3.19607,49.00643 L 3.19605,49.00482 L 3.19899,49.00578 L 3.2033,49.00166 L 3.20309,49.00094 L 3.20716,49.00069 L 3.20852,48.99883 L 3.20932,48.99379 L 3.22471,48.99102 L 3.22368,48.99004 L 3.22484,48.98733 L 3.22918,48.98842 L 3.2293,48.98734 L 3.2272,48.98551 L 3.22714,48.98191 L 3.23033,48.98131 L 3.22994,48.97811 L 3.23122,48.97675 L 3.23656,48.97754 L 3.24419,48.97683 L 3.24935,48.97436 L 3.25184,48.97237 L 3.25362,48.96912 L 3.25446,48.96677 L 3.25521,48.96205 L 3.25772,48.95573 L 3.2594,48.95333 L 3.25721,48.95249 L 3.25844,48.95103 L 3.26121,48.94951 L 3.26297,48.94903 L 3.26018,48.94479 L 3.26396,48.94181 L 3.26487,48.93915 L 3.26889,48.93783 L 3.27187,48.93755 L 3.27377,48.93891 L 3.28453,48.94053 L 3.29221,48.94361 L 3.29829,48.94561 L 3.30172,48.947 L 3.30475,48.94876 L 3.30647,48.94643 L 3.31022,48.93937 L 3.31147,48.93739 L 3.31288,48.93362 L 3.31314,48.92763 L 3.31277,48.9241 L 3.31308,48.92122 L 3.31532,48.92048 L 3.31732,48.91844 L 3.3267,48.91283 L 3.3303,48.90871 L 3.3343,48.91075 L 3.33648,48.90919 L 3.3387,48.91197 L 3.34072,48.9128 L 3.34297,48.91488 L 3.34548,48.91601 L 3.34649,48.91702 L 3.3492,48.91552 L 3.3504,48.91796 L 3.35358,48.91524 L 3.36053,48.9184 L 3.36593,48.92313 L 3.36677,48.92253 L 3.36831,48.92766 L 3.37059,48.9261 L 3.37207,48.92403 L 3.37239,48.92241 L 3.37139,48.91861 L 3.37448,48.91304 L 3.37611,48.91104 L 3.3765,48.90968 L 3.37602,48.90741 L 3.37205,48.90591 L 3.37148,48.90524 L 3.36897,48.89368 L 3.37115,48.89203 L 3.37472,48.89185 L 3.37988,48.88871 L 3.38369,48.88891 L 3.38432,48.88747 L 3.38103,48.8869 L 3.38323,48.88455 L 3.38107,48.88392 L 3.3812,48.88275 L 3.38279,48.88057 L 3.3805,48.87955 L 3.38107,48.87807 L 3.38046,48.87418 L 3.38143,48.87157 L 3.38409,48.87144 L 3.3859,48.87233 L 3.39165,48.87086 L 3.39334,48.8718 L 3.39324,48.8754 L 3.39742,48.87508 L 3.39863,48.87588 L 3.40586,48.87588 L 3.40555,48.87305 L 3.40594,48.87084 L 3.40343,48.871 L 3.40187,48.87043 L 3.40048,48.86771 L 3.40068,48.86611 L 3.40421,48.86398 L 3.40723,48.86329 L 3.41067,48.86435 L 3.41293,48.86398 L 3.41513,48.86552 L 3.41888,48.86558 L 3.42065,48.86732 L 3.42399,48.86738 L 3.42469,48.86493 L 3.42729,48.86219 L 3.43035,48.86074 L 3.43559,48.85955 L 3.43966,48.86053 L 3.44474,48.86005 L 3.44563,48.86035 L 3.45223,48.85629 L 3.45171,48.85535 L 3.44846,48.853 L 3.44883,48.85083 L 3.45053,48.84893 L 3.44674,48.84834 L 3.44578,48.84706 L 3.44536,48.84323 L 3.45271,48.84178 L 3.45543,48.84191 L 3.45909,48.84136 L 3.46059,48.84077 L 3.46071,48.83944 L 3.46266,48.8398 L 3.46617,48.84252 L 3.46817,48.84635 L 3.46851,48.84779 L 3.47046,48.851 L 3.48519,48.85191 L 3.48685,48.84928 L 3.48664,48.84594 L 3.48752,48.84349 L 3.49034,48.8386 L 3.49131,48.83467 L 3.48846,48.83127 L 3.48496,48.82501 L 3.48565,48.82007 L 3.48637,48.81693 L 3.4872,48.81519 L 3.4831,48.81365 L 3.48092,48.81218 L 3.47906,48.81389 L 3.47793,48.81411 L 3.47421,48.81829 L 3.47485,48.81938 L 3.47038,48.82089 L 3.46554,48.81892 L 3.45938,48.81804 L 3.46059,48.81511 L 3.4515,48.81312 L 3.44815,48.81115 L 3.44666,48.81233 L 3.44136,48.81157 L 3.44126,48.81302 L 3.43562,48.81188 L 3.43217,48.81226 L 3.41927,48.81643 L 3.41661,48.81783 L 3.40417,48.80927 L 3.40796,48.80664 L 3.41113,48.8037 L 3.41338,48.8041 L 3.41457,48.80311 L 3.41772,48.80287 L 3.42013,48.80338 L 3.42218,48.80241 L 3.42304,48.80075 L 3.42721,48.80153 L 3.43045,48.80177 L 3.43814,48.80435 L 3.44212,48.80358 L 3.44157,48.8015 L 3.43994,48.79812 L 3.44255,48.79488 L 3.44163,48.7935 L 3.44254,48.79182 L 3.44395,48.79139 L 3.4426,48.78814 L 3.44291,48.78618 L 3.44186,48.78241 L 3.44069,48.78225 L 3.43992,48.78438 L 3.43817,48.78511 L 3.43611,48.78447 L 3.4348,48.78319 L 3.43387,48.78079 L 3.42945,48.77943 L 3.42739,48.77985 L 3.42697,48.78085 L 3.42475,48.78233 L 3.4241,48.78412 L 3.41728,48.78414 L 3.41466,48.78449 L 3.41285,48.78314 L 3.40892,48.7839 L 3.40873,48.78212 L 3.40738,48.7778 L 3.40259,48.76972 L 3.39846,48.76441 L 3.39677,48.76058 L 3.39583,48.75925 L 3.39659,48.75782 L 3.39911,48.755 L 3.40062,48.75548 L 3.40458,48.75362 L 3.4091,48.7523 L 3.41413,48.7539 L 3.41433,48.75471 L 3.42335,48.75393 L 3.42383,48.75519 L 3.42586,48.75452 L 3.42649,48.75653 L 3.42852,48.75839 L 3.43091,48.7564 L 3.43243,48.75581 L 3.43659,48.75318 L 3.43638,48.7514 L 3.43772,48.74927 L 3.43782,48.74658 L 3.43628,48.74368 L 3.43917,48.74036 L 3.44407,48.73663 L 3.45024,48.73648 L 3.45182,48.73603 L 3.45304,48.73806 L 3.45586,48.73815 L 3.46502,48.7379 L 3.4674,48.73863 L 3.46973,48.73787 L 3.46747,48.73522 L 3.46675,48.72877 L 3.46708,48.72167 L 3.46817,48.71833 L 3.46807,48.7169 L 3.46616,48.71454 L 3.46531,48.71187 L 3.46726,48.70857 L 3.4643,48.70738 L 3.46681,48.70493 L 3.4695,48.70333 L 3.47035,48.70144 L 3.47281,48.70185 L 3.47696,48.69936 L 3.47778,48.69792 L 3.47628,48.69755 L 3.47256,48.69786 L 3.47188,48.69568 L 3.47064,48.69395 L 3.47251,48.69119 L 3.47143,48.69027 L 3.47354,48.68865 L 3.47168,48.68567 L 3.46939,48.68644 L 3.46583,48.68619 L 3.46268,48.68545 L 3.45634,48.68303 L 3.45456,48.68212 L 3.44755,48.67725 L 3.44949,48.67576 L 3.44684,48.6751 L 3.4427,48.67251 L 3.4443,48.67047 L 3.44618,48.6669 L 3.44061,48.66365 L 3.44257,48.66228 L 3.44568,48.66221 L 3.44706,48.66036 L 3.44989,48.65913 L 3.45096,48.65753 L 3.45421,48.65671 L 3.45815,48.65493 L 3.46043,48.65301 L 3.45797,48.65022 L 3.45882,48.64986 L 3.45571,48.64735 L 3.45698,48.64698 L 3.45543,48.64419 L 3.45637,48.64225 L 3.45364,48.64071 L 3.45203,48.63789 L 3.4533,48.63614 L 3.45109,48.63465 L 3.45788,48.63391 L 3.45797,48.6348 L 3.46184,48.6349 L 3.46278,48.63563 L 3.46802,48.63694 L 3.46815,48.63629 L 3.47262,48.63656 L 3.47657,48.63733 L 3.47602,48.63805 L 3.48033,48.63963 L 3.48596,48.64224 L 3.48777,48.64493 L 3.48964,48.64678 L 3.49288,48.64762 L 3.49861,48.64716 L 3.5019,48.64575 L 3.51044,48.64414 L 3.5175,48.64337 L 3.52893,48.64597 L 3.53324,48.64651 L 3.53283,48.64562 L 3.52938,48.6449 L 3.52969,48.64321 L 3.52821,48.64319 L 3.52534,48.64051 L 3.52107,48.6378 L 3.51738,48.63719 L 3.51886,48.63532 L 3.51907,48.63347 L 3.52228,48.63259 L 3.52567,48.63255 L 3.53196,48.63319 L 3.5332,48.63246 L 3.53679,48.63144 L 3.53798,48.63162 L 3.54335,48.62936 L 3.54784,48.62679 L 3.55125,48.62308 L 3.55482,48.62201 L 3.55561,48.62028 L 3.55847,48.61844 L 3.55851,48.61696 L 3.55703,48.61586 L 3.55446,48.61621 L 3.5499,48.61597 L 3.54084,48.61604 L 3.54091,48.61427 L 3.54011,48.61264 L 3.53533,48.61091 L 3.53462,48.61035 L 3.52728,48.60894 L 3.50812,48.60559 L 3.50321,48.60456 L 3.50648,48.60146 L 3.50858,48.59893 L 3.51231,48.5962 L 3.51586,48.58978 L 3.50658,48.58938 L 3.49318,48.59025 L 3.48951,48.58528 L 3.48528,48.58043 L 3.47338,48.57688 L 3.46902,48.57305 L 3.46552,48.57049 L 3.46725,48.56911 L 3.47081,48.56545 L 3.47196,48.56387 L 3.47423,48.56449 L 3.47453,48.56011 L 3.47696,48.55753 L 3.47694,48.55541 L 3.47548,48.55469 L 3.47638,48.55208 L 3.47889,48.55054 L 3.48374,48.55015 L 3.48589,48.54727 L 3.48576,48.54521 L 3.47909,48.54552 L 3.48175,48.54145 L 3.47566,48.5414 L 3.46969,48.53853 L 3.46722,48.53539 L 3.46343,48.5339 L 3.45919,48.53074 L 3.45695,48.52963 L 3.45071,48.52867 L 3.44948,48.53046 L 3.44675,48.52892 L 3.44003,48.5284 L 3.43331,48.52915 L 3.43031,48.53138 L 3.42658,48.53085 L 3.42344,48.53356 L 3.41548,48.53233 L 3.41424,48.53347 L 3.4054,48.52801 L 3.42068,48.51734 L 3.421,48.51595 L 3.42355,48.51481 L 3.42564,48.51091 L 3.42614,48.50839 L 3.42735,48.50649 L 3.42906,48.50497 L 3.43052,48.50169 L 3.43262,48.50001 L 3.43486,48.49751 L 3.4351,48.49602 L 3.43338,48.49329 L 3.43464,48.49025 L 3.42859,48.49069 L 3.42361,48.4904 L 3.42258,48.49202 L 3.42044,48.49174 L 3.41944,48.48994 L 3.41683,48.49032 L 3.41469,48.48722 L 3.41339,48.48679 L 3.41093,48.48746 L 3.40966,48.48569 L 3.40847,48.48595 L 3.40836,48.48785 L 3.40756,48.48866 L 3.40507,48.48855 L 3.40396,48.48772 L 3.40398,48.48602 L 3.40142,48.48615 L 3.39997,48.48738 L 3.39811,48.4863 L 3.40056,48.48453 L 3.39933,48.48361 L 3.39348,48.48434 L 3.39245,48.48156 L 3.3879,48.48021 L 3.38336,48.47944 L 3.38616,48.47728 L 3.3885,48.47719 L 3.39047,48.47351 L 3.39115,48.47047 L 3.39315,48.47007 L 3.39581,48.47057 L 3.39677,48.4686 L 3.39964,48.46768 L 3.40024,48.46646 L 3.39718,48.46631 L 3.39414,48.46454 L 3.39438,48.46274 L 3.39597,48.4612 L 3.40064,48.45954 L 3.40049,48.45757 L 3.40177,48.45701 L 3.40359,48.45449 L 3.40648,48.45245 L 3.40628,48.44811 L 3.40406,48.44276 L 3.4047,48.44161 L 3.40403,48.44049 L 3.40494,48.43941 L 3.40148,48.43765 L 3.40159,48.43575 L 3.39515,48.43682 L 3.39698,48.43457 L 3.39663,48.43274 L 3.3946,48.43173 L 3.39562,48.43072 L 3.39477,48.42801 L 3.39207,48.4269 L 3.39167,48.42325 L 3.39453,48.42431 L 3.39748,48.42452 L 3.40097,48.42394 L 3.40048,48.42249 L 3.40477,48.4235 L 3.40775,48.42283 L 3.41183,48.42131 L 3.41146,48.41742 L 3.4087,48.41763 L 3.40764,48.41556 L 3.40241,48.41767 L 3.40175,48.41622 L 3.4025,48.41517 L 3.40568,48.41537 L 3.40782,48.41435 L 3.41355,48.41416 L 3.41528,48.41563 L 3.41708,48.41516 L 3.41852,48.41613 L 3.42076,48.41666 L 3.4221,48.41619 L 3.42224,48.41286 L 3.42053,48.40862 L 3.4182,48.40386 L 3.4169,48.40056 L 3.41652,48.39822 L 3.41519,48.39571 L 3.41555,48.39373 L 3.41479,48.39027 L 3.40965,48.3904 L 3.40637,48.38978 L 3.4059,48.3911 L 3.40204,48.38971 L 3.39997,48.39208 L 3.39761,48.39165 L 3.39549,48.39244 L 3.39457,48.39361 L 3.39473,48.39546 L 3.39062,48.3963 L 3.38816,48.3972 L 3.38789,48.39835 L 3.38525,48.39838 L 3.38342,48.39939 L 3.37791,48.39911 L 3.37541,48.39869 L 3.37506,48.39674 L 3.37348,48.3935 L 3.36722,48.39432 L 3.36279,48.38258 L 3.36306,48.38097 L 3.36261,48.37699 L 3.36306,48.37596 L 3.36572,48.37585 L 3.36516,48.37228 L 3.35942,48.37221 L 3.35768,48.37102 L 3.35642,48.37121 L 3.35591,48.37634 L 3.35656,48.37845 L 3.35097,48.37863 L 3.34842,48.37326 L 3.34464,48.37334 L 3.3364,48.373 L 3.33547,48.37018 L 3.331,48.3731 L 3.32857,48.37272 L 3.32237,48.37348 L 3.32001,48.37561 L 3.31707,48.37647 L 3.31207,48.37723 L 3.30932,48.37698 L 3.31091,48.37297 L 3.30515,48.37287 L 3.30494,48.37397 L 3.3018,48.37394 L 3.30129,48.37534 L 3.29933,48.37544 L 3.30019,48.37837 L 3.29811,48.37869 L 3.29437,48.37679 L 3.28963,48.37584 L 3.29126,48.38005 L 3.28851,48.3807 L 3.28608,48.38078 L 3.28282,48.38157 L 3.2824,48.37752 L 3.27316,48.37717 L 3.27218,48.37889 L 3.26802,48.37797 L 3.2684,48.37597 L 3.2668,48.37589 L 3.26704,48.37355 L 3.26089,48.37301 L 3.26174,48.36829 L 3.25661,48.36783 L 3.25673,48.36648 L 3.25443,48.36642 L 3.25438,48.36502 L 3.25168,48.36492 L 3.24966,48.3656 L 3.24803,48.36751 L 3.24491,48.36735 L 3.23885,48.36778 L 3.23206,48.3693 L 3.23284,48.37033 L 3.22602,48.37008 L 3.22372,48.3704 L 3.21417,48.36747 L 3.20865,48.3653 L 3.2058,48.36491 L 3.20445,48.3642 L 3.20034,48.36368 L 3.19858,48.36523 L 3.19834,48.36654 L 3.19615,48.36854 L 3.19378,48.36916 L 3.19026,48.37093 L 3.18624,48.3683 L 3.18494,48.36813 L 3.18253,48.37331 L 3.17967,48.37572 L 3.17483,48.37719 L 3.17181,48.37768 L 3.16911,48.37342 L 3.16677,48.37065 L 3.16412,48.37134 L 3.15895,48.37138 L 3.15707,48.37215 L 3.15555,48.37029 L 3.15242,48.37144 L 3.15039,48.36953 L 3.14813,48.36989 L 3.14657,48.36565 L 3.1433,48.36833 L 3.14102,48.36887 L 3.14132,48.3706 L 3.13987,48.3726 L 3.13687,48.37204 L 3.13503,48.37059 L 3.13246,48.36946 L 3.12809,48.36963 L 3.12885,48.36723 L 3.12622,48.36725 L 3.12569,48.36802 L 3.12247,48.36862 L 3.11955,48.36694 L 3.11721,48.36662 L 3.11352,48.36332 L 3.11104,48.36021 L 3.10902,48.35566 L 3.10733,48.35407 L 3.10547,48.3513 L 3.10342,48.34951 L 3.0996,48.3516 L 3.09962,48.35304 L 3.10113,48.3547 L 3.10115,48.35645 L 3.09888,48.35782 L 3.09335,48.35799 L 3.08869,48.35725 L 3.08472,48.35805 L 3.08172,48.36049 L 3.07836,48.36119 L 3.07512,48.36054 L 3.07016,48.35823 L 3.06771,48.35779 L 3.06055,48.35744 L 3.05833,48.35817 L 3.05426,48.3605 L 3.04952,48.36012 L 3.04836,48.3582 L 3.04617,48.35797 L 3.04157,48.35036 L 3.04032,48.34758 L 3.0388,48.34566 L 3.03714,48.34257 L 3.03962,48.34165 L 3.0388,48.34067 L 3.03676,48.3401 L 3.03627,48.33768 L 3.03666,48.33502 L 3.04273,48.33251 L 3.0423,48.33154 L 3.04358,48.33044 L 3.04187,48.32916 L 3.03735,48.32805 L 3.03658,48.32603 L 3.03208,48.32318 L 3.02822,48.32163 L 3.02898,48.31982 L 3.02624,48.31908 L 3.02703,48.31701 L 3.02518,48.31638 L 3.02402,48.31446 L 3.02244,48.31407 L 3.0159,48.3079 L 3.01478,48.30622 L 3.01548,48.30514 L 3.01941,48.30318 L 3.02143,48.30332 L 3.02744,48.30286 L 3.02725,48.30037 L 3.02589,48.2993 L 3.02005,48.29655 L 3.01874,48.29476 L 3.02509,48.29018 L 3.02714,48.28755 L 3.02977,48.28584 L 3.02635,48.28192 L 3.02496,48.27601 L 3.02835,48.27504 L 3.03174,48.27358 L 3.03793,48.27341 L 3.04468,48.2716 L 3.04547,48.27073 L 3.04616,48.2669 L 3.04324,48.26349 L 3.04276,48.26201 L 3.045,48.25925 L 3.04624,48.25578 L 3.04601,48.25372 L 3.04757,48.2497 L 3.04308,48.24932 L 3.03566,48.2509 L 3.03146,48.24888 L 3.0291,48.2463 L 3.02621,48.24205 L 3.02756,48.24148 L 3.01857,48.23519 L 3.02062,48.23418 L 3.01892,48.23177 L 3.02281,48.23032 L 3.01818,48.22661 L 3.01384,48.22349 L 3.01131,48.22081 L 3.01027,48.21825 L 3.00687,48.21458 L 3.00851,48.21219 L 3.00462,48.20677 L 3.00206,48.20715 L 2.99943,48.20648 L 2.99694,48.20709 L 2.99498,48.20543 L 2.99301,48.20445 L 2.99168,48.20509 L 2.9913,48.20725 L 2.98896,48.20902 L 2.98593,48.208 L 2.9818,48.20602 L 2.97992,48.20559 L 2.97305,48.20555 L 2.97161,48.20354 L 2.97145,48.20102 L 2.97377,48.19849 L 2.97376,48.19678 L 2.97131,48.19477 L 2.96738,48.19286 L 2.9655,48.19292 L 2.95869,48.19129 L 2.95542,48.19252 L 2.94852,48.18909 L 2.94511,48.18632 L 2.9405,48.18306 L 2.93695,48.18303 L 2.93569,48.17949 L 2.93475,48.17882 L 2.93513,48.17689 L 2.93458,48.17594 L 2.93461,48.17243 L 2.935,48.17117 L 2.93528,48.16614 L 2.93631,48.16339 L 2.92408,48.16202 L 2.90011,48.15948 L 2.87654,48.15707 L 2.86803,48.15643 L 2.86682,48.15604 L 2.86342,48.15143 L 2.86213,48.15116 L 2.85901,48.14735 L 2.85462,48.14441 L 2.85021,48.14204 L 2.84988,48.1411 L 2.84692,48.14111 L 2.84611,48.13981 L 2.842,48.1387 L 2.83882,48.13647 L 2.83618,48.13414 L 2.8306,48.13426 L 2.8259,48.13329 L 2.82421,48.13393 L 2.82088,48.12966 L 2.8174,48.12986 L 2.81364,48.13144 L 2.81034,48.13021 L 2.80739,48.13102 L 2.80122,48.13145 L 2.80091,48.13325 L 2.79926,48.13798 L 2.79688,48.14172 L 2.79796,48.14324 L 2.79803,48.14482 L 2.79961,48.14571 L 2.79928,48.14674 L 2.80114,48.14958 L 2.79864,48.15016 L 2.79791,48.15116 L 2.79867,48.15243 L 2.80291,48.15574 L 2.80353,48.15552 L 2.80704,48.15821 L 2.80892,48.15878 L 2.80866,48.16013 L 2.81031,48.161 L 2.81044,48.16284 L 2.81142,48.16376 L 2.81033,48.16613 L 2.80823,48.16624 L 2.806,48.16537 L 2.80168,48.16428 L 2.80061,48.16474 L 2.80008,48.16806 L 2.79748,48.1674 L 2.79526,48.16908 L 2.79415,48.16887 L 2.79302,48.16588 L 2.79207,48.16455 L 2.78596,48.16648 L 2.77916,48.1675 L 2.77632,48.16554 L 2.77564,48.16428 L 2.77307,48.16294 L 2.77172,48.16169 L 2.76938,48.16287 L 2.76803,48.16292 L 2.76724,48.1649 L 2.75856,48.1634 L 2.7597,48.16182 L 2.75517,48.16009 L 2.75271,48.16243 L 2.75055,48.16208 L 2.74626,48.1638 L 2.73855,48.16549 L 2.73641,48.16631 L 2.741,48.15987 L 2.74275,48.1596 L 2.74379,48.1584 L 2.74556,48.15882 L 2.74601,48.1572 L 2.74996,48.15574 L 2.75022,48.1547 L 2.75358,48.15321 L 2.75549,48.14938 L 2.7552,48.14565 L 2.75082,48.145 L 2.74611,48.14344 L 2.72046,48.13691 L 2.71911,48.13494 L 2.71856,48.13297 L 2.7145,48.12965 L 2.7075,48.12594 L 2.70532,48.12303 L 2.70351,48.12424 L 2.69661,48.12521 L 2.69413,48.12531 L 2.69278,48.12397 L 2.68868,48.12496 L 2.68324,48.12449 L 2.67811,48.12483 L 2.67743,48.12593 L 2.67281,48.12475 L 2.67154,48.12214 L 2.66885,48.12084 L 2.66475,48.12054 L 2.6604,48.1241 L 2.65694,48.12735 L 2.64471,48.13732 L 2.64329,48.13737 L 2.63967,48.13895 L 2.63389,48.13834 L 2.63079,48.13736 L 2.62105,48.13603 L 2.61742,48.13505 L 2.61297,48.1329 L 2.60268,48.13149 L 2.59382,48.13173 L 2.59068,48.1321 L 2.58611,48.13197 L 2.58059,48.13234 L 2.57683,48.13195 L 2.57482,48.13127 L 2.57056,48.14082 L 2.55827,48.14161 L 2.55478,48.14076 L 2.54853,48.14063 L 2.54195,48.1411 L 2.53751,48.14034 L 2.52936,48.13441 L 2.52269,48.12818 L 2.52152,48.1273 L 2.51964,48.12714 L 2.52187,48.12512 L 2.51912,48.12535 L 2.5161,48.12648 L 2.49032,48.1266 L 2.48111,48.12869 L 2.47601,48.12964 L 2.47205,48.1282 L 2.46916,48.12919 L 2.46796,48.12735 L 2.46487,48.12911 L 2.4601,48.12691 L 2.45889,48.12561 L 2.45438,48.12237 L 2.45109,48.12346 L 2.44921,48.12548 L 2.44431,48.12423 L 2.44276,48.1254 L 2.44426,48.13147 L 2.44708,48.13142 L 2.44889,48.13227 L 2.45157,48.13218 L 2.45192,48.13434 L 2.4546,48.13564 L 2.46012,48.13685 L 2.46308,48.1403 L 2.46443,48.14368 L 2.46598,48.14498 L 2.46753,48.14822 L 2.47465,48.14883 L 2.47386,48.15406 L 2.47534,48.15611 L 2.47857,48.155 L 2.47838,48.15674 L 2.48121,48.16267 L 2.48324,48.16452 L 2.4882,48.16222 L 2.49753,48.15955 L 2.49962,48.15923 L 2.50284,48.15811 L 2.50633,48.15644 L 2.51653,48.16624 L 2.51684,48.16681 L 2.51436,48.16865 L 2.51469,48.16933 L 2.51235,48.17068 L 2.51547,48.17477 L 2.5121,48.17644 L 2.50728,48.17968 L 2.50875,48.18072 L 2.50897,48.18197 L 2.51045,48.18349 L 2.51395,48.18583 L 2.51814,48.18991 L 2.51715,48.19093 L 2.51376,48.19042 L 2.51297,48.19298 L 2.51452,48.19298 L 2.51787,48.1941 L 2.52313,48.19489 L 2.52294,48.20052 L 2.51939,48.20065 L 2.51851,48.20133 L 2.51959,48.20443 L 2.52102,48.20659 L 2.51699,48.20983 L 2.5174,48.21438 L 2.51412,48.21438 L 2.51432,48.21608 L 2.51534,48.21762 L 2.5142,48.21865 L 2.51334,48.22436 L 2.51833,48.22759 L 2.51544,48.2276 L 2.51099,48.22617 L 2.50689,48.22599 L 2.50704,48.23013 L 2.50771,48.23282 L 2.50619,48.23854 L 2.50055,48.23884 L 2.49481,48.23878 L 2.49239,48.23918 L 2.48768,48.23941 L 2.48666,48.24011 L 2.48411,48.23905 L 2.47634,48.24444 L 2.4789,48.24951 L 2.47594,48.25028 L 2.47635,48.25118 L 2.46909,48.25527 L 2.45838,48.25164 L 2.45252,48.25003 L 2.45016,48.25004 L 2.45016,48.25116 L 2.4464,48.25518 L 2.44351,48.2546 L 2.4425,48.25351 L 2.44014,48.2532 L 2.43873,48.25465 L 2.43348,48.25478 L 2.43039,48.25551 L 2.42844,48.25659 L 2.4269,48.25969 L 2.42352,48.26037 L 2.42272,48.26113 L 2.42178,48.26382 L 2.41996,48.26657 L 2.42111,48.26764 L 2.41896,48.27157 L 2.41789,48.27215 L 2.41837,48.27422 L 2.41984,48.27503 L 2.41924,48.27714 L 2.4177,48.27885 L 2.41824,48.28114 L 2.4198,48.28284 L 2.4202,48.28514 L 2.42128,48.28541 L 2.42317,48.28752 L 2.4225,48.29071 L 2.42332,48.29476 L 2.42129,48.29619 L 2.42109,48.29867 L 2.41882,48.30092 L 2.41881,48.30159 L 2.41477,48.30452 L 2.41342,48.30685 L 2.40892,48.30911 L 2.40953,48.30991 L 2.40569,48.31423 L 2.40434,48.31491 L 2.40414,48.31757 L 2.40265,48.31802 L 2.40266,48.32072 L 2.39848,48.3187 L 2.39996,48.31568 L 2.39747,48.31456 L 2.39518,48.31487 L 2.39079,48.31303 L 2.38823,48.31275 L 2.38634,48.31177 L 2.38262,48.31123 L 2.38135,48.3115 L 2.37535,48.31025 L 2.36995,48.30867 L 2.36901,48.30926 L 2.36713,48.31206 L 2.36105,48.30922 L 2.35823,48.30849 L 2.3558,48.31043 L 2.35647,48.31105 L 2.35407,48.31302 L 2.35347,48.31441 L 2.3487,48.31525 L 2.34812,48.31633 L 2.3459,48.31611 L 2.34601,48.31733 L 2.34198,48.31683 L 2.34016,48.32023 L 2.33639,48.32582 L 2.33478,48.32739 L 2.32816,48.3264 L 2.32905,48.32901 L 2.3287,48.33161 L 2.32755,48.33297 L 2.32645,48.32965 L 2.32445,48.32961 L 2.3246,48.33193 L 2.32365,48.33238 L 2.31812,48.33018 L 2.31718,48.33157 L 2.31259,48.3308 L 2.31306,48.32896 L 2.31124,48.32882 L 2.30922,48.32631 L 2.30862,48.32469 L 2.3074,48.32424 L 2.30168,48.31547 L 2.30074,48.3157 L 2.29871,48.312 L 2.30021,48.31123 L 2.29569,48.30808 L 2.29024,48.30953 L 2.28867,48.31043 L 2.28537,48.31132 L 2.28314,48.31262 L 2.28078,48.31221 L 2.27747,48.31275 L 2.27229,48.31204 L 2.27222,48.31384 L 2.26891,48.31352 L 2.26912,48.31504 L 2.2669,48.31468 L 2.26259,48.31037 L 2.26522,48.30937 L 2.26266,48.30803 L 2.26192,48.30691 L 2.25888,48.30721 L 2.25599,48.30281 L 2.25357,48.30024 L 2.25283,48.30051 L 2.24516,48.2984 L 2.24542,48.3001 L 2.24494,48.30226 L 2.24682,48.30559 L 2.24661,48.30887 L 2.24943,48.31458 L 2.2493,48.31629 L 2.24566,48.3162 L 2.23805,48.31637 L 2.24086,48.32119 L 2.24168,48.32105 L 2.2443,48.3256 L 2.24631,48.32996 L 2.24617,48.33126 L 2.24287,48.33288 L 2.24199,48.33126 L 2.23983,48.33094 L 2.23774,48.33207 L 2.23619,48.33095 L 2.23343,48.33067 L 2.23546,48.32932 L 2.23432,48.32788 L 2.23006,48.32932 L 2.22757,48.32963 L 2.22925,48.33134 L 2.22851,48.33296 L 2.22669,48.33264 L 2.22391,48.33642 L 2.21961,48.33552 L 2.21785,48.33353 L 2.21583,48.33421 L 2.21575,48.33713 L 2.21312,48.33757 L 2.2117,48.33874 L 2.21258,48.34064 L 2.20716,48.3418 L 2.20709,48.34494 L 2.20225,48.3446 L 2.20188,48.34308 L 2.20508,48.34229 L 2.20286,48.33891 L 2.19821,48.33707 L 2.19781,48.3363 L 2.19504,48.33562 L 2.19148,48.33385 L 2.19061,48.3326 L 2.1879,48.33237 L 2.18865,48.32904 L 2.18812,48.32805 L 2.18549,48.32684 L 2.18213,48.32427 L 2.18215,48.32152 L 2.18457,48.32278 L 2.1849,48.32112 L 2.18242,48.31496 L 2.18089,48.31312 L 2.18069,48.31168 L 2.17475,48.31428 L 2.17171,48.31594 L 2.16902,48.3127 L 2.1548,48.31493 L 2.15439,48.31591 L 2.1523,48.31591 L 2.15183,48.31384 L 2.15436,48.30715 L 2.15571,48.3045 L 2.16097,48.30455 L 2.16375,48.29843 L 2.16031,48.29853 L 2.15651,48.29908 L 2.14508,48.29931 L 2.13612,48.29925 L 2.13221,48.29878 L 2.1106,48.29695 L 2.11372,48.30725 L 2.10617,48.30763 L 2.10463,48.30731 L 2.09985,48.30493 L 2.09838,48.30259 L 2.09683,48.30155 L 2.0938,48.30051 L 2.09118,48.2991 L 2.0897,48.29748 L 2.08938,48.29528 L 2.08534,48.29401 L 2.0815,48.2936 L 2.07092,48.29412 L 2.06728,48.29402 L 2.05864,48.29463 L 2.05271,48.29547 L 2.05191,48.29403 L 2.05193,48.29098 L 2.04937,48.28975 L 2.04381,48.28645 L 2.04126,48.28438 L 2.03909,48.285 L 2.03922,48.28603 L 2.03694,48.28638 L 2.0374,48.28823 L 2.0345,48.28823 L 2.02499,48.28923 L 2.02433,48.28788 L 2.02015,48.2877 L 2.02003,48.28607 L 2.01181,48.28583 L 2.01155,48.28483 L 2.00791,48.28532 L 2.00724,48.28469 L 2.00468,48.28477 L 2.00333,48.28625 L 1.99408,48.28659 L 1.99025,48.2877 L 1.98985,48.28643 L 1.98134,48.28821 L 1.98073,48.28706 L 1.97529,48.2872 L 1.97509,48.28801 L 1.97272,48.28822 L 1.97451,48.29291 L 1.98038,48.29225 L 1.98237,48.29545 L 1.98029,48.29599 L 1.97543,48.29606 L 1.97436,48.29394 L 1.97141,48.29353 L 1.97273,48.29672 L 1.96923,48.29644 L 1.9652,48.29516 L 1.96397,48.29719 L 1.96114,48.30478 L 1.96222,48.30555 L 1.9588,48.30664 L 1.95987,48.3075 L 1.95923,48.30869 L 1.96406,48.31131 L 1.96964,48.31367 L 1.96944,48.31423 L 1.97346,48.31591 L 1.97414,48.31516 L 1.9745,48.3126 L 1.97909,48.31266 L 1.97874,48.31387 L 1.97924,48.31855 L 1.98065,48.31877 L 1.9745,48.32317 L 1.97871,48.32628 L 1.98234,48.32832 L 1.97495,48.33526 L 1.97055,48.33898 L 1.9687,48.34131 L 1.97059,48.34226 L 1.96971,48.34329 L 1.97536,48.34479 L 1.97447,48.34699 L 1.97547,48.34726 L 1.97429,48.35136 L 1.97291,48.35405 L 1.97331,48.35581 L 1.97842,48.35879 L 1.98246,48.3602 L 1.98682,48.36214 L 1.98903,48.36358 L 1.98647,48.36398 L 1.98458,48.3651 L 1.9839,48.36667 L 1.98415,48.36834 L 1.98307,48.36874 L 1.97801,48.36886 L 1.98022,48.37021 L 1.97988,48.37183 L 1.98149,48.3726 L 1.98215,48.37485 L 1.98012,48.37484 L 1.98031,48.37826 L 1.97781,48.37857 L 1.97631,48.38027 L 1.96672,48.38042 L 1.9676,48.38168 L 1.96826,48.38412 L 1.96934,48.38394 L 1.97288,48.38898 L 1.97416,48.38979 L 1.9729,48.3942 L 1.97335,48.39577 L 1.97724,48.39917 L 1.97651,48.39952 L 1.97824,48.402 L 1.97149,48.40162 L 1.96791,48.40232 L 1.96561,48.40349 L 1.96223,48.40433 L 1.95262,48.40604 L 1.94642,48.40634 L 1.94042,48.40501 L 1.93549,48.40423 L 1.93212,48.40341 L 1.92837,48.40605 L 1.93273,48.41069 L 1.92589,48.41274 L 1.92762,48.41634 L 1.93194,48.41631 L 1.93219,48.42036 L 1.93847,48.41994 L 1.93961,48.41958 L 1.94072,48.42548 L 1.93747,48.42641 L 1.93698,48.4278 L 1.93853,48.42871 L 1.93676,48.43005 L 1.93682,48.43126 L 1.93911,48.43199 L 1.93916,48.43428 L 1.93633,48.43481 L 1.94289,48.44109 L 1.94033,48.44166 L 1.93553,48.4407 L 1.93296,48.44204 L 1.93449,48.44379 L 1.93144,48.44482 L 1.93282,48.44968 L 1.92855,48.45097 L 1.93063,48.45372 L 1.92792,48.45461 L 1.92945,48.45696 L 1.92215,48.4576 L 1.92326,48.45338 L 1.92074,48.44775 L 1.91188,48.44776 L 1.91163,48.44548 L 1.90709,48.44536 L 1.9064,48.44015 L 1.90451,48.43999 L 1.90426,48.43861 L 1.89813,48.4395 L 1.89689,48.43893 L 1.89188,48.44031 L 1.88898,48.43976 L 1.88607,48.4397 L 1.87944,48.44067 L 1.87539,48.44042 L 1.87169,48.43978 L 1.86905,48.44031 L 1.86911,48.44134 L 1.86639,48.44215 L 1.86402,48.442 L 1.8638,48.44447 L 1.86109,48.44446 L 1.86074,48.44564 L 1.85779,48.44557 L 1.85762,48.44678 L 1.85216,48.44664 L 1.84492,48.4461 L 1.84599,48.44747 L 1.84557,48.44934 L 1.84416,48.44938 L 1.84413,48.45203 L 1.8396,48.45232 L 1.83989,48.45651 L 1.83803,48.46001 L 1.83562,48.46356 L 1.83659,48.46709 L 1.83214,48.46758 L 1.82829,48.46711 L 1.82242,48.46596 L 1.81573,48.4657 L 1.81147,48.46627 L 1.80769,48.46584 L 1.80145,48.46604 L 1.80311,48.46902 L 1.80126,48.47166 L 1.80321,48.47257 L 1.79939,48.47538 L 1.79852,48.47506 L 1.79525,48.47748 L 1.79421,48.47936 L 1.79156,48.48124 L 1.79634,48.48419 L 1.7943,48.48517 L 1.79462,48.48593 L 1.79164,48.48673 L 1.7921,48.48786 L 1.78564,48.49008 L 1.78697,48.49201 L 1.78938,48.49423 L 1.79064,48.49684 L 1.78881,48.49759 L 1.78905,48.50016 L 1.78303,48.50022 L 1.7819,48.50507 L 1.78032,48.50703 L 1.77989,48.50956 L 1.77684,48.50931 L 1.77617,48.51443 L 1.77837,48.51768 L 1.77704,48.52131 L 1.77575,48.52771 L 1.77939,48.53599 L 1.78206,48.53947 L 1.7809,48.54 L 1.78417,48.54482 L 1.7838,48.54672 L 1.7852,48.5483 L 1.78725,48.55374 L 1.77818,48.55263 L 1.77885,48.55357 L 1.77666,48.55545 L 1.76796,48.55896 L 1.76685,48.56057 L 1.76273,48.56513 L 1.76359,48.56712 L 1.76223,48.5676 L 1.76533,48.56937 L 1.76185,48.5716 L 1.75871,48.57316 L 1.7574,48.57496 L 1.75314,48.57457 L 1.74586,48.57614 L 1.74389,48.57246 L 1.74284,48.57326 L 1.73683,48.57228 L 1.73178,48.57554 L 1.72742,48.5726 L 1.72327,48.57437 L 1.71788,48.57609 L 1.70925,48.57802 L 1.7103,48.58136 L 1.70199,48.585 L 1.70505,48.58879 L 1.70912,48.59532 L 1.71066,48.59575 L 1.71413,48.59806 L 1.71381,48.59968 L 1.71877,48.60574 L 1.71719,48.60756 L 1.71848,48.60992 L 1.71677,48.6103 L 1.7154,48.61391 L 1.71466,48.61468 L 1.70549,48.61304 L 1.70282,48.61181 L 1.70129,48.61264 L 1.699,48.61214 L 1.69258,48.61464 L 1.69091,48.61414 L 1.68958,48.61165 L 1.6871,48.61117 L 1.68504,48.61306 L 1.68367,48.6136 L 1.68232,48.6156 L 1.69023,48.6169 L 1.69063,48.61741 L 1.68491,48.61983 L 1.68143,48.61887 L 1.67889,48.61878 L 1.6764,48.61733 L 1.67442,48.61471 L 1.67271,48.61575 L 1.66794,48.61709 L 1.66713,48.61579 L 1.66738,48.61412 L 1.66622,48.61371 L 1.66354,48.61652 L 1.65991,48.61893 L 1.65757,48.62129 L 1.65517,48.62272 L 1.65771,48.62607 L 1.65824,48.62764 L 1.65653,48.62867 L 1.65699,48.62966 L 1.64957,48.63227 L 1.6493,48.63541 L 1.65042,48.63744 L 1.64925,48.63861 L 1.64538,48.64002 L 1.64147,48.64287 L 1.63983,48.64457 L 1.63832,48.6451 L 1.64195,48.64756 L 1.64385,48.64806 L 1.6432,48.65129 L 1.6383,48.6505 L 1.63561,48.64923 L 1.63142,48.64848 L 1.62718,48.65021 L 1.62577,48.64957 L 1.62276,48.65072 L 1.62122,48.64958 L 1.61295,48.65435 L 1.61101,48.65676 L 1.6086,48.65899 L 1.60312,48.66242 L 1.60234,48.66498 L 1.60146,48.6652 L 1.60128,48.66834 L 1.608,48.6723 L 1.60689,48.67395 L 1.60469,48.67524 L 1.60589,48.67728 L 1.60586,48.67876 L 1.60934,48.68292 L 1.61066,48.6854 L 1.61177,48.68947 L 1.60539,48.68926 L 1.60238,48.69069 L 1.59923,48.69166 L 1.59436,48.69483 L 1.5912,48.69251 L 1.58695,48.69505 L 1.58219,48.69605 L 1.58512,48.69926 L 1.58212,48.70028 L 1.58033,48.70148 L 1.57685,48.70258 L 1.58476,48.70501 L 1.59171,48.70772 L 1.59183,48.70884 L 1.5876,48.71062 L 1.5888,48.71193 L 1.59411,48.71609 L 1.59702,48.72106 L 1.60124,48.72051 L 1.60376,48.72484 L 1.60894,48.72837 L 1.61008,48.72887 L 1.61175,48.73154 L 1.61583,48.73615 L 1.62026,48.73601 L 1.6226,48.73862 L 1.62157,48.73885 L 1.62343,48.74141 L 1.6218,48.74194 L 1.62654,48.74805 L 1.62305,48.74983 L 1.61269,48.75633 L 1.60974,48.75765 L 1.60834,48.76075 L 1.60645,48.76029 L 1.6001,48.76052 L 1.58907,48.76166 L 1.58547,48.76172 L 1.58281,48.76237 L 1.58491,48.7633 L 1.58146,48.76552 L 1.58759,48.7736 L 1.58308,48.77582 L 1.58422,48.77727 L 1.5804,48.77756 L 1.58112,48.77992 L 1.57783,48.78124 L 1.57663,48.78302 L 1.57603,48.78743 L 1.57703,48.78879 L 1.57529,48.79115 L 1.58096,48.79375 L 1.57754,48.79553 L 1.5793,48.79635 L 1.57817,48.79877 L 1.57999,48.79991 L 1.57819,48.80192 L 1.579,48.80287 L 1.57725,48.8052 L 1.58099,48.80585 L 1.58202,48.80532 L 1.58343,48.80717 L 1.57943,48.80889 L 1.58071,48.81056 L 1.58323,48.81067 L 1.5912,48.81487 L 1.5895,48.81953 L 1.58409,48.8266 L 1.57898,48.82944 L 1.58006,48.83034 L 1.58427,48.83253 L 1.59392,48.83372 L 1.59511,48.83607 L 1.59659,48.83698 L 1.59785,48.83906 L 1.59294,48.84001 L 1.59347,48.84101 L 1.58662,48.8432 L 1.58218,48.84421 L 1.57727,48.84436 L 1.5783,48.8491 L 1.57977,48.85045 L 1.5816,48.855 L 1.58346,48.85807 L 1.58404,48.86051 L 1.58008,48.86106 L 1.57804,48.86087 L 1.57392,48.86326 L 1.572,48.86392 L 1.56945,48.86567 L 1.5648,48.86653 L 1.56049,48.86781 L 1.55884,48.86424 L 1.55522,48.86507 L 1.55369,48.86695 L 1.54721,48.87114 L 1.54623,48.87243 L 1.54836,48.87595 L 1.55136,48.87516 L 1.55344,48.87753 L 1.55483,48.87982 L 1.55618,48.88087 L 1.55624,48.88221 L 1.55978,48.88205 L 1.56196,48.88715 L 1.56105,48.88769 L 1.56374,48.89063 L 1.55725,48.89158 L 1.5534,48.89326 L 1.5533,48.89546 L 1.55097,48.89625 L 1.54958,48.89768 L 1.54997,48.89872 L 1.54717,48.89995 L 1.54612,48.90121 L 1.54354,48.90093 L 1.54204,48.90365 L 1.53917,48.90489 L 1.53843,48.90848 L 1.5413,48.90836 L 1.54528,48.91092 L 1.54525,48.91299 L 1.54276,48.91459 L 1.54087,48.91681 L 1.54052,48.91848 L 1.5384,48.92251 L 1.53547,48.92241 L 1.53302,48.92279 L 1.5291,48.92442 L 1.52417,48.92497 L 1.5224,48.92479 L 1.51864,48.92535 L 1.51419,48.92195 L 1.51101,48.92365 L 1.50734,48.9276 L 1.50738,48.92926 L 1.50845,48.93097 L 1.51123,48.9319 L 1.51201,48.93447 L 1.51109,48.93541 L 1.50249,48.94065 L 1.50152,48.94105 L 1.511,48.95357 L 1.50577,48.95391 L 1.50547,48.95231 L 1.50286,48.95216 L 1.50107,48.95268 L 1.49497,48.95679 L 1.49873,48.95695 L 1.49813,48.9599 L 1.49935,48.96046 L 1.49604,48.96268 L 1.4919,48.96441 L 1.49661,48.96934 L 1.50538,48.97256 L 1.50504,48.97309 L 1.51145,48.97546 L 1.51555,48.9764 L 1.51839,48.97835 L 1.51242,48.97863 L 1.50902,48.98283 L 1.5079,48.98376 L 1.50445,48.98204 L 1.5001,48.98106 L 1.49805,48.97992 L 1.49836,48.97916 L 1.49165,48.97924 L 1.48762,48.97971 L 1.48421,48.97968 L 1.48115,48.9784 L 1.47858,48.98055 L 1.47504,48.97953 L 1.47736,48.97689 L 1.47505,48.97592 L 1.47089,48.97482 L 1.46754,48.97937 L 1.4661,48.98391 L 1.46492,48.98498 L 1.46279,48.98497 L 1.46093,48.98644 L 1.4617,48.98887 L 1.47153,48.9897 L 1.47059,48.9918 L 1.46907,48.9935 L 1.4713,48.99461 L 1.47425,48.99764 L 1.47666,48.99716 L 1.47875,48.99889 L 1.47818,48.99955 L 1.48048,49.00115 L 1.48003,49.00753 L 1.47412,49.0096 L 1.47788,49.01376 L 1.47632,49.0165 L 1.47493,49.01775 L 1.47005,49.01915 L 1.46447,49.02226 L 1.46157,49.02349 L 1.45776,49.02629 L 1.45748,49.03029 L 1.45796,49.03484 L 1.45399,49.03832 L 1.45003,49.0422 L 1.44645,49.04635 L 1.44992,49.04763 L 1.4528,49.05054 L 1.44728,49.05351 L 1.45529,49.0573 L 1.45692,49.05789 L 1.45717,49.05897 L 1.4608,49.06274 L 1.46173,49.06414 L 1.46437,49.06231 L 1.46468,49.06052 L 1.466,49.0595 L 1.46893,49.05997 L 1.47245,49.05779 L 1.4738,49.05488 L 1.47504,49.05454 L 1.47851,49.05236 L 1.48029,49.05201 L 1.48295,49.05248 L 1.4857,49.05137 L 1.48741,49.05165 L 1.48771,49.05345 L 1.49376,49.05699 L 1.49737,49.05826 L 1.5033,49.0591 L 1.50687,49.06267 L 1.51001,49.06706 L 1.50948,49.07043 L 1.5116,49.07414 L 1.51247,49.07468 L 1.51431,49.07937 L 1.51291,49.08111 L 1.51091,49.0819 L 1.50918,49.08342 L 1.50634,49.08472 L 1.50792,49.08539 L 1.51129,49.08384 L 1.51239,49.08384 L 1.51593,49.08086 L 1.51818,49.07773 L 1.51697,49.07601 L 1.51789,49.07391 L 1.51978,49.07213 L 1.52041,49.06958 L 1.52135,49.06835 L 1.52365,49.06909 L 1.52599,49.06907 L 1.52707,49.06984 L 1.53008,49.0704 L 1.53211,49.07162 L 1.53395,49.07128 L 1.53865,49.07261 L 1.5413,49.07371 L 1.54269,49.07251 L 1.54515,49.07222 L 1.54734,49.07266 L 1.55083,49.07257 L 1.55326,49.07057 L 1.55676,49.07 L 1.55814,49.06916 L 1.56107,49.07012 L 1.56244,49.07116 L 1.5653,49.07172 L 1.56699,49.07308 L 1.56924,49.07328 L 1.57051,49.07481 L 1.57036,49.07644 L 1.57226,49.0768 L 1.57341,49.07848 L 1.57703,49.07876 L 1.57908,49.07828 L 1.5807,49.0796 L 1.58521,49.08025 L 1.58772,49.08123 L 1.58965,49.0811 L 1.59216,49.08292 L 1.59313,49.08229 L 1.59824,49.08412 L 1.60276,49.08457 L 1.60508,49.08517 L 1.60707,49.08417 L 1.60345,49.08328 L 1.60525,49.08111 L 1.6088,49.07789 L 1.61226,49.07998 L 1.61328,49.08008 L 1.61524,49.08202 L 1.62332,49.08608 L 1.61913,49.08776 L 1.61891,49.08866 L 1.62319,49.09088 L 1.62309,49.09341 L 1.61754,49.09399 L 1.61858,49.09698 L 1.62084,49.09757 L 1.62202,49.10104 L 1.62754,49.10306 L 1.62703,49.10513 L 1.6296,49.10752 L 1.62956,49.10995 L 1.63311,49.11105 L 1.63275,49.1124 L 1.63452,49.11313 L 1.63505,49.1143 L 1.64008,49.11685 L 1.64172,49.11645 L 1.64457,49.11845 L 1.64557,49.12075 L 1.64666,49.12138 L 1.64648,49.12399 L 1.6471,49.12471 L 1.64975,49.12527 L 1.65035,49.12721 L 1.6528,49.12817 L 1.65278,49.12952 L 1.65599,49.13039 L 1.65598,49.13151 L 1.65768,49.13188 L 1.65734,49.13585 L 1.65657,49.13768 L 1.65403,49.13664 L 1.65295,49.13824 L 1.65322,49.13991 L 1.65306,49.14463 L 1.6561,49.14748 L 1.65622,49.14846 L 1.65835,49.14893 L 1.65934,49.15141 L 1.66437,49.15337 L 1.66347,49.15485 L 1.66078,49.15676 L 1.66097,49.1578 L 1.66293,49.15935 L 1.66412,49.16264 L 1.66468,49.16587 L 1.6702,49.16946 L 1.66881,49.17116 L 1.66829,49.17313 L 1.66642,49.17519 L 1.66639,49.17685 L 1.66769,49.17754 L 1.66753,49.17951 L 1.67182,49.18088 L 1.67076,49.18403 L 1.66951,49.18505 L 1.66907,49.18667 L 1.67135,49.191 L 1.6707,49.19333 L 1.6745,49.19624 L 1.67556,49.19899 L 1.6765,49.20016 L 1.67688,49.20318 L 1.67223,49.2062 L 1.67426,49.20856 L 1.67397,49.20955 L 1.67491,49.21148 L 1.67689,49.21167 L 1.67742,49.21329 L 1.68016,49.21425 L 1.68248,49.21611 L 1.6846,49.21635 L 1.68601,49.21802 L 1.6889,49.21835 L 1.68881,49.21916 L 1.69126,49.22092 L 1.69083,49.2225 L 1.69164,49.22345 L 1.69863,49.22452 L 1.69881,49.226 L 1.70215,49.22759 L 1.70407,49.22932 L 1.70266,49.2312 L 1.70436,49.2322 L 1.70515,49.23427 L 1.70727,49.2355 L 1.70885,49.2355 L 1.71006,49.23907 L 1.7094,49.24131 L 1.71264,49.24119 L 1.71238,49.2389 L 1.71323,49.23742 L 1.71319,49.23506 L 1.71211,49.23302 L 1.71534,49.23325 L 1.72149,49.23098 L 1.72479,49.23001 L 1.72966,49.2292 L 1.73214,49.22812 L 1.73329,49.22654 L 1.73621,49.22627 L 1.73852,49.2241 L 1.74045,49.22344 L 1.73511,49.22194 L 1.73411,49.22128 L 1.73546,49.21595 L 1.73224,49.2156 L 1.73369,49.21096 L 1.72989,49.21028 L 1.72895,49.20957 L 1.72304,49.20968 L 1.72198,49.21001 L 1.72012,49.20679 L 1.71477,49.20734 L 1.71591,49.20474 L 1.71555,49.20266 L 1.7184,49.20279 L 1.71992,49.20154 L 1.72208,49.2025 L 1.72253,49.20097 L 1.72505,49.20078 L 1.72503,49.19917 L 1.72583,49.19571 L 1.72682,49.19489 L 1.72981,49.1947 L 1.73211,49.19519 L 1.73744,49.1946 L 1.73649,49.19282 L 1.73989,49.19207 L 1.74109,49.18837 L 1.74125,49.18554 L 1.74464,49.18318 L 1.74083,49.18073 L 1.74269,49.17979 L 1.754,49.17508 L 1.75551,49.17459 L 1.77592,49.1837 L 1.78064,49.18466 L 1.78481,49.18583 L 1.7867,49.18416 L 1.78637,49.18308 L 1.78863,49.18146 L 1.78979,49.18165 L 1.79099,49.17986 L 1.79433,49.18041 L 1.79368,49.18364 L 1.79547,49.18526 L 1.80258,49.18493 L 1.80355,49.17996 L 1.80637,49.18013 L 1.81074,49.17909 L 1.81384,49.17802 L 1.81461,49.17596 L 1.81134,49.17464 L 1.81169,49.17361 L 1.81401,49.17326 L 1.81609,49.17386 L 1.81567,49.17484 L 1.81955,49.17598 L 1.8194,49.17693 L 1.82179,49.17801 L 1.82691,49.17961 L 1.82796,49.17804 L 1.83197,49.17599 L 1.8343,49.17564 L 1.83493,49.17421 L 1.83748,49.17318 L 1.83709,49.1717 L 1.83546,49.16954 L 1.83462,49.16504 L 1.83647,49.16454 L 1.83817,49.1663 L 1.84449,49.17043 L 1.84555,49.1699 L 1.85103,49.17082 L 1.85503,49.17199 L 1.85663,49.17165 L 1.85822,49.16986 L 1.86711,49.172 L 1.86801,49.17187 L 1.87677,49.17531 L 1.87704,49.17145 L 1.88102,49.16735 L 1.88321,49.16631 L 1.88257,49.16249 L 1.88742,49.16322 L 1.88727,49.16435 L 1.89009,49.16414 L 1.89489,49.16483 L 1.89453,49.16604 L 1.9109,49.1696 L 1.91626,49.17142 L 1.92199,49.17245 L 1.92396,49.17227 L 1.92451,49.17352 L 1.92618,49.17333 L 1.93148,49.17417 L 1.93433,49.17356 L 1.93514,49.17209 L 1.93491,49.17008 L 1.94145,49.17067 L 1.9424,49.16997 L 1.94533,49.17147 L 1.94982,49.17035 L 1.95591,49.17233 L 1.96072,49.17352 L 1.9627,49.17461 L 1.96453,49.17676 L 1.97101,49.18079 L 1.97344,49.1839 L 1.97522,49.18366 L 1.98239,49.18145 L 1.98399,49.17966 L 1.98831,49.17887 L 1.99039,49.17667 L 1.99259,49.17636 L 1.99499,49.17691 L 1.99716,49.17608 L 2.00184,49.17594 L 2.02178,49.18868 L 2.02487,49.18882 L 2.02818,49.18797 L 2.03217,49.18871 L 2.03356,49.18811 L 2.03564,49.19029 L 2.03966,49.19316 L 2.04282,49.19438 L 2.04629,49.19642 L 2.04753,49.19859 L 2.05397,49.19897 L 2.05877,49.19997 L 2.06684,49.20286 L 2.07199,49.20413 L 2.07261,49.20609 L 2.07491,49.20869 L 2.07725,49.20851 L 2.07745,49.20968 L 2.08089,49.21045 L 2.08055,49.20847 L 2.08117,49.20681 L 2.08283,49.20569 L 2.08597,49.20628 L 2.08816,49.20898 L 2.09117,49.20854 L 2.09064,49.20606 L 2.0916,49.20513 L 2.09073,49.2017 L 2.09224,49.20121 L 2.0902,49.19833 L 2.09219,49.19771 L 2.09255,49.19564 L 2.08946,49.19604 L 2.08946,49.19366 L 2.09257,49.19411 L 2.09442,49.19232 L 2.09621,49.19133 L 2.09587,49.19006 L 2.09771,49.18917 L 2.10205,49.19044 L 2.10362,49.18892 L 2.10966,49.19073 L 2.10958,49.18895 L 2.11104,49.18699 L 2.11334,49.18654 L 2.11789,49.18746 L 2.12207,49.18872 L 2.12598,49.19126 L 2.12551,49.19242 L 2.1281,49.19341 L 2.13057,49.19243 L 2.13001,49.19156 L 2.13185,49.19066 L 2.13521,49.19118 L 2.13515,49.1883 L 2.13728,49.18049 L 2.13695,49.17905 L 2.14076,49.17892 L 2.14118,49.18134 L 2.14056,49.18574 L 2.14705,49.1881 L 2.14829,49.18485 L 2.15572,49.18249 L 2.15812,49.18214 L 2.16149,49.17958 L 2.16457,49.17967 L 2.16499,49.17846 L 2.16157,49.17571 L 2.16048,49.17418 L 2.15775,49.1726 L 2.16204,49.16868 L 2.16393,49.16609 L 2.16793,49.1648 L 2.16879,49.16395 L 2.17113,49.16496 L 2.17059,49.16606 L 2.17124,49.16769 L 2.17511,49.16947 L 2.17937,49.17066 L 2.18225,49.17038 L 2.17983,49.17321 L 2.17802,49.17428 L 2.17495,49.17501 L 2.1761,49.17603 L 2.18195,49.17368 L 2.18245,49.17442 L 2.18662,49.17336 L 2.18906,49.17313 L 2.1924,49.17362 L 2.19552,49.17318 L 2.19905,49.17529 L 2.20124,49.17417 L 2.20496,49.17432 L 2.20968,49.17553 L 2.21705,49.17933 L 2.21865,49.18068 L 2.21979,49.17978 L 2.22392,49.17395 L 2.22632,49.17251 L 2.23077,49.1708 L 2.23541,49.16703 L 2.23436,49.166 L 2.22627,49.1627 L 2.22456,49.1623 L 2.22258,49.15933 L 2.21656,49.15469 L 2.21752,49.15366 L 2.22301,49.15187 L 2.22958,49.15129 L 2.23877,49.15184 L 2.24158,49.15157 L 2.24187,49.15342 L 2.24994,49.15347 L 2.25378,49.15261 L 2.25871,49.15563 L 2.26221,49.1583 L 2.26812,49.15571 L 2.27146,49.15743 L 2.27701,49.15892 L 2.28107,49.15896 L 2.2827,49.15956 L 2.28641,49.15992 L 2.2852,49.16319 L 2.28509,49.16571 L 2.28756,49.16589 L 2.28697,49.16717 L 2.2895,49.16803 L 2.2888,49.17071 L 2.29019,49.17154 L 2.29421,49.17161 L 2.29572,49.17323 L 2.29675,49.17619 L 2.29943,49.17584 L 2.30004,49.18155 L 2.3012,49.18389 L 2.30449,49.18393 L 2.30629,49.18475 L 2.31059,49.18488 L 2.31093,49.18641 L 2.31334,49.18577 L 2.31876,49.18524 L 2.32178,49.18443 L 2.31965,49.18232 L 2.32356,49.1793 L 2.32561,49.17876 L 2.32595,49.17782 L 2.33611,49.17027 L 2.34105,49.16505 L 2.34626,49.16182 L 2.34907,49.15912 L 2.35383,49.15398 L 2.35545,49.15329 L 2.3549,49.15183 L 2.35348,49.15117 L 2.35598,49.14869 L 2.35771,49.14851 L 2.3593,49.14735 L 2.36079,49.14873 L 2.3621,49.15098 L 2.36223,49.15255 L 2.36485,49.1523 L 2.36537,49.15412 L 2.36657,49.15399 L 2.36709,49.15583 L 2.37023,49.15677 L 2.37073,49.15865 L 2.37238,49.15937 L 2.37637,49.15904 L 2.38045,49.15804 L 2.38937,49.15065 L 2.39129,49.14935 L 2.39746,49.15011 L 2.40542,49.15194 L 2.4131,49.15235 L 2.41536,49.15176 L 2.41535,49.14993 L 2.41952,49.14942 L 2.42542,49.14945 L 2.43105,49.14846 L 2.43721,49.14657 L 2.4409,49.1458 L 2.4354,49.13394 L 2.43753,49.13434 L 2.44122,49.13416 L 2.44706,49.13559 L 2.45302,49.13819 L 2.45432,49.13927 L 2.45823,49.14114 L 2.46249,49.13912 L 2.46151,49.13594 L 2.46762,49.13584 L 2.46755,49.13504 L 2.46994,49.13453 L 2.47158,49.13543 L 2.47548,49.13116 L 2.4776,49.13107 L 2.47547,49.12832 L 2.4878,49.12552 L 2.49923,49.12227 L 2.50326,49.11758 L 2.49159,49.11131 L 2.48993,49.10636 L 2.49369,49.10546 L 2.49745,49.10509 L 2.49985,49.10446 L 2.5052,49.10365 L 2.51005,49.10364 L 2.51053,49.10417 L 2.5247,49.10096 L 2.52655,49.10087 L 2.53106,49.0996 L 2.53299,49.11938 L 2.53684,49.12 L 2.53862,49.12166 L 2.5408,49.12225 L 2.54348,49.12147 L 2.54367,49.11972 L 2.53853,49.11861 L 2.53976,49.11645 L 2.54716,49.11621 L 2.54744,49.12026 L 2.54897,49.12196 L 2.55329,49.1246 L 2.55702,49.12382 L 2.55714,49.12171 L 2.55602,49.11762 L 2.55153,49.1126 L 2.55261,49.11107 L 2.55575,49.10904 L 2.55813,49.10378 L 2.55854,49.10184 L 2.55771,49.09996 L 2.55817,49.09839 L 2.56132,49.09694 L 2.56289,49.09748 L 2.565,49.09523 L 2.56664,49.09419 L 2.56795,49.09477 L 2.57042,49.09453 L 2.57108,49.09521 L 2.57466,49.09322 L 2.57868,49.09195 L 2.5799,49.08971 L 2.57785,49.08804 L 2.57989,49.08669 L 2.57885,49.08445 L 2.58273,49.08245 L 2.58302,49.08065 L 2.58655,49.07979 L 2.59052,49.07965 z\" /></g></svg>"
      ],
      "text/plain": [
       "<POLYGON ((2.591 49.08, 2.596 49.082, 2.598 49.082, 2.6 49.084, 2.603 49.086...>"
      ]
     },
     "execution_count": 16,
     "metadata": {},
     "output_type": "execute_result"
    }
   ],
   "source": [
    "regions['geometry'][0]"
   ]
  },
  {
   "cell_type": "markdown",
   "metadata": {},
   "source": [
    "### manipulations\n",
    "\n",
    "Tou ce que vous faites avec pandas est également possible avec geopandas. On ajoute en plus des traitements de données spaciales 2D :\n",
    "\n",
    "* des manipulations de données spaciales (grace à la bibliothèque [shapely](https://shapely.readthedocs.io/en/latest/))\n",
    "* des représentation graphique avec [plot](https://geopandas.org/reference.html?highlight=plot#geopandas.GeoDataFrame.plot)"
   ]
  },
  {
   "cell_type": "markdown",
   "metadata": {},
   "source": [
    "## création d'un geodataframe\n",
    "\n",
    "On va créer un geodataframe avec les villes française."
   ]
  },
  {
   "cell_type": "markdown",
   "metadata": {},
   "source": [
    "### données brutes\n",
    "\n",
    "On prend les données de ce site : https://sql.sh/736-base-donnees-villes-francaises en csv."
   ]
  },
  {
   "cell_type": "code",
   "execution_count": 17,
   "metadata": {},
   "outputs": [],
   "source": [
    "import pandas as pd"
   ]
  },
  {
   "cell_type": "code",
   "execution_count": 19,
   "metadata": {},
   "outputs": [
    {
     "name": "stderr",
     "output_type": "stream",
     "text": [
      "/var/folders/23/_kd8rqjx423dszx5j15npw7w0000gn/T/ipykernel_47054/3271959885.py:1: DtypeWarning: Columns (1,10) have mixed types. Specify dtype option on import or set low_memory=False.\n",
      "  villes_raw = pd.read_csv(\"https://sql.sh/ressources/sql-villes-france/villes_france.csv\",\n"
     ]
    }
   ],
   "source": [
    "villes_raw = pd.read_csv(\"https://sql.sh/ressources/sql-villes-france/villes_france.csv\", \n",
    "                     header=None, index_col=0)"
   ]
  },
  {
   "cell_type": "code",
   "execution_count": 20,
   "metadata": {},
   "outputs": [
    {
     "data": {
      "text/html": [
       "<div>\n",
       "<style scoped>\n",
       "    .dataframe tbody tr th:only-of-type {\n",
       "        vertical-align: middle;\n",
       "    }\n",
       "\n",
       "    .dataframe tbody tr th {\n",
       "        vertical-align: top;\n",
       "    }\n",
       "\n",
       "    .dataframe thead th {\n",
       "        text-align: right;\n",
       "    }\n",
       "</style>\n",
       "<table border=\"1\" class=\"dataframe\">\n",
       "  <thead>\n",
       "    <tr style=\"text-align: right;\">\n",
       "      <th></th>\n",
       "      <th>1</th>\n",
       "      <th>2</th>\n",
       "      <th>3</th>\n",
       "      <th>4</th>\n",
       "      <th>5</th>\n",
       "      <th>6</th>\n",
       "      <th>7</th>\n",
       "      <th>8</th>\n",
       "      <th>9</th>\n",
       "      <th>10</th>\n",
       "      <th>...</th>\n",
       "      <th>17</th>\n",
       "      <th>18</th>\n",
       "      <th>19</th>\n",
       "      <th>20</th>\n",
       "      <th>21</th>\n",
       "      <th>22</th>\n",
       "      <th>23</th>\n",
       "      <th>24</th>\n",
       "      <th>25</th>\n",
       "      <th>26</th>\n",
       "    </tr>\n",
       "    <tr>\n",
       "      <th>0</th>\n",
       "      <th></th>\n",
       "      <th></th>\n",
       "      <th></th>\n",
       "      <th></th>\n",
       "      <th></th>\n",
       "      <th></th>\n",
       "      <th></th>\n",
       "      <th></th>\n",
       "      <th></th>\n",
       "      <th></th>\n",
       "      <th></th>\n",
       "      <th></th>\n",
       "      <th></th>\n",
       "      <th></th>\n",
       "      <th></th>\n",
       "      <th></th>\n",
       "      <th></th>\n",
       "      <th></th>\n",
       "      <th></th>\n",
       "      <th></th>\n",
       "      <th></th>\n",
       "    </tr>\n",
       "  </thead>\n",
       "  <tbody>\n",
       "    <tr>\n",
       "      <th>1</th>\n",
       "      <td>1</td>\n",
       "      <td>ozan</td>\n",
       "      <td>OZAN</td>\n",
       "      <td>ozan</td>\n",
       "      <td>Ozan</td>\n",
       "      <td>O250</td>\n",
       "      <td>OSN</td>\n",
       "      <td>01190</td>\n",
       "      <td>284</td>\n",
       "      <td>1284</td>\n",
       "      <td>...</td>\n",
       "      <td>93</td>\n",
       "      <td>6.60</td>\n",
       "      <td>4.91667</td>\n",
       "      <td>46.3833</td>\n",
       "      <td>2866.0</td>\n",
       "      <td>51546.0</td>\n",
       "      <td>45456.0</td>\n",
       "      <td>462330.0</td>\n",
       "      <td>170.0</td>\n",
       "      <td>205.0</td>\n",
       "    </tr>\n",
       "    <tr>\n",
       "      <th>2</th>\n",
       "      <td>1</td>\n",
       "      <td>cormoranche-sur-saone</td>\n",
       "      <td>CORMORANCHE-SUR-SAONE</td>\n",
       "      <td>cormoranche sur saone</td>\n",
       "      <td>Cormoranche-sur-Saône</td>\n",
       "      <td>C65652625</td>\n",
       "      <td>KRMRNXSRSN</td>\n",
       "      <td>01290</td>\n",
       "      <td>123</td>\n",
       "      <td>1123</td>\n",
       "      <td>...</td>\n",
       "      <td>107</td>\n",
       "      <td>9.85</td>\n",
       "      <td>4.83333</td>\n",
       "      <td>46.2333</td>\n",
       "      <td>2772.0</td>\n",
       "      <td>51379.0</td>\n",
       "      <td>44953.0</td>\n",
       "      <td>461427.0</td>\n",
       "      <td>168.0</td>\n",
       "      <td>211.0</td>\n",
       "    </tr>\n",
       "    <tr>\n",
       "      <th>3</th>\n",
       "      <td>1</td>\n",
       "      <td>plagne-01</td>\n",
       "      <td>PLAGNE</td>\n",
       "      <td>plagne</td>\n",
       "      <td>Plagne</td>\n",
       "      <td>P425</td>\n",
       "      <td>PLKN</td>\n",
       "      <td>01130</td>\n",
       "      <td>298</td>\n",
       "      <td>1298</td>\n",
       "      <td>...</td>\n",
       "      <td>20</td>\n",
       "      <td>6.20</td>\n",
       "      <td>5.73333</td>\n",
       "      <td>46.1833</td>\n",
       "      <td>3769.0</td>\n",
       "      <td>51324.0</td>\n",
       "      <td>54342.0</td>\n",
       "      <td>461131.0</td>\n",
       "      <td>560.0</td>\n",
       "      <td>922.0</td>\n",
       "    </tr>\n",
       "    <tr>\n",
       "      <th>4</th>\n",
       "      <td>1</td>\n",
       "      <td>tossiat</td>\n",
       "      <td>TOSSIAT</td>\n",
       "      <td>tossiat</td>\n",
       "      <td>Tossiat</td>\n",
       "      <td>T230</td>\n",
       "      <td>TST</td>\n",
       "      <td>01250</td>\n",
       "      <td>422</td>\n",
       "      <td>1422</td>\n",
       "      <td>...</td>\n",
       "      <td>138</td>\n",
       "      <td>10.17</td>\n",
       "      <td>5.31667</td>\n",
       "      <td>46.1333</td>\n",
       "      <td>3309.0</td>\n",
       "      <td>51268.0</td>\n",
       "      <td>51854.0</td>\n",
       "      <td>460828.0</td>\n",
       "      <td>244.0</td>\n",
       "      <td>501.0</td>\n",
       "    </tr>\n",
       "    <tr>\n",
       "      <th>5</th>\n",
       "      <td>1</td>\n",
       "      <td>pouillat</td>\n",
       "      <td>POUILLAT</td>\n",
       "      <td>pouillat</td>\n",
       "      <td>Pouillat</td>\n",
       "      <td>P430</td>\n",
       "      <td>PLT</td>\n",
       "      <td>01250</td>\n",
       "      <td>309</td>\n",
       "      <td>1309</td>\n",
       "      <td>...</td>\n",
       "      <td>14</td>\n",
       "      <td>6.23</td>\n",
       "      <td>5.43333</td>\n",
       "      <td>46.3333</td>\n",
       "      <td>3435.0</td>\n",
       "      <td>51475.0</td>\n",
       "      <td>52542.0</td>\n",
       "      <td>461938.0</td>\n",
       "      <td>333.0</td>\n",
       "      <td>770.0</td>\n",
       "    </tr>\n",
       "  </tbody>\n",
       "</table>\n",
       "<p>5 rows × 26 columns</p>\n",
       "</div>"
      ],
      "text/plain": [
       "  1                      2                      3                      4    \n",
       "0                                                                           \n",
       "1  1                   ozan                   OZAN                   ozan  \\\n",
       "2  1  cormoranche-sur-saone  CORMORANCHE-SUR-SAONE  cormoranche sur saone   \n",
       "3  1              plagne-01                 PLAGNE                 plagne   \n",
       "4  1                tossiat                TOSSIAT                tossiat   \n",
       "5  1               pouillat               POUILLAT               pouillat   \n",
       "\n",
       "                      5          6           7      8    9     10  ...   17   \n",
       "0                                                                  ...        \n",
       "1                   Ozan       O250         OSN  01190  284  1284  ...   93  \\\n",
       "2  Cormoranche-sur-Saône  C65652625  KRMRNXSRSN  01290  123  1123  ...  107   \n",
       "3                 Plagne       P425        PLKN  01130  298  1298  ...   20   \n",
       "4                Tossiat       T230         TST  01250  422  1422  ...  138   \n",
       "5               Pouillat       P430         PLT  01250  309  1309  ...   14   \n",
       "\n",
       "      18       19       20      21       22       23        24     25     26  \n",
       "0                                                                             \n",
       "1   6.60  4.91667  46.3833  2866.0  51546.0  45456.0  462330.0  170.0  205.0  \n",
       "2   9.85  4.83333  46.2333  2772.0  51379.0  44953.0  461427.0  168.0  211.0  \n",
       "3   6.20  5.73333  46.1833  3769.0  51324.0  54342.0  461131.0  560.0  922.0  \n",
       "4  10.17  5.31667  46.1333  3309.0  51268.0  51854.0  460828.0  244.0  501.0  \n",
       "5   6.23  5.43333  46.3333  3435.0  51475.0  52542.0  461938.0  333.0  770.0  \n",
       "\n",
       "[5 rows x 26 columns]"
      ]
     },
     "execution_count": 20,
     "metadata": {},
     "output_type": "execute_result"
    }
   ],
   "source": [
    "villes_raw.head()"
   ]
  },
  {
   "cell_type": "code",
   "execution_count": 21,
   "metadata": {},
   "outputs": [
    {
     "data": {
      "text/plain": [
       "1                                                    13\n",
       "2                                             marseille\n",
       "3                                             MARSEILLE\n",
       "4                                             marseille\n",
       "5                                             Marseille\n",
       "6                                                  M624\n",
       "7                                                  MRSL\n",
       "8     13001-13002-13003-13004-13005-13006-13007-1300...\n",
       "9                                                    55\n",
       "10                                                13055\n",
       "11                                                    3\n",
       "12                                                 99.0\n",
       "13                                                  2.0\n",
       "14                                               850726\n",
       "15                                               797491\n",
       "16                                               851400\n",
       "17                                                 3535\n",
       "18                                               240.62\n",
       "19                                              5.37639\n",
       "20                                              43.2967\n",
       "21                                               3377.0\n",
       "22                                              48107.0\n",
       "23                                              52235.0\n",
       "24                                             431748.0\n",
       "25                                                  0.0\n",
       "26                                                640.0\n",
       "Name: 4440, dtype: object"
      ]
     },
     "execution_count": 21,
     "metadata": {},
     "output_type": "execute_result"
    }
   ],
   "source": [
    "villes_raw.loc[4440]"
   ]
  },
  {
   "cell_type": "markdown",
   "metadata": {},
   "source": [
    "**Attntion** aux données. L'analyse de Marseille montre que les noms de colonnes du site sont fantaisistes (ça n'a pas du passer les mise à jour successives...). Il vaut mieux mettre directement le nom des colonnes dans le tableau...\n",
    "\n",
    "Ce cas est loin d'être particulier. Donc faites toujours attentions aux données que vous récupérez"
   ]
  },
  {
   "cell_type": "markdown",
   "metadata": {},
   "source": [
    "Après analyse des correspondance on voit que : \n",
    "* le nom : colonne 5\n",
    "* la population en 2010 : colonne 14\n",
    "* les coordonnées gps :\n",
    "    * longitude : 19\n",
    "    * latitude : 20"
   ]
  },
  {
   "cell_type": "code",
   "execution_count": 22,
   "metadata": {},
   "outputs": [],
   "source": [
    "mes_villes = villes_raw[[5, 14, 19, 20]].rename({5: \"nom\", 14: \"population\", 19: \"longitude\", 20: \"latitude\"}, axis=1)"
   ]
  },
  {
   "cell_type": "code",
   "execution_count": 23,
   "metadata": {},
   "outputs": [
    {
     "data": {
      "text/html": [
       "<div>\n",
       "<style scoped>\n",
       "    .dataframe tbody tr th:only-of-type {\n",
       "        vertical-align: middle;\n",
       "    }\n",
       "\n",
       "    .dataframe tbody tr th {\n",
       "        vertical-align: top;\n",
       "    }\n",
       "\n",
       "    .dataframe thead th {\n",
       "        text-align: right;\n",
       "    }\n",
       "</style>\n",
       "<table border=\"1\" class=\"dataframe\">\n",
       "  <thead>\n",
       "    <tr style=\"text-align: right;\">\n",
       "      <th></th>\n",
       "      <th>nom</th>\n",
       "      <th>population</th>\n",
       "      <th>longitude</th>\n",
       "      <th>latitude</th>\n",
       "    </tr>\n",
       "    <tr>\n",
       "      <th>0</th>\n",
       "      <th></th>\n",
       "      <th></th>\n",
       "      <th></th>\n",
       "      <th></th>\n",
       "    </tr>\n",
       "  </thead>\n",
       "  <tbody>\n",
       "    <tr>\n",
       "      <th>1</th>\n",
       "      <td>Ozan</td>\n",
       "      <td>618</td>\n",
       "      <td>4.91667</td>\n",
       "      <td>46.38330</td>\n",
       "    </tr>\n",
       "    <tr>\n",
       "      <th>2</th>\n",
       "      <td>Cormoranche-sur-Saône</td>\n",
       "      <td>1058</td>\n",
       "      <td>4.83333</td>\n",
       "      <td>46.23330</td>\n",
       "    </tr>\n",
       "    <tr>\n",
       "      <th>3</th>\n",
       "      <td>Plagne</td>\n",
       "      <td>129</td>\n",
       "      <td>5.73333</td>\n",
       "      <td>46.18330</td>\n",
       "    </tr>\n",
       "    <tr>\n",
       "      <th>4</th>\n",
       "      <td>Tossiat</td>\n",
       "      <td>1406</td>\n",
       "      <td>5.31667</td>\n",
       "      <td>46.13330</td>\n",
       "    </tr>\n",
       "    <tr>\n",
       "      <th>5</th>\n",
       "      <td>Pouillat</td>\n",
       "      <td>88</td>\n",
       "      <td>5.43333</td>\n",
       "      <td>46.33330</td>\n",
       "    </tr>\n",
       "    <tr>\n",
       "      <th>...</th>\n",
       "      <td>...</td>\n",
       "      <td>...</td>\n",
       "      <td>...</td>\n",
       "      <td>...</td>\n",
       "    </tr>\n",
       "    <tr>\n",
       "      <th>36825</th>\n",
       "      <td>Sada</td>\n",
       "      <td>10195</td>\n",
       "      <td>45.10470</td>\n",
       "      <td>-12.84860</td>\n",
       "    </tr>\n",
       "    <tr>\n",
       "      <th>36826</th>\n",
       "      <td>Tsingoni</td>\n",
       "      <td>10454</td>\n",
       "      <td>45.10700</td>\n",
       "      <td>-12.78970</td>\n",
       "    </tr>\n",
       "    <tr>\n",
       "      <th>36827</th>\n",
       "      <td>Saint-Barthélemy</td>\n",
       "      <td>8938</td>\n",
       "      <td>-62.83330</td>\n",
       "      <td>17.91670</td>\n",
       "    </tr>\n",
       "    <tr>\n",
       "      <th>36828</th>\n",
       "      <td>Saint-Martin</td>\n",
       "      <td>36979</td>\n",
       "      <td>18.09130</td>\n",
       "      <td>-63.08290</td>\n",
       "    </tr>\n",
       "    <tr>\n",
       "      <th>36830</th>\n",
       "      <td>Saint-Pierre-et-Miquelon</td>\n",
       "      <td>6080</td>\n",
       "      <td>46.71070</td>\n",
       "      <td>1.71819</td>\n",
       "    </tr>\n",
       "  </tbody>\n",
       "</table>\n",
       "<p>36700 rows × 4 columns</p>\n",
       "</div>"
      ],
      "text/plain": [
       "                            nom  population  longitude  latitude\n",
       "0                                                               \n",
       "1                          Ozan         618    4.91667  46.38330\n",
       "2         Cormoranche-sur-Saône        1058    4.83333  46.23330\n",
       "3                        Plagne         129    5.73333  46.18330\n",
       "4                       Tossiat        1406    5.31667  46.13330\n",
       "5                      Pouillat          88    5.43333  46.33330\n",
       "...                         ...         ...        ...       ...\n",
       "36825                      Sada       10195   45.10470 -12.84860\n",
       "36826                  Tsingoni       10454   45.10700 -12.78970\n",
       "36827          Saint-Barthélemy        8938  -62.83330  17.91670\n",
       "36828              Saint-Martin       36979   18.09130 -63.08290\n",
       "36830  Saint-Pierre-et-Miquelon        6080   46.71070   1.71819\n",
       "\n",
       "[36700 rows x 4 columns]"
      ]
     },
     "execution_count": 23,
     "metadata": {},
     "output_type": "execute_result"
    }
   ],
   "source": [
    "mes_villes"
   ]
  },
  {
   "cell_type": "code",
   "execution_count": 24,
   "metadata": {},
   "outputs": [
    {
     "data": {
      "text/plain": [
       "nom           Marseille\n",
       "population       850726\n",
       "longitude       5.37639\n",
       "latitude        43.2967\n",
       "Name: 4440, dtype: object"
      ]
     },
     "execution_count": 24,
     "metadata": {},
     "output_type": "execute_result"
    }
   ],
   "source": [
    "mes_villes.loc[4440]"
   ]
  },
  {
   "cell_type": "markdown",
   "metadata": {},
   "source": [
    "### conversion en geodataframe"
   ]
  },
  {
   "cell_type": "markdown",
   "metadata": {},
   "source": [
    "Il faut transformer nos coordonnées latitude/longitude GPS en point shapely."
   ]
  },
  {
   "cell_type": "markdown",
   "metadata": {},
   "source": [
    "#### un point shapely\n",
    "\n",
    "Nos coordonnées vont être des [Points](https://shapely.readthedocs.io/en/stable/manual.html#points), avec d'abord la longitude puis la latitude (abcisse puis ordonnée)."
   ]
  },
  {
   "cell_type": "code",
   "execution_count": 25,
   "metadata": {},
   "outputs": [],
   "source": [
    "from shapely.geometry import Point"
   ]
  },
  {
   "cell_type": "code",
   "execution_count": 26,
   "metadata": {},
   "outputs": [],
   "source": [
    "coordonnee_marseille = Point(mes_villes.loc[4440]['longitude'], mes_villes.loc[4440]['latitude'])"
   ]
  },
  {
   "cell_type": "code",
   "execution_count": 27,
   "metadata": {},
   "outputs": [
    {
     "name": "stdout",
     "output_type": "stream",
     "text": [
      "POINT (5.37639 43.2967)\n"
     ]
    }
   ],
   "source": [
    "print(coordonnee_marseille)"
   ]
  },
  {
   "cell_type": "markdown",
   "metadata": {},
   "source": [
    "Il n'y a pas de crs par défaut sur un point, c'est juste un point. Pour transformer un point, il faut cependant connaitre son crs d'origne pour pouvoir trouver ses coordonnées dans le crs d'arrivé.\n",
    "\n",
    "Le crs de shapely et de geopandas est géré par la bipliothèque [pyproj](http://pyproj4.github.io/pyproj/stable/). C'est très pratique car ce permet de faire toutes les projections que l'on veut très facilement (y'a juste un peu de doc à lire)."
   ]
  },
  {
   "cell_type": "code",
   "execution_count": 28,
   "metadata": {},
   "outputs": [],
   "source": [
    "import pyproj"
   ]
  },
  {
   "cell_type": "markdown",
   "metadata": {},
   "source": [
    "Nos points sont dans le crs du gps :"
   ]
  },
  {
   "cell_type": "code",
   "execution_count": 29,
   "metadata": {},
   "outputs": [],
   "source": [
    "wgs84 = pyproj.CRS('epsg:4326') "
   ]
  },
  {
   "cell_type": "markdown",
   "metadata": {},
   "source": [
    "Et on veut les voir dans les coordonnées [UTM](http://www.centcols.org/additifs/2008/auto_additif/guide_UTM.htm) :\n",
    "\n",
    "Pour Marseille, c'est la 31ème zone de l'hémisphère nord donc l'epsg 32600 + 31 (32700 pour l'hémisphère sud)"
   ]
  },
  {
   "cell_type": "code",
   "execution_count": 30,
   "metadata": {},
   "outputs": [],
   "source": [
    "utm = pyproj.CRS('epsg:32631')"
   ]
  },
  {
   "cell_type": "markdown",
   "metadata": {},
   "source": [
    "Puis on convertit :"
   ]
  },
  {
   "cell_type": "code",
   "execution_count": 31,
   "metadata": {},
   "outputs": [],
   "source": [
    "from shapely.ops import transform\n",
    "\n",
    "project = pyproj.Transformer.from_crs(wgs84, utm, always_xy=True).transform"
   ]
  },
  {
   "cell_type": "code",
   "execution_count": 32,
   "metadata": {},
   "outputs": [],
   "source": [
    "utm_pt = transform(project, coordonnee_marseille)"
   ]
  },
  {
   "cell_type": "code",
   "execution_count": 33,
   "metadata": {},
   "outputs": [
    {
     "name": "stdout",
     "output_type": "stream",
     "text": [
      "POINT (692764.4151899549 4796505.91193845)\n"
     ]
    }
   ],
   "source": [
    "print(utm_pt)"
   ]
  },
  {
   "cell_type": "markdown",
   "metadata": {},
   "source": [
    "Ouf, ça à l'air correct : [Zone 31T E: 692228.9 N: 4796466.46](https://www.coordonneesgps.net/coordonnees-gps/marseille-13000-4215-ville).\n",
    "\n",
    "\n",
    "**Note** : l'epsg est vrai pour toute les latitude Nord, le [cadrillage UTM](https://fr.wikipedia.org/wiki/Syst%C3%A8me_de_r%C3%A9f%C3%A9rence_de_carroyage_militaire) est plus fin et sépare les latitude en 20 lettre (T, c'est dans le coin de Marseille)."
   ]
  },
  {
   "cell_type": "markdown",
   "metadata": {},
   "source": [
    "#### avec geopandas\n",
    "\n",
    "On peut le faire directmeent en geopandas avec [points_from_xy](https://geopandas.org/reference/geopandas.points_from_xy.html) qui crée ainsi directement une colonne (notre geometry) : "
   ]
  },
  {
   "cell_type": "code",
   "execution_count": null,
   "metadata": {},
   "outputs": [],
   "source": [
    "mes_villes[\"longitude\"]"
   ]
  },
  {
   "cell_type": "code",
   "execution_count": null,
   "metadata": {},
   "outputs": [],
   "source": [
    "print(coordonnee_marseille)"
   ]
  },
  {
   "cell_type": "code",
   "execution_count": null,
   "metadata": {},
   "outputs": [],
   "source": [
    "les_points = gpd.points_from_xy(x=mes_villes[\"longitude\"], y=mes_villes[\"latitude\"],\n",
    "                   crs='epsg:4326')"
   ]
  },
  {
   "cell_type": "code",
   "execution_count": null,
   "metadata": {},
   "outputs": [],
   "source": [
    "les_points"
   ]
  },
  {
   "cell_type": "markdown",
   "metadata": {},
   "source": [
    "#### création du geodataframe\n",
    "\n",
    "On peut maintenant créer notre geodataframe"
   ]
  },
  {
   "cell_type": "code",
   "execution_count": null,
   "metadata": {},
   "outputs": [],
   "source": [
    "villes = gpd.GeoDataFrame(mes_villes, geometry=les_points)"
   ]
  },
  {
   "cell_type": "code",
   "execution_count": null,
   "metadata": {},
   "outputs": [],
   "source": [
    "villes.head()"
   ]
  },
  {
   "cell_type": "code",
   "execution_count": null,
   "metadata": {},
   "outputs": [],
   "source": [
    "villes.crs"
   ]
  },
  {
   "cell_type": "markdown",
   "metadata": {},
   "source": [
    "Y'a du monde dans le monde : "
   ]
  },
  {
   "cell_type": "code",
   "execution_count": null,
   "metadata": {},
   "outputs": [],
   "source": [
    "villes.plot()"
   ]
  },
  {
   "cell_type": "code",
   "execution_count": null,
   "metadata": {},
   "outputs": [],
   "source": [
    "import matplotlib.pyplot as plt\n",
    "import contextily as ctx"
   ]
  },
  {
   "cell_type": "code",
   "execution_count": null,
   "metadata": {},
   "outputs": [],
   "source": [
    "fig, ax = plt.subplots(figsize=(15, 15)) \n",
    "\n",
    "villes.to_crs(epsg=3857).plot(ax=ax)\n",
    "ctx.add_basemap(ax, crs=\"epsg:3857\")\n",
    "\n",
    "plt.plot()"
   ]
  },
  {
   "cell_type": "markdown",
   "metadata": {},
   "source": [
    "Y'a des choses bizarres..."
   ]
  },
  {
   "cell_type": "code",
   "execution_count": null,
   "metadata": {},
   "outputs": [],
   "source": [
    "from matplotlib.patches import Rectangle"
   ]
  },
  {
   "cell_type": "code",
   "execution_count": null,
   "metadata": {},
   "outputs": [],
   "source": [
    "\n",
    "fig, ax = plt.subplots(figsize=(15, 15)) \n",
    "\n",
    "villes.to_crs(epsg=3857).plot(ax=ax)\n",
    "ctx.add_basemap(ax, crs=\"epsg:3857\")\n",
    "\n",
    "ax.add_artist(Rectangle((-1e6, -9.5e6), 4e6, 4e6, \n",
    "                     facecolor=\"none\", \n",
    "                     edgecolor=\"red\"))\n",
    "ax.text(-3e6, -8e6, \"wtf ?\",\n",
    "       color=\"red\", size=20)\n",
    "\n",
    "plt.plot()"
   ]
  },
  {
   "cell_type": "markdown",
   "metadata": {},
   "source": [
    "Il faudrait pouvoir connaitre les villes dans ce carré. Ca tombe bien c'est ce qu'on va apprendre tout de suite."
   ]
  },
  {
   "cell_type": "markdown",
   "metadata": {},
   "source": [
    "## opérations sur des géodataframe\n",
    "\n",
    "On ne va pas en faire beaucoup, je vous laisserai lire les docs (voir section tuto ci-après). Je vais juste essayer de vous mettre l'eau à la bouche."
   ]
  },
  {
   "cell_type": "markdown",
   "metadata": {},
   "source": [
    "### point dans un polygone."
   ]
  },
  {
   "cell_type": "code",
   "execution_count": null,
   "metadata": {},
   "outputs": [],
   "source": [
    "from shapely.geometry import Polygon"
   ]
  },
  {
   "cell_type": "code",
   "execution_count": null,
   "metadata": {},
   "outputs": [],
   "source": [
    "sud = Polygon([(-100, -100), (-100, -40), (100, -40), (100, -100)])"
   ]
  },
  {
   "cell_type": "code",
   "execution_count": null,
   "metadata": {},
   "outputs": [],
   "source": [
    "villes.geometry.within(sud)"
   ]
  },
  {
   "cell_type": "code",
   "execution_count": null,
   "metadata": {},
   "outputs": [],
   "source": [
    "villes[villes.geometry.within(sud)]"
   ]
  },
  {
   "cell_type": "markdown",
   "metadata": {},
   "source": [
    "C'est des erreurs (encore !) dans la base de données. [POMPIDOU PAPA ICHTON](https://fr.wikipedia.org/wiki/Papaichton) est une ville de guyane. "
   ]
  },
  {
   "cell_type": "code",
   "execution_count": null,
   "metadata": {},
   "outputs": [],
   "source": [
    "villes.loc[36656]"
   ]
  },
  {
   "cell_type": "markdown",
   "metadata": {},
   "source": [
    "Longitude et latitude ont été inversées pour certaines coordonnées. Ce n'est pas sérieux mais sans une étude préalable des données ont aurait rien vu... \n",
    "On va donc se concentrer sur la métropole qui a l'air correcte."
   ]
  },
  {
   "cell_type": "markdown",
   "metadata": {},
   "source": [
    "### associer sa région à une ville\n",
    "\n",
    "https://geopandas.org/mergingdata.html#spatial-joins"
   ]
  },
  {
   "cell_type": "code",
   "execution_count": null,
   "metadata": {},
   "outputs": [],
   "source": [
    "villes.head()"
   ]
  },
  {
   "cell_type": "code",
   "execution_count": null,
   "metadata": {},
   "outputs": [],
   "source": [
    "regions.head()"
   ]
  },
  {
   "cell_type": "markdown",
   "metadata": {},
   "source": [
    "On va créer une nouvelle table avec pour chaque ville le nom de sa région. La jointure se fait sur les données spaciales :"
   ]
  },
  {
   "cell_type": "code",
   "execution_count": null,
   "metadata": {},
   "outputs": [],
   "source": [
    "villes_regions = gpd.sjoin(villes, regions, how=\"inner\", op='intersects')"
   ]
  },
  {
   "cell_type": "code",
   "execution_count": null,
   "metadata": {},
   "outputs": [],
   "source": [
    "villes_regions.head()"
   ]
  },
  {
   "cell_type": "markdown",
   "metadata": {},
   "source": [
    "Il reste des colonnes en trop, épurons le tout :"
   ]
  },
  {
   "cell_type": "code",
   "execution_count": null,
   "metadata": {},
   "outputs": [],
   "source": [
    "villes = villes_regions.drop(columns=[\"index_right\"]).rename({\"nom_left\": \"nom\", \"nom_right\": \"région\"}, axis=1)"
   ]
  },
  {
   "cell_type": "code",
   "execution_count": null,
   "metadata": {},
   "outputs": [],
   "source": [
    "villes.head()"
   ]
  },
  {
   "cell_type": "markdown",
   "metadata": {},
   "source": [
    "Réordonnons les colonnes : "
   ]
  },
  {
   "cell_type": "code",
   "execution_count": null,
   "metadata": {},
   "outputs": [],
   "source": [
    "villes = villes[['nom', 'région', 'population', 'longitude', 'latitude', 'geometry']]"
   ]
  },
  {
   "cell_type": "code",
   "execution_count": null,
   "metadata": {},
   "outputs": [],
   "source": [
    "villes"
   ]
  },
  {
   "cell_type": "markdown",
   "metadata": {},
   "source": [
    "### compter le nombre de villes par régions\n",
    "\n",
    "On va ajouter une colonne à régions qui contient le nombre de villes que possède la région."
   ]
  },
  {
   "cell_type": "markdown",
   "metadata": {},
   "source": [
    "#### nombre de villes par régions\n",
    "\n",
    "On commence par compter le nombre de villes par région avec un [groupby](https://pandas.pydata.org/pandas-docs/stable/reference/api/pandas.DataFrame.groupby.html).\n",
    "\n",
    "1. On crée une colonne de 1 que l'on va sommer\n",
    "2. On groupe par nom de région\n",
    "3. on somme les colonnes groupées\n",
    "\n",
    "On obtient une dataframe où tout ce qui est sommable l'a été, en particulier notre colonne de 1 :"
   ]
  },
  {
   "cell_type": "code",
   "execution_count": null,
   "metadata": {},
   "outputs": [],
   "source": [
    "villes.assign(nombre=1)"
   ]
  },
  {
   "cell_type": "code",
   "execution_count": null,
   "metadata": {},
   "outputs": [],
   "source": [
    "compte = (villes\n",
    "             .assign(nombre=1)\n",
    "             .groupby(by=\"région\", as_index=False)\n",
    "             .sum()\n",
    "        )\n",
    "compte"
   ]
  },
  {
   "cell_type": "markdown",
   "metadata": {},
   "source": [
    "#### ajout de la colonne nombre pour les régions"
   ]
  },
  {
   "cell_type": "markdown",
   "metadata": {},
   "source": [
    "Il nous reste à merger cette nouvelle table dans le geodataframe des régions :\n",
    "\n",
    "1. Il faut que la colonne de merge ait le même nom donc on commence par renommer la colonne de compte\n",
    "2. on peut ensuite faire le merge\n",
    "\n",
    "On a utilisé l'attribut `inplace=True` qui modifie la dataframe plutôt que d'en créer une nouvelle. Utiliser ça avec paercimonie, car modifer une dataframe n'est presque jamais une bonne solution."
   ]
  },
  {
   "cell_type": "code",
   "execution_count": null,
   "metadata": {},
   "outputs": [],
   "source": [
    "compte.rename(columns={\"région\": \"nom\"}, inplace=True)"
   ]
  },
  {
   "cell_type": "markdown",
   "metadata": {},
   "source": [
    "Tout est prêt on peut merger le résultat. On a pas besoin de toutes les colonnes de compte, juste de `'nom'` et `'nombre'` :"
   ]
  },
  {
   "cell_type": "code",
   "execution_count": null,
   "metadata": {},
   "outputs": [],
   "source": [
    "regions = regions.merge(compte[['nom', 'nombre']], how='inner', on='nom')"
   ]
  },
  {
   "cell_type": "code",
   "execution_count": null,
   "metadata": {},
   "outputs": [],
   "source": [
    "regions"
   ]
  },
  {
   "cell_type": "markdown",
   "metadata": {},
   "source": [
    "### carte chloroplète\n",
    "\n",
    "Un exemple de dessin de carte chloroplète avec geopandas, juste en utilisant [plot](https://geopandas.org/mapping.html) :"
   ]
  },
  {
   "cell_type": "code",
   "execution_count": null,
   "metadata": {},
   "outputs": [],
   "source": [
    "fig, ax = plt.subplots(figsize=(10, 10))\n",
    "\n",
    "ax.axis(False)\n",
    "\n",
    "regions.plot(column='nombre', \n",
    "             legend=True,\n",
    "             legend_kwds={'label': \"Nombre de villes\", 'orientation': \"horizontal\"},\n",
    "             cmap='OrRd',\n",
    "             ax=ax)\n",
    "\n",
    "\n",
    "plt.show()"
   ]
  },
  {
   "cell_type": "markdown",
   "metadata": {},
   "source": [
    "On pourrait utiliser ce qu'on a vu précédemment pour colorier chaque région avec une coluleur spécifique et ainsi faire de plus jolies graphiques, mais plot permet d'avoir un résultat rapide et consitue une première solution."
   ]
  },
  {
   "cell_type": "markdown",
   "metadata": {},
   "source": [
    "## pour aller plus loin\n",
    "\n",
    "### opérations sur les géométries"
   ]
  },
  {
   "cell_type": "markdown",
   "metadata": {},
   "source": [
    "Pour aller plus loin dans l'utilsation de shapely, vous pouvez :\n",
    "* regarder ce tuto shapely en 2 parties : https://www.youtube.com/watch?v=LwpqA2WMR_8 et https://www.youtube.com/watch?v=3fm7x3TRcWs\n",
    "* lire [la doc](https://shapely.readthedocs.io/en/latest/). Elle fourmille d'exemples sur les manipulations et conversions que l'on peut faire\n"
   ]
  },
  {
   "cell_type": "markdown",
   "metadata": {},
   "source": [
    "### opérations sur les géodataframes\n",
    "\n",
    "* https://www.youtube.com/watch?v=HtYxzt55-1w : les opérations geométriques disponibles très bien fait !)\n",
    "* sur le [site de geopandas](https://geopandas.org/) même. Les user guide sont super bien. Par exemple :\n",
    "    * https://geopandas.org/set_operations.html \n",
    "    * https://geopandas.org/geometric_manipulations.html"
   ]
  },
  {
   "cell_type": "markdown",
   "metadata": {},
   "source": [
    "### geoplot\n",
    "\n",
    "Pour dessiner plus de choses. C'est une surcouche de cartopy donc l'installation est plus ardue."
   ]
  },
  {
   "cell_type": "code",
   "execution_count": null,
   "metadata": {},
   "outputs": [],
   "source": []
  }
 ],
 "metadata": {
  "kernelspec": {
   "display_name": "Python 3 (ipykernel)",
   "language": "python",
   "name": "python3"
  },
  "language_info": {
   "codemirror_mode": {
    "name": "ipython",
    "version": 3
   },
   "file_extension": ".py",
   "mimetype": "text/x-python",
   "name": "python",
   "nbconvert_exporter": "python",
   "pygments_lexer": "ipython3",
   "version": "3.11.6"
  }
 },
 "nbformat": 4,
 "nbformat_minor": 4
}
