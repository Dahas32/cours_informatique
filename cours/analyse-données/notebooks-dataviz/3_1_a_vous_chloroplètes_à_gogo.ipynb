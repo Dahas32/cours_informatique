{
 "cells": [
  {
   "cell_type": "markdown",
   "metadata": {},
   "source": [
    "# À vous \n",
    "\n",
    "Jouez avec ce que vous avez apris sur OSM et les cartes chloroplètes. \n",
    "\n",
    "Les plus belles cartes seront postées sur reddit : \n",
    "- là : https://www.reddit.com/r/dataisbeautiful/\n",
    "- ou encore là : https://www.reddit.com/r/MapPorn/\n",
    "\n",
    "Trouvez des données à représenter à Marseille, en france ou dans le monde\n",
    "\n"
   ]
  },
  {
   "cell_type": "markdown",
   "metadata": {},
   "source": [
    "\n",
    "## Comptez des trucs à Marseille\n",
    "\n",
    "Soyez créatifs et adaptez le cours à un comptage marseillais qui vous tient à coeur. \n",
    "\n",
    "> Vous pourrez utiliser le [wiki OSM](https://wiki.openstreetmap.org/wiki/Map_features) pour vous donner des idées de choses à chercher et les syntaxes de recherches."
   ]
  },
  {
   "cell_type": "code",
   "execution_count": null,
   "metadata": {},
   "outputs": [],
   "source": [
    "arrondissment_geojson = json.load(open(\"./arrondissements.geojson\"))"
   ]
  },
  {
   "cell_type": "markdown",
   "metadata": {},
   "source": [
    "On pourra utiliser les propriétés de chaque feature, ici les proprété de la première donnée :"
   ]
  },
  {
   "cell_type": "code",
   "execution_count": null,
   "metadata": {},
   "outputs": [],
   "source": [
    "arrondissment_geojson[\"features\"][0][\"properties\"]"
   ]
  },
  {
   "cell_type": "code",
   "execution_count": null,
   "metadata": {},
   "outputs": [],
   "source": [
    "m = folium.Map(location=[43.2805, 5.3809],\n",
    "               zoom_start=11\n",
    "              )\n",
    "\n",
    "folium.Choropleth(\n",
    "    geo_data=arrondissment_geojson,\n",
    ").add_to(m)\n",
    "\n",
    "folium.LayerControl().add_to(m)\n",
    "\n",
    "m"
   ]
  },
  {
   "cell_type": "markdown",
   "metadata": {},
   "source": [
    "## Comptez des trucs en France\n",
    "\n",
    "grâce à grégoire david : https://github.com/gregoiredavid/france-geojson\n",
    "\n",
    "Vous pouvez par exemple vérifier s'il y a plus d'Anne en Bretagne qu'ailleurs en France en reprenant les [données des naissances](https://www.insee.fr/fr/statistiques/7633685?sommaire=7635552) utilisées au début du cours d'analyse des données mais en prenant le fichier décrit par départements.\n",
    "\n",
    "Si vous voulez trouver des relation/chemin ou noeuds particulier sur OSM, faite une recherche sur opentreetmap. La recherche suivante par exemple, recherche tous les nom brest : https://www.openstreetmap.org/relation/1076124\n",
    "Vous allez trouver à la fois la ville française, sa région, ou encore un village bielorusse."
   ]
  },
  {
   "cell_type": "markdown",
   "metadata": {},
   "source": [
    "Il y a aussi : https://wiki.openstreetmap.org/wiki/France/Limites_administratives avec toutes les relations des limites administratives françaises"
   ]
  },
  {
   "cell_type": "markdown",
   "metadata": {},
   "source": [
    "### le fichier des prénoms"
   ]
  },
  {
   "cell_type": "code",
   "execution_count": null,
   "metadata": {},
   "outputs": [],
   "source": [
    "prenom = pandas.read_csv(\"https://www.insee.fr/fr/statistiques/fichier/2540004/dpt2019_csv.zip\",\n",
    "                         compression='zip',\n",
    "                         sep=\";\")"
   ]
  },
  {
   "cell_type": "code",
   "execution_count": null,
   "metadata": {},
   "outputs": [],
   "source": [
    "prenom"
   ]
  },
  {
   "cell_type": "markdown",
   "metadata": {},
   "source": [
    "### un fond de carte"
   ]
  },
  {
   "cell_type": "markdown",
   "metadata": {},
   "source": [
    "On a téléchargé le fichier `departements.geojson` de https://github.com/gregoiredavid/france-geojson"
   ]
  },
  {
   "cell_type": "code",
   "execution_count": null,
   "metadata": {},
   "outputs": [],
   "source": [
    "departements_geojson = json.load(open(\"./departements.geojson\"))"
   ]
  },
  {
   "cell_type": "markdown",
   "metadata": {},
   "source": [
    "On pourra utiliser les propriétés de chaque feature, ici les proprété de la première donnée :"
   ]
  },
  {
   "cell_type": "code",
   "execution_count": null,
   "metadata": {},
   "outputs": [],
   "source": [
    "departements_geojson[\"features\"][0][\"properties\"]"
   ]
  },
  {
   "cell_type": "markdown",
   "metadata": {},
   "source": [
    "## comptez des trucs dans le monde\n",
    "\n",
    "grâce aux fond de cartes de https://datahub.io/core/geo-countries\n",
    "\n",
    "et en utilisant,  pourquoi pas, les données de la banque mondiale : https://databank.worldbank.org/databases"
   ]
  },
  {
   "cell_type": "code",
   "execution_count": null,
   "metadata": {},
   "outputs": [],
   "source": []
  }
 ],
 "metadata": {
  "kernelspec": {
   "display_name": "Python 3 (ipykernel)",
   "language": "python",
   "name": "python3"
  },
  "language_info": {
   "codemirror_mode": {
    "name": "ipython",
    "version": 3
   },
   "file_extension": ".py",
   "mimetype": "text/x-python",
   "name": "python",
   "nbconvert_exporter": "python",
   "pygments_lexer": "ipython3",
   "version": "3.11.6"
  }
 },
 "nbformat": 4,
 "nbformat_minor": 4
}
