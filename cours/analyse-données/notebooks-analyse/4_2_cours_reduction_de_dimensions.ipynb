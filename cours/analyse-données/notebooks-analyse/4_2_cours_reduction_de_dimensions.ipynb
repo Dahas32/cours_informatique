{
 "cells": [
  {
   "cell_type": "markdown",
   "metadata": {},
   "source": [
    "# Multi Dimensional Scaling (MDS)"
   ]
  },
  {
   "cell_type": "markdown",
   "metadata": {},
   "source": [
    "Les méthodes de MDS consitent à projeter des données dans un espace de dimension réduite tout en conservant au mieux\n",
    "une distance entre les données.\n",
    "\n",
    "De nombreuses méthodes existent (voir par exemple http://en.wikipedia.org/wiki/Multidimensional_scaling, ou http://scikit-learn.org/stable/_downloads/plot_lle_digits.py) nous n'en présenterons ici que quelques une."
   ]
  },
  {
   "cell_type": "markdown",
   "metadata": {},
   "source": [
    "L'intérêt de ces méthodes est (au moins) double :\n",
    "* il permet de représenter dansun espace de petite dimenstion des données a priri décrites dansun grand nombre de dimension\n",
    "* il permet d'associer des axes à des données uniqueent décrite par une distance. Ceci permet de faire ensite une ACP dessus pour interpréter les données, faire des régressions, ou utiliser des algorithmes uniquement prévu pour le cas euclidien (comme les $k$-means par exemple)."
   ]
  },
  {
   "cell_type": "markdown",
   "metadata": {},
   "source": [
    "## Données iris"
   ]
  },
  {
   "cell_type": "code",
   "execution_count": 60,
   "metadata": {},
   "outputs": [
    {
     "data": {
      "text/html": [
       "<div>\n",
       "<style scoped>\n",
       "    .dataframe tbody tr th:only-of-type {\n",
       "        vertical-align: middle;\n",
       "    }\n",
       "\n",
       "    .dataframe tbody tr th {\n",
       "        vertical-align: top;\n",
       "    }\n",
       "\n",
       "    .dataframe thead th {\n",
       "        text-align: right;\n",
       "    }\n",
       "</style>\n",
       "<table border=\"1\" class=\"dataframe\">\n",
       "  <thead>\n",
       "    <tr style=\"text-align: right;\">\n",
       "      <th></th>\n",
       "      <th>sepal_length</th>\n",
       "      <th>sepal_width</th>\n",
       "      <th>petal_length</th>\n",
       "      <th>petal_width</th>\n",
       "    </tr>\n",
       "  </thead>\n",
       "  <tbody>\n",
       "    <tr>\n",
       "      <th>0</th>\n",
       "      <td>5.1</td>\n",
       "      <td>3.5</td>\n",
       "      <td>1.4</td>\n",
       "      <td>0.2</td>\n",
       "    </tr>\n",
       "    <tr>\n",
       "      <th>1</th>\n",
       "      <td>4.9</td>\n",
       "      <td>3.0</td>\n",
       "      <td>1.4</td>\n",
       "      <td>0.2</td>\n",
       "    </tr>\n",
       "    <tr>\n",
       "      <th>2</th>\n",
       "      <td>4.7</td>\n",
       "      <td>3.2</td>\n",
       "      <td>1.3</td>\n",
       "      <td>0.2</td>\n",
       "    </tr>\n",
       "    <tr>\n",
       "      <th>3</th>\n",
       "      <td>4.6</td>\n",
       "      <td>3.1</td>\n",
       "      <td>1.5</td>\n",
       "      <td>0.2</td>\n",
       "    </tr>\n",
       "    <tr>\n",
       "      <th>4</th>\n",
       "      <td>5.0</td>\n",
       "      <td>3.6</td>\n",
       "      <td>1.4</td>\n",
       "      <td>0.2</td>\n",
       "    </tr>\n",
       "    <tr>\n",
       "      <th>...</th>\n",
       "      <td>...</td>\n",
       "      <td>...</td>\n",
       "      <td>...</td>\n",
       "      <td>...</td>\n",
       "    </tr>\n",
       "    <tr>\n",
       "      <th>145</th>\n",
       "      <td>6.7</td>\n",
       "      <td>3.0</td>\n",
       "      <td>5.2</td>\n",
       "      <td>2.3</td>\n",
       "    </tr>\n",
       "    <tr>\n",
       "      <th>146</th>\n",
       "      <td>6.3</td>\n",
       "      <td>2.5</td>\n",
       "      <td>5.0</td>\n",
       "      <td>1.9</td>\n",
       "    </tr>\n",
       "    <tr>\n",
       "      <th>147</th>\n",
       "      <td>6.5</td>\n",
       "      <td>3.0</td>\n",
       "      <td>5.2</td>\n",
       "      <td>2.0</td>\n",
       "    </tr>\n",
       "    <tr>\n",
       "      <th>148</th>\n",
       "      <td>6.2</td>\n",
       "      <td>3.4</td>\n",
       "      <td>5.4</td>\n",
       "      <td>2.3</td>\n",
       "    </tr>\n",
       "    <tr>\n",
       "      <th>149</th>\n",
       "      <td>5.9</td>\n",
       "      <td>3.0</td>\n",
       "      <td>5.1</td>\n",
       "      <td>1.8</td>\n",
       "    </tr>\n",
       "  </tbody>\n",
       "</table>\n",
       "<p>150 rows × 4 columns</p>\n",
       "</div>"
      ],
      "text/plain": [
       "     sepal_length  sepal_width  petal_length  petal_width\n",
       "0             5.1          3.5           1.4          0.2\n",
       "1             4.9          3.0           1.4          0.2\n",
       "2             4.7          3.2           1.3          0.2\n",
       "3             4.6          3.1           1.5          0.2\n",
       "4             5.0          3.6           1.4          0.2\n",
       "..            ...          ...           ...          ...\n",
       "145           6.7          3.0           5.2          2.3\n",
       "146           6.3          2.5           5.0          1.9\n",
       "147           6.5          3.0           5.2          2.0\n",
       "148           6.2          3.4           5.4          2.3\n",
       "149           5.9          3.0           5.1          1.8\n",
       "\n",
       "[150 rows x 4 columns]"
      ]
     },
     "execution_count": 60,
     "metadata": {},
     "output_type": "execute_result"
    }
   ],
   "source": [
    "import seaborn as sns\n",
    "\n",
    "iris = sns.load_dataset('iris').drop(columns=\"species\")\n",
    "iris"
   ]
  },
  {
   "cell_type": "markdown",
   "metadata": {},
   "source": [
    "On a toujours 3 espèces que l'on représentera en 3 clouleurs différentes. Les 50 premières sont de l'espèce *setosa*, les 50 suivantes de l'espèce *versicolor* et les 50 dernière de l'espèce *virginica*\n",
    "\n",
    "**Attention** : ces 3 espèces sont des *meta* données : ce sont les botanistes qui ont répartis les iris en espèces, ce n'est pas inhérent aux données."
   ]
  },
  {
   "cell_type": "markdown",
   "metadata": {},
   "source": [
    "## Méthode 1 : les 2 premiers axes de l'ACP"
   ]
  },
  {
   "cell_type": "markdown",
   "metadata": {},
   "source": [
    "Permet de garder les axes qui ont le maximum d'information, c'est à dire ceux sur lesquels les points se projettent bien. \n",
    "\n",
    "Dans ce cas là, on ne centre **PAS** et on ne réduit **PAS** les données. On est dans un cas où seule l'inertie nous importe, pas l'interprétation des axes."
   ]
  },
  {
   "cell_type": "markdown",
   "metadata": {},
   "source": [
    "### ACP de données non centrée/réduite"
   ]
  },
  {
   "cell_type": "code",
   "execution_count": 61,
   "metadata": {},
   "outputs": [],
   "source": [
    "from sklearn.decomposition import PCA \n",
    "import numpy as np\n",
    "import pandas"
   ]
  },
  {
   "cell_type": "code",
   "execution_count": 62,
   "metadata": {},
   "outputs": [],
   "source": [
    "X = iris\n",
    "\n",
    "pca = PCA()\n",
    "pca.fit(X)\n",
    "\n",
    "U = np.transpose(pca.components_) # vecteurs propres\n",
    "I = pandas.DataFrame(np.transpose(pca.explained_variance_ratio_), columns=[\"pourcentage\"])  # information véhiculée\n",
    "\n",
    "C = pandas.DataFrame(X @ U, index=X.index) # nouvelles coordonnées"
   ]
  },
  {
   "cell_type": "markdown",
   "metadata": {},
   "source": [
    "### On projette nos données sur les 2 premiers axes"
   ]
  },
  {
   "cell_type": "code",
   "execution_count": 63,
   "metadata": {},
   "outputs": [
    {
     "data": {
      "text/html": [
       "<div>\n",
       "<style scoped>\n",
       "    .dataframe tbody tr th:only-of-type {\n",
       "        vertical-align: middle;\n",
       "    }\n",
       "\n",
       "    .dataframe tbody tr th {\n",
       "        vertical-align: top;\n",
       "    }\n",
       "\n",
       "    .dataframe thead th {\n",
       "        text-align: right;\n",
       "    }\n",
       "</style>\n",
       "<table border=\"1\" class=\"dataframe\">\n",
       "  <thead>\n",
       "    <tr style=\"text-align: right;\">\n",
       "      <th></th>\n",
       "      <th>0</th>\n",
       "      <th>1</th>\n",
       "    </tr>\n",
       "  </thead>\n",
       "  <tbody>\n",
       "    <tr>\n",
       "      <th>0</th>\n",
       "      <td>2.818240</td>\n",
       "      <td>5.646350</td>\n",
       "    </tr>\n",
       "    <tr>\n",
       "      <th>1</th>\n",
       "      <td>2.788223</td>\n",
       "      <td>5.149951</td>\n",
       "    </tr>\n",
       "    <tr>\n",
       "      <th>2</th>\n",
       "      <td>2.613375</td>\n",
       "      <td>5.182003</td>\n",
       "    </tr>\n",
       "    <tr>\n",
       "      <th>3</th>\n",
       "      <td>2.757022</td>\n",
       "      <td>5.008654</td>\n",
       "    </tr>\n",
       "    <tr>\n",
       "      <th>4</th>\n",
       "      <td>2.773649</td>\n",
       "      <td>5.653707</td>\n",
       "    </tr>\n",
       "    <tr>\n",
       "      <th>...</th>\n",
       "      <td>...</td>\n",
       "      <td>...</td>\n",
       "    </tr>\n",
       "    <tr>\n",
       "      <th>145</th>\n",
       "      <td>7.446475</td>\n",
       "      <td>5.514485</td>\n",
       "    </tr>\n",
       "    <tr>\n",
       "      <th>146</th>\n",
       "      <td>7.029532</td>\n",
       "      <td>4.951636</td>\n",
       "    </tr>\n",
       "    <tr>\n",
       "      <th>147</th>\n",
       "      <td>7.266711</td>\n",
       "      <td>5.405811</td>\n",
       "    </tr>\n",
       "    <tr>\n",
       "      <th>148</th>\n",
       "      <td>7.403307</td>\n",
       "      <td>5.443581</td>\n",
       "    </tr>\n",
       "    <tr>\n",
       "      <th>149</th>\n",
       "      <td>6.892554</td>\n",
       "      <td>5.044292</td>\n",
       "    </tr>\n",
       "  </tbody>\n",
       "</table>\n",
       "<p>150 rows × 2 columns</p>\n",
       "</div>"
      ],
      "text/plain": [
       "            0         1\n",
       "0    2.818240  5.646350\n",
       "1    2.788223  5.149951\n",
       "2    2.613375  5.182003\n",
       "3    2.757022  5.008654\n",
       "4    2.773649  5.653707\n",
       "..        ...       ...\n",
       "145  7.446475  5.514485\n",
       "146  7.029532  4.951636\n",
       "147  7.266711  5.405811\n",
       "148  7.403307  5.443581\n",
       "149  6.892554  5.044292\n",
       "\n",
       "[150 rows x 2 columns]"
      ]
     },
     "execution_count": 63,
     "metadata": {},
     "output_type": "execute_result"
    }
   ],
   "source": [
    "data = C.iloc[:, [0, 1]]\n",
    "\n",
    "data"
   ]
  },
  {
   "cell_type": "code",
   "execution_count": 64,
   "metadata": {},
   "outputs": [
    {
     "data": {
      "text/plain": [
       "0    float64\n",
       "1    float64\n",
       "dtype: object"
      ]
     },
     "execution_count": 64,
     "metadata": {},
     "output_type": "execute_result"
    }
   ],
   "source": [
    "data.dtypes"
   ]
  },
  {
   "cell_type": "markdown",
   "metadata": {},
   "source": [
    "### On représente graphiquement le résultat"
   ]
  },
  {
   "cell_type": "markdown",
   "metadata": {},
   "source": [
    "**bug** : avec la version actuelle de seaborn, les noms de colonnes doivent être des `str` (sinon la designation d'une colonne comme axe (dans le sns.scatterplot ne fonctionne pas).\n",
    "\n",
    "On renomme donc les colonnes par des `str`."
   ]
  },
  {
   "cell_type": "code",
   "execution_count": 65,
   "metadata": {},
   "outputs": [
    {
     "data": {
      "text/plain": [
       "array([0, 1])"
      ]
     },
     "execution_count": 65,
     "metadata": {},
     "output_type": "execute_result"
    }
   ],
   "source": [
    "data.columns.values"
   ]
  },
  {
   "cell_type": "code",
   "execution_count": 66,
   "metadata": {},
   "outputs": [],
   "source": [
    "data.columns = (str(x) for x in data.columns)"
   ]
  },
  {
   "cell_type": "code",
   "execution_count": 67,
   "metadata": {},
   "outputs": [
    {
     "data": {
      "text/plain": [
       "array(['0', '1'], dtype=object)"
      ]
     },
     "execution_count": 67,
     "metadata": {},
     "output_type": "execute_result"
    }
   ],
   "source": [
    "data.columns.values"
   ]
  },
  {
   "cell_type": "code",
   "execution_count": 68,
   "metadata": {},
   "outputs": [],
   "source": [
    "import matplotlib.pyplot as plt\n",
    "import seaborn as sns\n",
    "\n",
    "sns.set()\n",
    "\n",
    "current_palette = sns.color_palette()"
   ]
  },
  {
   "cell_type": "code",
   "execution_count": 69,
   "metadata": {},
   "outputs": [
    {
     "data": {
      "image/png": "[encoded data removed]",
      "text/plain": [
       "<Figure size 720x720 with 1 Axes>"
      ]
     },
     "metadata": {},
     "output_type": "display_data"
    }
   ],
   "source": [
    "fig, ax = plt.subplots(figsize=(10, 10))\n",
    "\n",
    "sns.scatterplot(x='0', \n",
    "                y='1', \n",
    "                data=data,\n",
    "                legend=False,\n",
    "                hue = [0] * 50 + [1] * 50 + [2] * 50,\n",
    "                palette=current_palette[:3],\n",
    "                ax=ax)\n",
    "\n",
    "\n",
    "plt.show()"
   ]
  },
  {
   "cell_type": "markdown",
   "metadata": {},
   "source": [
    "## Méthode 2 : le hasard"
   ]
  },
  {
   "cell_type": "markdown",
   "metadata": {},
   "source": [
    "Cela peut sembler idiot, mais sur des données de grandes dimensions c'est (prouvé) assez efficace."
   ]
  },
  {
   "cell_type": "markdown",
   "metadata": {},
   "source": [
    "On utilise un module de sklearn https://scikit-learn.org/stable/modules/random_projection.html"
   ]
  },
  {
   "cell_type": "markdown",
   "metadata": {},
   "source": [
    "### On choisi ici 2 nouveaux axes aléatoires"
   ]
  },
  {
   "cell_type": "code",
   "execution_count": 70,
   "metadata": {},
   "outputs": [],
   "source": [
    "from sklearn import random_projection\n",
    "\n",
    "rp = random_projection.SparseRandomProjection(n_components=2, random_state=42)"
   ]
  },
  {
   "cell_type": "markdown",
   "metadata": {},
   "source": [
    "### On projette nos données dessus"
   ]
  },
  {
   "cell_type": "code",
   "execution_count": 71,
   "metadata": {},
   "outputs": [
    {
     "data": {
      "text/html": [
       "<div>\n",
       "<style scoped>\n",
       "    .dataframe tbody tr th:only-of-type {\n",
       "        vertical-align: middle;\n",
       "    }\n",
       "\n",
       "    .dataframe tbody tr th {\n",
       "        vertical-align: top;\n",
       "    }\n",
       "\n",
       "    .dataframe thead th {\n",
       "        text-align: right;\n",
       "    }\n",
       "</style>\n",
       "<table border=\"1\" class=\"dataframe\">\n",
       "  <thead>\n",
       "    <tr style=\"text-align: right;\">\n",
       "      <th></th>\n",
       "      <th>0</th>\n",
       "      <th>1</th>\n",
       "    </tr>\n",
       "  </thead>\n",
       "  <tbody>\n",
       "    <tr>\n",
       "      <th>0</th>\n",
       "      <td>-3.7</td>\n",
       "      <td>5.1</td>\n",
       "    </tr>\n",
       "    <tr>\n",
       "      <th>1</th>\n",
       "      <td>-3.2</td>\n",
       "      <td>4.6</td>\n",
       "    </tr>\n",
       "    <tr>\n",
       "      <th>2</th>\n",
       "      <td>-3.4</td>\n",
       "      <td>4.7</td>\n",
       "    </tr>\n",
       "    <tr>\n",
       "      <th>3</th>\n",
       "      <td>-3.3</td>\n",
       "      <td>4.8</td>\n",
       "    </tr>\n",
       "    <tr>\n",
       "      <th>4</th>\n",
       "      <td>-3.8</td>\n",
       "      <td>5.2</td>\n",
       "    </tr>\n",
       "    <tr>\n",
       "      <th>...</th>\n",
       "      <td>...</td>\n",
       "      <td>...</td>\n",
       "    </tr>\n",
       "    <tr>\n",
       "      <th>145</th>\n",
       "      <td>-5.3</td>\n",
       "      <td>10.5</td>\n",
       "    </tr>\n",
       "    <tr>\n",
       "      <th>146</th>\n",
       "      <td>-4.4</td>\n",
       "      <td>9.4</td>\n",
       "    </tr>\n",
       "    <tr>\n",
       "      <th>147</th>\n",
       "      <td>-5.0</td>\n",
       "      <td>10.2</td>\n",
       "    </tr>\n",
       "    <tr>\n",
       "      <th>148</th>\n",
       "      <td>-5.7</td>\n",
       "      <td>11.1</td>\n",
       "    </tr>\n",
       "    <tr>\n",
       "      <th>149</th>\n",
       "      <td>-4.8</td>\n",
       "      <td>9.9</td>\n",
       "    </tr>\n",
       "  </tbody>\n",
       "</table>\n",
       "<p>150 rows × 2 columns</p>\n",
       "</div>"
      ],
      "text/plain": [
       "       0     1\n",
       "0   -3.7   5.1\n",
       "1   -3.2   4.6\n",
       "2   -3.4   4.7\n",
       "3   -3.3   4.8\n",
       "4   -3.8   5.2\n",
       "..   ...   ...\n",
       "145 -5.3  10.5\n",
       "146 -4.4   9.4\n",
       "147 -5.0  10.2\n",
       "148 -5.7  11.1\n",
       "149 -4.8   9.9\n",
       "\n",
       "[150 rows x 2 columns]"
      ]
     },
     "execution_count": 71,
     "metadata": {},
     "output_type": "execute_result"
    }
   ],
   "source": [
    "iris_random = rp.fit_transform(iris)\n",
    "\n",
    "\n",
    "iris_random = pandas.DataFrame(iris_random)\n",
    "\n",
    "iris_random"
   ]
  },
  {
   "cell_type": "markdown",
   "metadata": {},
   "source": [
    "### On représente graphiquement le résultat"
   ]
  },
  {
   "cell_type": "code",
   "execution_count": 72,
   "metadata": {},
   "outputs": [],
   "source": [
    "data = iris_random\n",
    "\n",
    "data.columns = (str(x) for x in data.columns) # pour ce fichu bug"
   ]
  },
  {
   "cell_type": "code",
   "execution_count": 73,
   "metadata": {},
   "outputs": [
    {
     "data": {
      "image/png": "[encoded data removed]",
      "text/plain": [
       "<Figure size 720x720 with 1 Axes>"
      ]
     },
     "metadata": {},
     "output_type": "display_data"
    }
   ],
   "source": [
    "data = iris_random\n",
    "\n",
    "fig, ax = plt.subplots(figsize=(10, 10))\n",
    "\n",
    "sns.scatterplot(x=\"0\", \n",
    "                y=\"1\", \n",
    "                data=data,\n",
    "                legend=False,\n",
    "                hue = [0] * 50 + [1] * 50 + [2] * 50,\n",
    "                palette=current_palette[:3],\n",
    "                ax=ax)\n",
    "plt.show()"
   ]
  },
  {
   "cell_type": "markdown",
   "metadata": {},
   "source": [
    "## Méthode 3 : le MDS classique"
   ]
  },
  {
   "cell_type": "markdown",
   "metadata": {},
   "source": [
    "Nos données sont ici décrites par une distance (pas forcément euclidienne) et on veut trouver $k$ axes telle que cette distance corresponde à la distance euclienne de points sur ces $k$ axes. \n",
    "\n",
    "voir : https://fr.wikipedia.org/wiki/Positionnement_multidimensionnel\n"
   ]
  },
  {
   "cell_type": "markdown",
   "metadata": {},
   "source": [
    "Ici nos iris sont décritent dans un espace à 4 dimensions. \n",
    "\n",
    "On va commencer par déterminer une distance entre nos iris. Nous allons utiliser la distance euclidienne mais il y en a plein d'autres de possible : \n",
    "\n",
    "https://scikit-learn.org/stable/modules/classes.html#sklearn-metrics-metrics\n",
    "\n",
    "voir aussi https://towardsdatascience.com/3-basic-distance-measurement-in-text-mining-5852becff1d7 pour les 3 distances les plus utilisées (la dernière va vous surprendre)\n"
   ]
  },
  {
   "cell_type": "markdown",
   "metadata": {},
   "source": [
    "### Distance euclidienne entre nos données"
   ]
  },
  {
   "cell_type": "code",
   "execution_count": 74,
   "metadata": {},
   "outputs": [
    {
     "data": {
      "text/plain": [
       "array([[0.        , 0.53851648, 0.50990195, ..., 4.45982062, 4.65080638,\n",
       "        4.14004831],\n",
       "       [0.53851648, 0.        , 0.3       , ..., 4.49888875, 4.71805044,\n",
       "        4.15331193],\n",
       "       [0.50990195, 0.3       , 0.        , ..., 4.66154481, 4.84871117,\n",
       "        4.29883705],\n",
       "       ...,\n",
       "       [4.45982062, 4.49888875, 4.66154481, ..., 0.        , 0.6164414 ,\n",
       "        0.64031242],\n",
       "       [4.65080638, 4.71805044, 4.84871117, ..., 0.6164414 , 0.        ,\n",
       "        0.76811457],\n",
       "       [4.14004831, 4.15331193, 4.29883705, ..., 0.64031242, 0.76811457,\n",
       "        0.        ]])"
      ]
     },
     "execution_count": 74,
     "metadata": {},
     "output_type": "execute_result"
    }
   ],
   "source": [
    "from sklearn.metrics import euclidean_distances\n",
    "\n",
    "d = euclidean_distances(iris)\n",
    "\n",
    "d"
   ]
  },
  {
   "cell_type": "code",
   "execution_count": 75,
   "metadata": {},
   "outputs": [
    {
     "data": {
      "text/plain": [
       "0.7681145747868631"
      ]
     },
     "execution_count": 75,
     "metadata": {},
     "output_type": "execute_result"
    }
   ],
   "source": [
    "# c'est une liste de liste. Par exemple distance entre l'élément 0 et l'élément 42\n",
    "d[0][42]"
   ]
  },
  {
   "cell_type": "code",
   "execution_count": null,
   "metadata": {},
   "outputs": [],
   "source": [
    "# ou au format numpy\n",
    "\n",
    "d[0, 42]"
   ]
  },
  {
   "cell_type": "markdown",
   "metadata": {},
   "source": [
    "On cherche ensuite 2 dimensions pour les quelles cette distance serait bien conservée\n",
    "\n",
    "https://scikit-learn.org/stable/modules/generated/sklearn.manifold.MDS.html#sklearn.manifold.MDS"
   ]
  },
  {
   "cell_type": "markdown",
   "metadata": {},
   "source": [
    "### On trouve 2 axes permettant de recréer la distance de façon approchée"
   ]
  },
  {
   "cell_type": "code",
   "execution_count": 76,
   "metadata": {},
   "outputs": [],
   "source": [
    "from sklearn import manifold"
   ]
  },
  {
   "cell_type": "code",
   "execution_count": 78,
   "metadata": {},
   "outputs": [
    {
     "data": {
      "text/plain": [
       "array([[ 1.10388186, -2.47798402],\n",
       "       [ 0.59628564, -2.66663756],\n",
       "       [ 0.72349462, -2.81371104],\n",
       "       [ 0.48903618, -2.73050767],\n",
       "       [ 1.14418591, -2.51697293],\n",
       "       [ 1.42017088, -1.94760918],\n",
       "       [ 0.77550307, -2.74900282],\n",
       "       [ 0.93542867, -2.46805055],\n",
       "       [ 0.29944695, -2.93723936],\n",
       "       [ 0.65977929, -2.6022281 ],\n",
       "       [ 1.38251127, -2.19634188],\n",
       "       [ 0.79414529, -2.49850917],\n",
       "       [ 0.56319407, -2.75124269],\n",
       "       [ 0.47120793, -3.24089056],\n",
       "       [ 1.95571407, -2.16552733],\n",
       "       [ 2.03316637, -1.86524472],\n",
       "       [ 1.60565418, -2.25056928],\n",
       "       [ 1.09558834, -2.44284515],\n",
       "       [ 1.5134558 , -1.82947591],\n",
       "       [ 1.29998915, -2.32127975],\n",
       "       [ 1.07065551, -2.08049059],\n",
       "       [ 1.20692536, -2.29850443],\n",
       "       [ 1.1221796 , -3.0539641 ],\n",
       "       [ 0.78674161, -2.16726199],\n",
       "       [ 0.6162601 , -2.27266915],\n",
       "       [ 0.54450784, -2.45753984],\n",
       "       [ 0.86772019, -2.32028102],\n",
       "       [ 1.10945651, -2.34703217],\n",
       "       [ 1.07701005, -2.43953039],\n",
       "       [ 0.57958436, -2.58085084],\n",
       "       [ 0.55872013, -2.53942945],\n",
       "       [ 1.13845415, -2.16581973],\n",
       "       [ 1.61316191, -2.31218882],\n",
       "       [ 1.84588071, -2.15154624],\n",
       "       [ 0.652805  , -2.56444782],\n",
       "       [ 0.92059568, -2.74139419],\n",
       "       [ 1.43341536, -2.31910054],\n",
       "       [ 1.11601601, -2.61142217],\n",
       "       [ 0.41405931, -3.00341359],\n",
       "       [ 0.98352817, -2.4154301 ],\n",
       "       [ 1.08705423, -2.57774512],\n",
       "       [-0.15549356, -3.04102453],\n",
       "       [ 0.55589819, -2.99013929],\n",
       "       [ 0.92286745, -2.22764882],\n",
       "       [ 1.16247029, -1.93809612],\n",
       "       [ 0.53182615, -2.68317256],\n",
       "       [ 1.28525064, -2.26694176],\n",
       "       [ 0.62835156, -2.7963518 ],\n",
       "       [ 1.32773347, -2.25434572],\n",
       "       [ 0.90308336, -2.56047345],\n",
       "       [ 0.40744414,  1.43459885],\n",
       "       [ 0.04717018,  0.97945426],\n",
       "       [ 0.17366074,  1.54754848],\n",
       "       [-0.83599352, -0.09830966],\n",
       "       [-0.13339453,  1.07179383],\n",
       "       [-0.58751838,  0.47279286],\n",
       "       [-0.05891027,  1.1337988 ],\n",
       "       [-0.72310679, -1.02605589],\n",
       "       [ 0.08524571,  1.08214467],\n",
       "       [-0.74666094, -0.25738904],\n",
       "       [-1.07053954, -0.88592878],\n",
       "       [-0.22743506,  0.45129778],\n",
       "       [-0.90464294, -0.03239705],\n",
       "       [-0.38298574,  0.89485157],\n",
       "       [-0.12133661, -0.24094589],\n",
       "       [ 0.28266264,  1.03134991],\n",
       "       [-0.63424663,  0.50217548],\n",
       "       [-0.35176415,  0.09918664],\n",
       "       [-0.9758551 ,  0.66968215],\n",
       "       [-0.54307312, -0.15155042],\n",
       "       [-0.56170534,  1.02272459],\n",
       "       [-0.06504147,  0.32375585],\n",
       "       [-0.69738861,  1.12510055],\n",
       "       [-0.4255052 ,  0.80518836],\n",
       "       [ 0.04944514,  0.72590541],\n",
       "       [ 0.17456425,  0.9664965 ],\n",
       "       [ 0.09973369,  1.37563842],\n",
       "       [-0.15199832,  1.55994013],\n",
       "       [-0.39322411,  0.718922  ],\n",
       "       [-0.24426256, -0.42656954],\n",
       "       [-0.63036482, -0.29895522],\n",
       "       [-0.59098145, -0.41364527],\n",
       "       [-0.29461361,  0.02157435],\n",
       "       [-0.8201546 ,  1.18088033],\n",
       "       [-0.82608769,  0.37866461],\n",
       "       [ 0.04065501,  0.83573349],\n",
       "       [ 0.10508019,  1.2856911 ],\n",
       "       [-0.28115405,  0.68258282],\n",
       "       [-0.27359229,  0.15533002],\n",
       "       [-0.66502063, -0.05550573],\n",
       "       [-0.78960783,  0.22454742],\n",
       "       [-0.28467094,  0.83347772],\n",
       "       [-0.43442939,  0.07481387],\n",
       "       [-0.74870874, -0.98619518],\n",
       "       [-0.56087368,  0.18456689],\n",
       "       [-0.27089231,  0.24632721],\n",
       "       [-0.37525459,  0.26684055],\n",
       "       [-0.10074828,  0.61438464],\n",
       "       [-0.45244844, -1.10986459],\n",
       "       [-0.39717619,  0.17735986],\n",
       "       [-0.03677886,  2.5960979 ],\n",
       "       [-1.01250139,  1.17740237],\n",
       "       [-0.59420204,  2.59709765],\n",
       "       [-0.82690081,  1.81375482],\n",
       "       [-0.74162779,  2.23303093],\n",
       "       [-0.6645138 ,  3.42278887],\n",
       "       [-1.43765992,  0.10719048],\n",
       "       [-0.82291354,  2.92399718],\n",
       "       [-1.10045371,  2.1105799 ],\n",
       "       [-0.0393336 ,  3.05828045],\n",
       "       [-0.26216104,  1.67751038],\n",
       "       [-0.72712384,  1.65293664],\n",
       "       [-0.46326741,  2.13138795],\n",
       "       [-1.19375839,  1.05099796],\n",
       "       [-1.28379536,  1.32868986],\n",
       "       [-0.34266582,  1.92167665],\n",
       "       [-0.60365458,  1.86029128],\n",
       "       [-0.91574117,  3.65066823],\n",
       "       [-0.80445508,  3.78211162],\n",
       "       [-1.2049323 ,  0.9601693 ],\n",
       "       [-0.33631341,  2.44779659],\n",
       "       [-1.08739102,  0.94479845],\n",
       "       [-0.86553872,  3.50386265],\n",
       "       [-0.55669577,  1.27826594],\n",
       "       [-0.39028206,  2.28423319],\n",
       "       [-0.36855544,  2.71092259],\n",
       "       [-0.4965176 ,  1.16127971],\n",
       "       [-0.49945942,  1.20617448],\n",
       "       [-0.82585934,  1.96357796],\n",
       "       [-0.79450946,  2.42801152],\n",
       "       [-0.85759009,  2.82923504],\n",
       "       [ 0.29226627,  3.53771924],\n",
       "       [-0.84547869,  2.00210269],\n",
       "       [-0.52259421,  1.34143767],\n",
       "       [-1.20671025,  1.52815582],\n",
       "       [-0.35376933,  3.19994708],\n",
       "       [-0.04752166,  2.2335662 ],\n",
       "       [-0.59552122,  1.82642519],\n",
       "       [-0.53801923,  1.06983076],\n",
       "       [-0.27755892,  2.13144071],\n",
       "       [-0.39308748,  2.3105283 ],\n",
       "       [ 0.04466669,  2.01353561],\n",
       "       [-1.01250139,  1.17740237],\n",
       "       [-0.44970894,  2.54658535],\n",
       "       [-0.17702436,  2.47168022],\n",
       "       [-0.25805951,  1.96465541],\n",
       "       [-0.80249524,  1.36176773],\n",
       "       [-0.435022  ,  1.71476167],\n",
       "       [-0.08228009,  1.98989425],\n",
       "       [-0.78327975,  1.24006152]])"
      ]
     },
     "execution_count": 78,
     "metadata": {},
     "output_type": "execute_result"
    }
   ],
   "source": [
    "mds = manifold.MDS(n_components=2, max_iter=3000,\n",
    "                   dissimilarity=\"precomputed\", n_jobs=1)\n",
    "\n",
    "pos = mds.fit(d).embedding_\n",
    "pos"
   ]
  },
  {
   "cell_type": "markdown",
   "metadata": {},
   "source": [
    "### On représente graphiquement le résultat"
   ]
  },
  {
   "cell_type": "code",
   "execution_count": 79,
   "metadata": {},
   "outputs": [
    {
     "data": {
      "image/png": "[encoded data removed]",
      "text/plain": [
       "<Figure size 720x720 with 1 Axes>"
      ]
     },
     "metadata": {},
     "output_type": "display_data"
    }
   ],
   "source": [
    "data = pandas.DataFrame(pos)\n",
    "data.columns=(str(x) for x in data.columns) # pour ce fichu bug\n",
    "\n",
    "fig, ax = plt.subplots(figsize=(10, 10))\n",
    "\n",
    "sns.scatterplot(x='0', \n",
    "                y='1', \n",
    "                data=data,\n",
    "                legend=False,\n",
    "                hue = [0] * 50 + [1] * 50 + [2] * 50,\n",
    "                palette=current_palette[:3],\n",
    "                ax=ax)\n",
    "plt.show()"
   ]
  },
  {
   "cell_type": "markdown",
   "metadata": {},
   "source": [
    "## Méthode 4 : isomap"
   ]
  },
  {
   "cell_type": "markdown",
   "metadata": {},
   "source": [
    "On essaie non pas de conserver toutes les distances mais seulement les $k$ plus proches.\n",
    "\n",
    "https://scikit-learn.org/stable/modules/generated/sklearn.manifold.Isomap.html#sklearn.manifold.Isomap"
   ]
  },
  {
   "cell_type": "markdown",
   "metadata": {},
   "source": [
    "### On trouve 2 axes permettant de recréer la distance des 10 plus proches voisins de façon approchée"
   ]
  },
  {
   "cell_type": "code",
   "execution_count": 80,
   "metadata": {},
   "outputs": [
    {
     "name": "stderr",
     "output_type": "stream",
     "text": [
      "/opt/anaconda3/lib/python3.9/site-packages/sklearn/manifold/_isomap.py:304: UserWarning: The number of connected components of the neighbors graph is 2 > 1. Completing the graph to fit Isomap might be slow. Increase the number of neighbors to avoid this issue.\n",
      "  self._fit_transform(X)\n",
      "/opt/anaconda3/lib/python3.9/site-packages/scipy/sparse/_index.py:82: SparseEfficiencyWarning: Changing the sparsity structure of a csr_matrix is expensive. lil_matrix is more efficient.\n",
      "  self._set_intXint(row, col, x.flat[0])\n"
     ]
    },
    {
     "data": {
      "text/plain": [
       "array([[-3.14007806e+00, -1.13626428e-01],\n",
       "       [-3.36113178e+00, -1.61869662e-01],\n",
       "       [-3.57844630e+00, -1.85398046e-01],\n",
       "       [-3.47609782e+00, -1.75179610e-01],\n",
       "       [-3.20756210e+00, -1.05742298e-01],\n",
       "       [-3.49910122e+00,  1.79337999e-02],\n",
       "       [-3.39222846e+00, -1.59988199e-01],\n",
       "       [-3.02221336e+00, -1.33103474e-01],\n",
       "       [-3.74924272e+00, -1.93470341e-01],\n",
       "       [-3.31311114e+00, -1.58020624e-01],\n",
       "       [-3.31058555e+00, -4.08718659e-02],\n",
       "       [-3.10673741e+00, -1.43556437e-01],\n",
       "       [-3.47541889e+00, -1.73619317e-01],\n",
       "       [-3.96000139e+00, -2.19055472e-01],\n",
       "       [-3.84004606e+00,  7.12590261e-02],\n",
       "       [-4.01558466e+00,  1.03935202e-01],\n",
       "       [-3.52098406e+00,  1.66855665e-02],\n",
       "       [-3.04388280e+00, -1.12876965e-01],\n",
       "       [-3.49275450e+00,  6.54268051e-02],\n",
       "       [-3.28223942e+00, -6.14564391e-02],\n",
       "       [-3.04225462e+00, -4.67918274e-02],\n",
       "       [-3.14669155e+00, -6.96481022e-02],\n",
       "       [-3.67099640e+00, -1.54290833e-01],\n",
       "       [-2.64309273e+00, -1.10261900e-01],\n",
       "       [-3.08524336e+00, -1.12253547e-01],\n",
       "       [-3.40364001e+00, -1.52656485e-01],\n",
       "       [-2.83935194e+00, -1.22128822e-01],\n",
       "       [-3.05356248e+00, -1.00128974e-01],\n",
       "       [-3.07595913e+00, -1.12188651e-01],\n",
       "       [-3.31416633e+00, -1.60003229e-01],\n",
       "       [-3.38876214e+00, -1.64946940e-01],\n",
       "       [-2.99800807e+00, -5.17553219e-02],\n",
       "       [-3.62579659e+00, -1.57865731e-02],\n",
       "       [-3.75699063e+00,  4.89184094e-02],\n",
       "       [-3.29564722e+00, -1.59025873e-01],\n",
       "       [-3.27592429e+00, -1.46720822e-01],\n",
       "       [-3.30212368e+00, -4.45098455e-02],\n",
       "       [-3.27301704e+00, -1.22615789e-01],\n",
       "       [-3.75749075e+00, -1.98945126e-01],\n",
       "       [-3.00919049e+00, -1.23338361e-01],\n",
       "       [-3.17886402e+00, -1.23327966e-01],\n",
       "       [-4.11630421e+00, -2.01329930e-01],\n",
       "       [-3.69125346e+00, -1.92374991e-01],\n",
       "       [-2.88474051e+00, -7.93260946e-02],\n",
       "       [-3.13344038e+00, -2.19524725e-03],\n",
       "       [-3.48206329e+00, -1.73932544e-01],\n",
       "       [-3.36260110e+00, -6.29408491e-02],\n",
       "       [-3.52867739e+00, -1.80861944e-01],\n",
       "       [-3.25825751e+00, -5.62999555e-02],\n",
       "       [-3.06734884e+00, -1.40058616e-01],\n",
       "       [ 1.74055555e+00,  3.98834230e-02],\n",
       "       [ 1.33648110e+00,  2.15316422e-01],\n",
       "       [ 1.84926517e+00, -9.93510633e-02],\n",
       "       [ 9.15753226e-02,  3.97348271e-01],\n",
       "       [ 1.41213134e+00,  2.04295463e-02],\n",
       "       [ 7.33709371e-01,  1.06180073e-01],\n",
       "       [ 1.50167771e+00,  4.92333707e-01],\n",
       "       [-7.67968832e-01,  3.59542979e-01],\n",
       "       [ 1.35589813e+00,  7.05825061e-02],\n",
       "       [-5.85664553e-02,  2.33902473e-01],\n",
       "       [-5.69929276e-01,  5.28729204e-01],\n",
       "       [ 7.78566323e-01,  8.70871929e-02],\n",
       "       [ 3.68743795e-01, -8.88509496e-02],\n",
       "       [ 1.21036444e+00,  1.17010918e-01],\n",
       "       [-8.59049436e-02, -8.73287455e-02],\n",
       "       [ 1.36904281e+00, -3.80366248e-02],\n",
       "       [ 8.04613163e-01,  2.97330882e-01],\n",
       "       [ 3.28103397e-01,  1.83535458e-01],\n",
       "       [ 1.13440600e+00, -3.27229890e-02],\n",
       "       [ 3.51949711e-02,  2.52431966e-02],\n",
       "       [ 1.51807962e+00,  3.95213343e-01],\n",
       "       [ 5.80455816e-01,  7.38519668e-02],\n",
       "       [ 1.57289772e+00,  2.09774217e-01],\n",
       "       [ 1.16554534e+00,  2.17787156e-01],\n",
       "       [ 1.01936952e+00, -3.61566137e-02],\n",
       "       [ 1.26870167e+00, -3.42003002e-02],\n",
       "       [ 1.67216011e+00, -1.05648141e-02],\n",
       "       [ 1.94752599e+00, -1.97207876e-01],\n",
       "       [ 1.05656894e+00,  3.69280739e-02],\n",
       "       [-2.21703579e-01, -3.72042882e-02],\n",
       "       [-1.12788122e-01,  8.99078824e-02],\n",
       "       [-2.00910478e-01,  7.25526249e-02],\n",
       "       [ 2.53755096e-01,  4.64364774e-02],\n",
       "       [ 1.88090142e+00,  6.49924364e-01],\n",
       "       [ 7.65608533e-01,  5.48995947e-01],\n",
       "       [ 1.23207931e+00,  4.07183756e-01],\n",
       "       [ 1.62509529e+00, -1.64978973e-01],\n",
       "       [ 9.67374269e-01,  4.70538804e-02],\n",
       "       [ 4.18227614e-01, -9.34231129e-03],\n",
       "       [ 9.70542739e-02,  8.43435342e-02],\n",
       "       [ 4.79855707e-01,  1.99706213e-01],\n",
       "       [ 1.20369111e+00,  3.41206939e-01],\n",
       "       [ 2.71615019e-01,  9.23205222e-02],\n",
       "       [-7.41247020e-01,  2.83352335e-01],\n",
       "       [ 3.97488866e-01,  7.35419620e-02],\n",
       "       [ 5.44316626e-01,  1.53875402e-01],\n",
       "       [ 5.78578408e-01,  6.10872390e-03],\n",
       "       [ 9.22880846e-01,  7.80250732e-02],\n",
       "       [-9.86084430e-01,  3.20681321e-02],\n",
       "       [ 4.37131583e-01, -3.64803473e-03],\n",
       "       [ 3.21523811e+00,  2.92303349e-01],\n",
       "       [ 1.82863400e+00,  1.13515928e+00],\n",
       "       [ 3.13354967e+00, -5.40425756e-01],\n",
       "       [ 2.25150768e+00, -1.68716063e-01],\n",
       "       [ 2.74921494e+00, -1.39340708e-01],\n",
       "       [ 3.96064290e+00, -7.97215253e-01],\n",
       "       [ 5.30598697e-01,  1.06616673e+00],\n",
       "       [ 3.59327308e+00, -5.30312496e-01],\n",
       "       [ 2.71515912e+00, -1.96666006e-01],\n",
       "       [ 3.64892264e+00, -4.07725581e-01],\n",
       "       [ 2.15342812e+00, -1.24522702e-01],\n",
       "       [ 2.11658813e+00,  1.93413850e-02],\n",
       "       [ 2.64770649e+00, -3.54596271e-01],\n",
       "       [ 1.60970495e+00,  8.94965096e-01],\n",
       "       [ 2.03849197e+00,  8.67050374e-01],\n",
       "       [ 2.50490296e+00,  1.10839492e-01],\n",
       "       [ 2.50200136e+00, -5.53530941e-02],\n",
       "       [ 4.37790147e+00, -8.56675724e-01],\n",
       "       [ 4.32853306e+00, -8.63415683e-01],\n",
       "       [ 1.59876387e+00,  6.10716615e-01],\n",
       "       [ 2.99379439e+00, -3.49197468e-01],\n",
       "       [ 1.53564680e+00,  8.98511030e-01],\n",
       "       [ 4.12152722e+00, -7.64233383e-01],\n",
       "       [ 1.71039845e+00, -5.27033718e-02],\n",
       "       [ 3.01397792e+00, -9.19690177e-02],\n",
       "       [ 3.35715985e+00, -5.60281950e-01],\n",
       "       [ 1.53680991e+00,  1.52963288e-02],\n",
       "       [ 1.62243179e+00,  1.16105003e-01],\n",
       "       [ 2.47873407e+00, -2.79252841e-02],\n",
       "       [ 3.27805851e+00, -3.57298901e-01],\n",
       "       [ 3.54493352e+00, -4.98447945e-01],\n",
       "       [ 4.32815738e+00, -8.78765216e-01],\n",
       "       [ 2.53548729e+00,  5.75445839e-03],\n",
       "       [ 1.66692713e+00,  1.09198958e-01],\n",
       "       [ 2.19312335e+00,  3.87312832e-01],\n",
       "       [ 3.76926449e+00, -7.19608076e-01],\n",
       "       [ 2.86757423e+00,  1.98523477e-01],\n",
       "       [ 2.49676093e+00, -2.37695322e-02],\n",
       "       [ 1.47953239e+00,  1.39200772e-01],\n",
       "       [ 2.66863345e+00, -2.97929228e-01],\n",
       "       [ 2.96102778e+00, -4.41723177e-02],\n",
       "       [ 2.58595397e+00, -1.32858018e-01],\n",
       "       [ 1.82863400e+00,  1.13515928e+00],\n",
       "       [ 3.12197292e+00, -2.57634609e-01],\n",
       "       [ 3.04973740e+00, -4.35281976e-02],\n",
       "       [ 2.55196934e+00, -8.51944676e-02],\n",
       "       [ 1.87428597e+00,  2.49777934e-01],\n",
       "       [ 2.21716799e+00, -2.25563225e-01],\n",
       "       [ 2.65747701e+00,  2.20560275e-01],\n",
       "       [ 1.71480100e+00,  6.93403213e-01]])"
      ]
     },
     "execution_count": 80,
     "metadata": {},
     "output_type": "execute_result"
    }
   ],
   "source": [
    "mds = manifold.Isomap(n_neighbors=10,\n",
    "                      n_components=2, max_iter=3000,                      \n",
    "                      metric=\"precomputed\")\n",
    "\n",
    "pos = mds.fit(d).embedding_\n",
    "pos"
   ]
  },
  {
   "cell_type": "markdown",
   "metadata": {},
   "source": [
    "### On représente graphiquement le résultat\n"
   ]
  },
  {
   "cell_type": "code",
   "execution_count": 81,
   "metadata": {},
   "outputs": [
    {
     "data": {
      "image/png": "[encoded data removed]",
      "text/plain": [
       "<Figure size 720x720 with 1 Axes>"
      ]
     },
     "metadata": {},
     "output_type": "display_data"
    }
   ],
   "source": [
    "data = pandas.DataFrame(pos)\n",
    "data.columns = (str(x) for x in data.columns) # pour ce fichu bug\n",
    "\n",
    "fig, ax = plt.subplots(figsize=(10, 10))\n",
    "\n",
    "sns.scatterplot(x='0', \n",
    "                y='1', \n",
    "                data=data,\n",
    "                legend=False,\n",
    "                hue = [0] * 50 + [1] * 50 + [2] * 50,\n",
    "                palette=current_palette[:3],\n",
    "                ax=ax)\n",
    "plt.show()"
   ]
  },
  {
   "cell_type": "code",
   "execution_count": null,
   "metadata": {},
   "outputs": [],
   "source": []
  }
 ],
 "metadata": {
  "kernelspec": {
   "display_name": "Python 3 (ipykernel)",
   "language": "python",
   "name": "python3"
  },
  "language_info": {
   "codemirror_mode": {
    "name": "ipython",
    "version": 3
   },
   "file_extension": ".py",
   "mimetype": "text/x-python",
   "name": "python",
   "nbconvert_exporter": "python",
   "pygments_lexer": "ipython3",
   "version": "3.9.12"
  },
  "vscode": {
   "interpreter": {
    "hash": "40d3a090f54c6569ab1632332b64b2c03c39dcf918b08424e98f38b5ae0af88f"
   }
  }
 },
 "nbformat": 4,
 "nbformat_minor": 2
}
