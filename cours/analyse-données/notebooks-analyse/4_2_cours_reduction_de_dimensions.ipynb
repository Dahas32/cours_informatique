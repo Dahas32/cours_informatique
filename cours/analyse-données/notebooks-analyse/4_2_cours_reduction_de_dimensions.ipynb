{
 "cells": [
  {
   "cell_type": "markdown",
   "metadata": {},
   "source": [
    "# Multi Dimensional Scaling (MDS)"
   ]
  },
  {
   "cell_type": "markdown",
   "metadata": {},
   "source": [
    "Les méthodes de MDS consitent à projeter des données dans un espace de dimension réduite tout en conservant au mieux\n",
    "une distance entre les données.\n",
    "\n",
    "De nombreuses méthodes existent (voir par exemple http://en.wikipedia.org/wiki/Multidimensional_scaling, ou http://scikit-learn.org/stable/_downloads/plot_lle_digits.py) nous n'en présenterons ici que quelques une."
   ]
  },
  {
   "cell_type": "markdown",
   "metadata": {},
   "source": [
    "L'intérêt de ces méthodes est (au moins) double :\n",
    "* il permet de représenter dansun espace de petite dimenstion des données a priri décrites dansun grand nombre de dimension\n",
    "* il permet d'associer des axes à des données uniqueent décrite par une distance. Ceci permet de faire ensite une ACP dessus pour interpréter les données, faire des régressions, ou utiliser des algorithmes uniquement prévu pour le cas euclidien (comme les $k$-means par exemple)."
   ]
  },
  {
   "attachments": {},
   "cell_type": "markdown",
   "metadata": {},
   "source": [
    "## Données iris"
   ]
  },
  {
   "cell_type": "code",
   "execution_count": 29,
   "metadata": {},
   "outputs": [
    {
     "data": {
      "text/html": [
       "<div>\n",
       "<style scoped>\n",
       "    .dataframe tbody tr th:only-of-type {\n",
       "        vertical-align: middle;\n",
       "    }\n",
       "\n",
       "    .dataframe tbody tr th {\n",
       "        vertical-align: top;\n",
       "    }\n",
       "\n",
       "    .dataframe thead th {\n",
       "        text-align: right;\n",
       "    }\n",
       "</style>\n",
       "<table border=\"1\" class=\"dataframe\">\n",
       "  <thead>\n",
       "    <tr style=\"text-align: right;\">\n",
       "      <th></th>\n",
       "      <th>sepal_length</th>\n",
       "      <th>sepal_width</th>\n",
       "      <th>petal_length</th>\n",
       "      <th>petal_width</th>\n",
       "    </tr>\n",
       "  </thead>\n",
       "  <tbody>\n",
       "    <tr>\n",
       "      <th>0</th>\n",
       "      <td>5.1</td>\n",
       "      <td>3.5</td>\n",
       "      <td>1.4</td>\n",
       "      <td>0.2</td>\n",
       "    </tr>\n",
       "    <tr>\n",
       "      <th>1</th>\n",
       "      <td>4.9</td>\n",
       "      <td>3.0</td>\n",
       "      <td>1.4</td>\n",
       "      <td>0.2</td>\n",
       "    </tr>\n",
       "    <tr>\n",
       "      <th>2</th>\n",
       "      <td>4.7</td>\n",
       "      <td>3.2</td>\n",
       "      <td>1.3</td>\n",
       "      <td>0.2</td>\n",
       "    </tr>\n",
       "    <tr>\n",
       "      <th>3</th>\n",
       "      <td>4.6</td>\n",
       "      <td>3.1</td>\n",
       "      <td>1.5</td>\n",
       "      <td>0.2</td>\n",
       "    </tr>\n",
       "    <tr>\n",
       "      <th>4</th>\n",
       "      <td>5.0</td>\n",
       "      <td>3.6</td>\n",
       "      <td>1.4</td>\n",
       "      <td>0.2</td>\n",
       "    </tr>\n",
       "    <tr>\n",
       "      <th>...</th>\n",
       "      <td>...</td>\n",
       "      <td>...</td>\n",
       "      <td>...</td>\n",
       "      <td>...</td>\n",
       "    </tr>\n",
       "    <tr>\n",
       "      <th>145</th>\n",
       "      <td>6.7</td>\n",
       "      <td>3.0</td>\n",
       "      <td>5.2</td>\n",
       "      <td>2.3</td>\n",
       "    </tr>\n",
       "    <tr>\n",
       "      <th>146</th>\n",
       "      <td>6.3</td>\n",
       "      <td>2.5</td>\n",
       "      <td>5.0</td>\n",
       "      <td>1.9</td>\n",
       "    </tr>\n",
       "    <tr>\n",
       "      <th>147</th>\n",
       "      <td>6.5</td>\n",
       "      <td>3.0</td>\n",
       "      <td>5.2</td>\n",
       "      <td>2.0</td>\n",
       "    </tr>\n",
       "    <tr>\n",
       "      <th>148</th>\n",
       "      <td>6.2</td>\n",
       "      <td>3.4</td>\n",
       "      <td>5.4</td>\n",
       "      <td>2.3</td>\n",
       "    </tr>\n",
       "    <tr>\n",
       "      <th>149</th>\n",
       "      <td>5.9</td>\n",
       "      <td>3.0</td>\n",
       "      <td>5.1</td>\n",
       "      <td>1.8</td>\n",
       "    </tr>\n",
       "  </tbody>\n",
       "</table>\n",
       "<p>150 rows × 4 columns</p>\n",
       "</div>"
      ],
      "text/plain": [
       "     sepal_length  sepal_width  petal_length  petal_width\n",
       "0             5.1          3.5           1.4          0.2\n",
       "1             4.9          3.0           1.4          0.2\n",
       "2             4.7          3.2           1.3          0.2\n",
       "3             4.6          3.1           1.5          0.2\n",
       "4             5.0          3.6           1.4          0.2\n",
       "..            ...          ...           ...          ...\n",
       "145           6.7          3.0           5.2          2.3\n",
       "146           6.3          2.5           5.0          1.9\n",
       "147           6.5          3.0           5.2          2.0\n",
       "148           6.2          3.4           5.4          2.3\n",
       "149           5.9          3.0           5.1          1.8\n",
       "\n",
       "[150 rows x 4 columns]"
      ]
     },
     "execution_count": 29,
     "metadata": {},
     "output_type": "execute_result"
    }
   ],
   "source": [
    "import seaborn as sns\n",
    "\n",
    "iris = sns.load_dataset('iris').drop(columns=\"species\")\n",
    "iris"
   ]
  },
  {
   "cell_type": "markdown",
   "metadata": {},
   "source": [
    "On a toujours 3 espèces que l'on représentera en 3 clouleurs différentes. Les 50 premières sont de l'espèce *setosa*, les 50 suivantes de l'espèce *versicolor* et les 50 dernière de l'espèce *virginica*\n",
    "\n",
    "**Attention** : ces 3 espèces sont des *meta* données : ce sont les botanistes qui ont répartis les iris en espèces, ce n'est pas inhérent aux données."
   ]
  },
  {
   "cell_type": "markdown",
   "metadata": {},
   "source": [
    "## Méthode 1 : les 2 premiers axes de l'ACP"
   ]
  },
  {
   "cell_type": "markdown",
   "metadata": {},
   "source": [
    "Permet de garder les axes qui ont le maximum d'information, c'est à dire ceux sur lesquels les points se projettent bien. \n",
    "\n",
    "Dans ce cas là, on ne centre **PAS** et on ne réduit **PAS** les données. On est dans un cas où seule l'inertie nous importe, pas l'interprétation des axes."
   ]
  },
  {
   "cell_type": "markdown",
   "metadata": {},
   "source": [
    "### ACP de données non centrée/réduite"
   ]
  },
  {
   "cell_type": "code",
   "execution_count": 30,
   "metadata": {},
   "outputs": [],
   "source": [
    "from sklearn.decomposition import PCA \n",
    "import numpy as np\n",
    "import pandas"
   ]
  },
  {
   "cell_type": "code",
   "execution_count": 31,
   "metadata": {},
   "outputs": [],
   "source": [
    "X = iris\n",
    "\n",
    "pca = PCA()\n",
    "pca.fit(X)\n",
    "\n",
    "U = np.transpose(pca.components_) # vecteurs propres\n",
    "I = pandas.DataFrame(np.transpose(pca.explained_variance_ratio_), columns=[\"pourcentage\"])  # information véhiculée\n",
    "\n",
    "C = pandas.DataFrame(X @ U, index=X.index) # nouvelles coordonnées"
   ]
  },
  {
   "cell_type": "markdown",
   "metadata": {},
   "source": [
    "### On projette nos données sur les 2 premiers axes"
   ]
  },
  {
   "cell_type": "code",
   "execution_count": 32,
   "metadata": {},
   "outputs": [
    {
     "data": {
      "text/html": [
       "<div>\n",
       "<style scoped>\n",
       "    .dataframe tbody tr th:only-of-type {\n",
       "        vertical-align: middle;\n",
       "    }\n",
       "\n",
       "    .dataframe tbody tr th {\n",
       "        vertical-align: top;\n",
       "    }\n",
       "\n",
       "    .dataframe thead th {\n",
       "        text-align: right;\n",
       "    }\n",
       "</style>\n",
       "<table border=\"1\" class=\"dataframe\">\n",
       "  <thead>\n",
       "    <tr style=\"text-align: right;\">\n",
       "      <th></th>\n",
       "      <th>0</th>\n",
       "      <th>1</th>\n",
       "    </tr>\n",
       "  </thead>\n",
       "  <tbody>\n",
       "    <tr>\n",
       "      <th>0</th>\n",
       "      <td>2.818240</td>\n",
       "      <td>5.646350</td>\n",
       "    </tr>\n",
       "    <tr>\n",
       "      <th>1</th>\n",
       "      <td>2.788223</td>\n",
       "      <td>5.149951</td>\n",
       "    </tr>\n",
       "    <tr>\n",
       "      <th>2</th>\n",
       "      <td>2.613375</td>\n",
       "      <td>5.182003</td>\n",
       "    </tr>\n",
       "    <tr>\n",
       "      <th>3</th>\n",
       "      <td>2.757022</td>\n",
       "      <td>5.008654</td>\n",
       "    </tr>\n",
       "    <tr>\n",
       "      <th>4</th>\n",
       "      <td>2.773649</td>\n",
       "      <td>5.653707</td>\n",
       "    </tr>\n",
       "    <tr>\n",
       "      <th>...</th>\n",
       "      <td>...</td>\n",
       "      <td>...</td>\n",
       "    </tr>\n",
       "    <tr>\n",
       "      <th>145</th>\n",
       "      <td>7.446475</td>\n",
       "      <td>5.514485</td>\n",
       "    </tr>\n",
       "    <tr>\n",
       "      <th>146</th>\n",
       "      <td>7.029532</td>\n",
       "      <td>4.951636</td>\n",
       "    </tr>\n",
       "    <tr>\n",
       "      <th>147</th>\n",
       "      <td>7.266711</td>\n",
       "      <td>5.405811</td>\n",
       "    </tr>\n",
       "    <tr>\n",
       "      <th>148</th>\n",
       "      <td>7.403307</td>\n",
       "      <td>5.443581</td>\n",
       "    </tr>\n",
       "    <tr>\n",
       "      <th>149</th>\n",
       "      <td>6.892554</td>\n",
       "      <td>5.044292</td>\n",
       "    </tr>\n",
       "  </tbody>\n",
       "</table>\n",
       "<p>150 rows × 2 columns</p>\n",
       "</div>"
      ],
      "text/plain": [
       "            0         1\n",
       "0    2.818240  5.646350\n",
       "1    2.788223  5.149951\n",
       "2    2.613375  5.182003\n",
       "3    2.757022  5.008654\n",
       "4    2.773649  5.653707\n",
       "..        ...       ...\n",
       "145  7.446475  5.514485\n",
       "146  7.029532  4.951636\n",
       "147  7.266711  5.405811\n",
       "148  7.403307  5.443581\n",
       "149  6.892554  5.044292\n",
       "\n",
       "[150 rows x 2 columns]"
      ]
     },
     "execution_count": 32,
     "metadata": {},
     "output_type": "execute_result"
    }
   ],
   "source": [
    "data = C.iloc[:, [0, 1]]\n",
    "\n",
    "data"
   ]
  },
  {
   "cell_type": "code",
   "execution_count": 33,
   "metadata": {},
   "outputs": [
    {
     "data": {
      "text/plain": [
       "0    float64\n",
       "1    float64\n",
       "dtype: object"
      ]
     },
     "execution_count": 33,
     "metadata": {},
     "output_type": "execute_result"
    }
   ],
   "source": [
    "data.dtypes"
   ]
  },
  {
   "cell_type": "markdown",
   "metadata": {},
   "source": [
    "### On représente graphiquement le résultat"
   ]
  },
  {
   "cell_type": "markdown",
   "metadata": {},
   "source": [
    "**bug** : avec la version actuelle de seaborn, les noms de colonnes doivent être des `str` (sinon la designation d'une colonne comme axe (dans le sns.scatterplot ne fonctionne pas).\n",
    "\n",
    "On renomme donc les colonnes par des `str`."
   ]
  },
  {
   "cell_type": "code",
   "execution_count": 34,
   "metadata": {},
   "outputs": [
    {
     "data": {
      "text/plain": [
       "array([0, 1])"
      ]
     },
     "execution_count": 34,
     "metadata": {},
     "output_type": "execute_result"
    }
   ],
   "source": [
    "data.columns.values"
   ]
  },
  {
   "cell_type": "code",
   "execution_count": 35,
   "metadata": {},
   "outputs": [],
   "source": [
    "data.columns = (str(x) for x in data.columns)"
   ]
  },
  {
   "cell_type": "code",
   "execution_count": 36,
   "metadata": {},
   "outputs": [
    {
     "data": {
      "text/plain": [
       "array(['0', '1'], dtype=object)"
      ]
     },
     "execution_count": 36,
     "metadata": {},
     "output_type": "execute_result"
    }
   ],
   "source": [
    "data.columns.values"
   ]
  },
  {
   "cell_type": "code",
   "execution_count": 37,
   "metadata": {},
   "outputs": [],
   "source": [
    "import matplotlib.pyplot as plt\n",
    "import seaborn as sns\n",
    "\n",
    "sns.set()\n",
    "\n",
    "current_palette = sns.color_palette()"
   ]
  },
  {
   "cell_type": "code",
   "execution_count": 38,
   "metadata": {},
   "outputs": [
    {
     "data": {
      "image/png": "[encoded data removed]",
      "text/plain": [
       "<Figure size 720x720 with 1 Axes>"
      ]
     },
     "metadata": {},
     "output_type": "display_data"
    }
   ],
   "source": [
    "fig, ax = plt.subplots(figsize=(10, 10))\n",
    "\n",
    "sns.scatterplot(x='0', \n",
    "                y='1', \n",
    "                data=data,\n",
    "                legend=False,\n",
    "                hue = [0] * 50 + [1] * 50 + [2] * 50,\n",
    "                palette=current_palette[:3],\n",
    "                ax=ax)\n",
    "\n",
    "\n",
    "plt.show()"
   ]
  },
  {
   "cell_type": "markdown",
   "metadata": {},
   "source": [
    "## Méthode 2 : le hasard"
   ]
  },
  {
   "cell_type": "markdown",
   "metadata": {},
   "source": [
    "Cela peut sembler idiot, mais sur des données de grandes dimensions c'est (prouvé) assez efficace."
   ]
  },
  {
   "cell_type": "markdown",
   "metadata": {},
   "source": [
    "On utilise un module de sklearn https://scikit-learn.org/stable/modules/random_projection.html"
   ]
  },
  {
   "cell_type": "markdown",
   "metadata": {},
   "source": [
    "### On choisi ici 2 nouveaux axes aléatoires"
   ]
  },
  {
   "cell_type": "code",
   "execution_count": 39,
   "metadata": {},
   "outputs": [],
   "source": [
    "from sklearn import random_projection\n",
    "\n",
    "rp = random_projection.SparseRandomProjection(n_components=2, random_state=42)"
   ]
  },
  {
   "cell_type": "markdown",
   "metadata": {},
   "source": [
    "### On projette nos données dessus"
   ]
  },
  {
   "cell_type": "code",
   "execution_count": 40,
   "metadata": {},
   "outputs": [
    {
     "data": {
      "text/html": [
       "<div>\n",
       "<style scoped>\n",
       "    .dataframe tbody tr th:only-of-type {\n",
       "        vertical-align: middle;\n",
       "    }\n",
       "\n",
       "    .dataframe tbody tr th {\n",
       "        vertical-align: top;\n",
       "    }\n",
       "\n",
       "    .dataframe thead th {\n",
       "        text-align: right;\n",
       "    }\n",
       "</style>\n",
       "<table border=\"1\" class=\"dataframe\">\n",
       "  <thead>\n",
       "    <tr style=\"text-align: right;\">\n",
       "      <th></th>\n",
       "      <th>0</th>\n",
       "      <th>1</th>\n",
       "    </tr>\n",
       "  </thead>\n",
       "  <tbody>\n",
       "    <tr>\n",
       "      <th>0</th>\n",
       "      <td>-3.7</td>\n",
       "      <td>5.1</td>\n",
       "    </tr>\n",
       "    <tr>\n",
       "      <th>1</th>\n",
       "      <td>-3.2</td>\n",
       "      <td>4.6</td>\n",
       "    </tr>\n",
       "    <tr>\n",
       "      <th>2</th>\n",
       "      <td>-3.4</td>\n",
       "      <td>4.7</td>\n",
       "    </tr>\n",
       "    <tr>\n",
       "      <th>3</th>\n",
       "      <td>-3.3</td>\n",
       "      <td>4.8</td>\n",
       "    </tr>\n",
       "    <tr>\n",
       "      <th>4</th>\n",
       "      <td>-3.8</td>\n",
       "      <td>5.2</td>\n",
       "    </tr>\n",
       "    <tr>\n",
       "      <th>...</th>\n",
       "      <td>...</td>\n",
       "      <td>...</td>\n",
       "    </tr>\n",
       "    <tr>\n",
       "      <th>145</th>\n",
       "      <td>-5.3</td>\n",
       "      <td>10.5</td>\n",
       "    </tr>\n",
       "    <tr>\n",
       "      <th>146</th>\n",
       "      <td>-4.4</td>\n",
       "      <td>9.4</td>\n",
       "    </tr>\n",
       "    <tr>\n",
       "      <th>147</th>\n",
       "      <td>-5.0</td>\n",
       "      <td>10.2</td>\n",
       "    </tr>\n",
       "    <tr>\n",
       "      <th>148</th>\n",
       "      <td>-5.7</td>\n",
       "      <td>11.1</td>\n",
       "    </tr>\n",
       "    <tr>\n",
       "      <th>149</th>\n",
       "      <td>-4.8</td>\n",
       "      <td>9.9</td>\n",
       "    </tr>\n",
       "  </tbody>\n",
       "</table>\n",
       "<p>150 rows × 2 columns</p>\n",
       "</div>"
      ],
      "text/plain": [
       "       0     1\n",
       "0   -3.7   5.1\n",
       "1   -3.2   4.6\n",
       "2   -3.4   4.7\n",
       "3   -3.3   4.8\n",
       "4   -3.8   5.2\n",
       "..   ...   ...\n",
       "145 -5.3  10.5\n",
       "146 -4.4   9.4\n",
       "147 -5.0  10.2\n",
       "148 -5.7  11.1\n",
       "149 -4.8   9.9\n",
       "\n",
       "[150 rows x 2 columns]"
      ]
     },
     "execution_count": 40,
     "metadata": {},
     "output_type": "execute_result"
    }
   ],
   "source": [
    "iris_random = rp.fit_transform(iris)\n",
    "\n",
    "\n",
    "iris_random = pd.DataFrame(iris_random)\n",
    "\n",
    "iris_random"
   ]
  },
  {
   "cell_type": "markdown",
   "metadata": {},
   "source": [
    "### On représente graphiquement le résultat"
   ]
  },
  {
   "cell_type": "code",
   "execution_count": 41,
   "metadata": {},
   "outputs": [],
   "source": [
    "data = iris_random\n",
    "\n",
    "data.columns = (str(x) for x in data.columns) # pour ce fichu bug"
   ]
  },
  {
   "cell_type": "code",
   "execution_count": 42,
   "metadata": {},
   "outputs": [
    {
     "data": {
      "image/png": "[encoded data removed]",
      "text/plain": [
       "<Figure size 720x720 with 1 Axes>"
      ]
     },
     "metadata": {},
     "output_type": "display_data"
    }
   ],
   "source": [
    "data = iris_random\n",
    "\n",
    "fig, ax = plt.subplots(figsize=(10, 10))\n",
    "\n",
    "sns.scatterplot(x=\"0\", \n",
    "                y=\"1\", \n",
    "                data=data,\n",
    "                legend=False,\n",
    "                hue = [0] * 50 + [1] * 50 + [2] * 50,\n",
    "                palette=current_palette[:3],\n",
    "                ax=ax)\n",
    "plt.show()"
   ]
  },
  {
   "cell_type": "markdown",
   "metadata": {},
   "source": [
    "## Méthode 3 : le MDS classique"
   ]
  },
  {
   "cell_type": "markdown",
   "metadata": {},
   "source": [
    "Nos données sont ici décrites par une distance (pas forcément euclidienne) et on veut trouver $k$ axes telle que cette distance corresponde à la distance euclienne de points sur ces $k$ axes. \n",
    "\n",
    "voir : https://fr.wikipedia.org/wiki/Positionnement_multidimensionnel\n"
   ]
  },
  {
   "cell_type": "markdown",
   "metadata": {},
   "source": [
    "Ici nos iris sont décritent dans un espace à 4 dimensions. \n",
    "\n",
    "On va commencer par déterminer une distance entre nos iris. Nous allons utiliser la distance euclidienne mais il y en a plein d'autres de possible : \n",
    "\n",
    "https://scikit-learn.org/stable/modules/classes.html#sklearn-metrics-metrics\n",
    "\n",
    "voir aussi https://towardsdatascience.com/3-basic-distance-measurement-in-text-mining-5852becff1d7 pour les 3 distances les plus utilisées (la dernière va vous surprendre)\n"
   ]
  },
  {
   "attachments": {},
   "cell_type": "markdown",
   "metadata": {},
   "source": [
    "### Distance euclidienne entre nos données"
   ]
  },
  {
   "cell_type": "code",
   "execution_count": 43,
   "metadata": {},
   "outputs": [
    {
     "data": {
      "text/plain": [
       "array([[0.        , 0.53851648, 0.50990195, ..., 4.45982062, 4.65080638,\n",
       "        4.14004831],\n",
       "       [0.53851648, 0.        , 0.3       , ..., 4.49888875, 4.71805044,\n",
       "        4.15331193],\n",
       "       [0.50990195, 0.3       , 0.        , ..., 4.66154481, 4.84871117,\n",
       "        4.29883705],\n",
       "       ...,\n",
       "       [4.45982062, 4.49888875, 4.66154481, ..., 0.        , 0.6164414 ,\n",
       "        0.64031242],\n",
       "       [4.65080638, 4.71805044, 4.84871117, ..., 0.6164414 , 0.        ,\n",
       "        0.76811457],\n",
       "       [4.14004831, 4.15331193, 4.29883705, ..., 0.64031242, 0.76811457,\n",
       "        0.        ]])"
      ]
     },
     "execution_count": 43,
     "metadata": {},
     "output_type": "execute_result"
    }
   ],
   "source": [
    "from sklearn.metrics import euclidean_distances\n",
    "\n",
    "d = euclidean_distances(iris)\n",
    "\n",
    "d"
   ]
  },
  {
   "cell_type": "code",
   "execution_count": 44,
   "metadata": {},
   "outputs": [
    {
     "data": {
      "text/plain": [
       "0.7681145747868631"
      ]
     },
     "execution_count": 44,
     "metadata": {},
     "output_type": "execute_result"
    }
   ],
   "source": [
    "# c'est une liste de liste. Par exemple distance entre l'élément 0 et l'élément 42\n",
    "d[0][42]"
   ]
  },
  {
   "cell_type": "code",
   "execution_count": 45,
   "metadata": {},
   "outputs": [
    {
     "data": {
      "text/plain": [
       "0.7681145747868631"
      ]
     },
     "execution_count": 45,
     "metadata": {},
     "output_type": "execute_result"
    }
   ],
   "source": [
    "# ou au format numpy\n",
    "\n",
    "d[0, 42]"
   ]
  },
  {
   "cell_type": "markdown",
   "metadata": {},
   "source": [
    "On cherche ensuite 2 dimensions pour les quelles cette distance serait bien conservée\n",
    "\n",
    "https://scikit-learn.org/stable/modules/generated/sklearn.manifold.MDS.html#sklearn.manifold.MDS"
   ]
  },
  {
   "cell_type": "markdown",
   "metadata": {},
   "source": [
    "### On trouve 2 axes permettant de recréer la distance de façon approchée"
   ]
  },
  {
   "cell_type": "code",
   "execution_count": 46,
   "metadata": {},
   "outputs": [],
   "source": [
    "from sklearn import manifold"
   ]
  },
  {
   "cell_type": "code",
   "execution_count": 47,
   "metadata": {},
   "outputs": [
    {
     "data": {
      "text/plain": [
       "array([[ 0.84631163, -2.57728459],\n",
       "       [ 1.34838056, -2.37622019],\n",
       "       [ 1.35435765, -2.56985463],\n",
       "       [ 1.47176229, -2.35081568],\n",
       "       [ 0.84316782, -2.63297754],\n",
       "       [ 0.25771762, -2.39603211],\n",
       "       [ 1.27416648, -2.5559743 ],\n",
       "       [ 0.96430544, -2.45679906],\n",
       "       [ 1.75118555, -2.37633703],\n",
       "       [ 1.25740242, -2.37159331],\n",
       "       [ 0.45317901, -2.55555591],\n",
       "       [ 1.09012686, -2.38407789],\n",
       "       [ 1.42914799, -2.4169861 ],\n",
       "       [ 1.8289314 , -2.71592212],\n",
       "       [ 0.00360964, -2.91749841],\n",
       "       [-0.25374433, -2.74655381],\n",
       "       [ 0.33718261, -2.74435432],\n",
       "       [ 0.82978637, -2.54537354],\n",
       "       [ 0.1072458 , -2.37142286],\n",
       "       [ 0.59760894, -2.59216262],\n",
       "       [ 0.60333127, -2.26086329],\n",
       "       [ 0.65169786, -2.51276161],\n",
       "       [ 1.22807328, -3.0124883 ],\n",
       "       [ 0.8746584 , -2.13316836],\n",
       "       [ 1.07031504, -2.09709482],\n",
       "       [ 1.24534638, -2.18702359],\n",
       "       [ 0.91692898, -2.30116564],\n",
       "       [ 0.7543899 , -2.48401025],\n",
       "       [ 0.84051467, -2.53077742],\n",
       "       [ 1.30405445, -2.30097125],\n",
       "       [ 1.29104217, -2.25660685],\n",
       "       [ 0.61563786, -2.36793981],\n",
       "       [ 0.29786884, -2.79472458],\n",
       "       [ 0.07667762, -2.83312939],\n",
       "       [ 1.23784669, -2.33856962],\n",
       "       [ 1.15890141, -2.64917077],\n",
       "       [ 0.50476626, -2.68165934],\n",
       "       [ 0.92558107, -2.68460433],\n",
       "       [ 1.71113712, -2.50209319],\n",
       "       [ 0.89306959, -2.45024651],\n",
       "       [ 0.92796112, -2.63904204],\n",
       "       [ 2.15702663, -2.14814659],\n",
       "       [ 1.59794025, -2.58708471],\n",
       "       [ 0.81759073, -2.26812169],\n",
       "       [ 0.44183398, -2.21615103],\n",
       "       [ 1.40795329, -2.34472571],\n",
       "       [ 0.57067598, -2.54222906],\n",
       "       [ 1.41339439, -2.49290131],\n",
       "       [ 0.53153319, -2.56178318],\n",
       "       [ 1.05004994, -2.5036853 ],\n",
       "       [-1.26916585,  0.8130857 ],\n",
       "       [-0.69382307,  0.70729184],\n",
       "       [-1.17552319,  1.05101371],\n",
       "       [ 0.67573772,  0.48045829],\n",
       "       [-0.65205697,  0.87629422],\n",
       "       [ 0.09748597,  0.73005531],\n",
       "       [-0.70381801,  0.90126507],\n",
       "       [ 1.2183355 , -0.27742545],\n",
       "       [-0.81687073,  0.74606264],\n",
       "       [ 0.73649189,  0.32053615],\n",
       "       [ 1.3434106 ,  0.02512041],\n",
       "       [-0.13349053,  0.50109188],\n",
       "       [-0.16564196,  0.0927768 ],\n",
       "       [-0.33853013,  0.91151595],\n",
       "       [ 0.26091235, -0.09159341],\n",
       "       [-0.91328537,  0.58765289],\n",
       "       [ 0.13183289,  0.78994537],\n",
       "       [ 0.10700024,  0.26644713],\n",
       "       [ 0.26332725,  1.13393105],\n",
       "       [ 0.4796807 ,  0.23733656],\n",
       "       [-0.21253681,  1.16606099],\n",
       "       [-0.19299117,  0.28485514],\n",
       "       [-0.31191126,  1.26467773],\n",
       "       [-0.29283207,  0.84626825],\n",
       "       [-0.55582538,  0.50425672],\n",
       "       [-0.79242633,  0.60833071],\n",
       "       [-1.02821697,  0.95560548],\n",
       "       [-0.95872303,  1.25985367],\n",
       "       [-0.20860255,  0.7900265 ],\n",
       "       [ 0.42110981, -0.17336969],\n",
       "       [ 0.64552167,  0.18851666],\n",
       "       [ 0.68620981,  0.07340503],\n",
       "       [ 0.17441354,  0.20146442],\n",
       "       [-0.1924365 ,  1.41560245],\n",
       "       [ 0.39502808,  0.83959557],\n",
       "       [-0.54122554,  0.63666357],\n",
       "       [-0.95044478,  0.89578993],\n",
       "       [ 0.1731711 ,  0.95787016],\n",
       "       [ 0.15271959,  0.33621893],\n",
       "       [ 0.52674271,  0.4009395 ],\n",
       "       [ 0.43403994,  0.68386601],\n",
       "       [-0.36305146,  0.80348407],\n",
       "       [ 0.23514447,  0.32537311],\n",
       "       [ 1.20617564, -0.23371219],\n",
       "       [ 0.29008637,  0.50920222],\n",
       "       [ 0.04158364,  0.37680021],\n",
       "       [ 0.10123595,  0.45542505],\n",
       "       [-0.35612999,  0.52554935],\n",
       "       [ 1.07507688, -0.52018087],\n",
       "       [ 0.17604547,  0.40072266],\n",
       "       [-0.66911475,  2.59964743],\n",
       "       [-0.01490553,  1.55910948],\n",
       "       [-1.47279213,  2.19964764],\n",
       "       [-0.60888733,  1.89465561],\n",
       "       [-0.85677041,  2.22106284],\n",
       "       [-2.03036054,  2.81912235],\n",
       "       [ 1.00210655,  1.03218912],\n",
       "       [-1.84741937,  2.35817964],\n",
       "       [-1.24483735,  1.95737299],\n",
       "       [-1.54065837,  2.68560986],\n",
       "       [-0.88431836,  1.45966268],\n",
       "       [-0.59789373,  1.69273852],\n",
       "       [-1.10963342,  1.87925315],\n",
       "       [ 0.20808934,  1.58554146],\n",
       "       [ 0.10723231,  1.86344208],\n",
       "       [-0.7337618 ,  1.8618069 ],\n",
       "       [-0.86069685,  1.7498592 ],\n",
       "       [-2.59161076,  2.65093347],\n",
       "       [-1.88720249,  3.36922181],\n",
       "       [ 0.25221579,  1.50627078],\n",
       "       [-1.2304131 ,  2.16924705],\n",
       "       [ 0.20314029,  1.44039788],\n",
       "       [-2.10394099,  2.92069875],\n",
       "       [-0.46617776,  1.31050508],\n",
       "       [-1.11282569,  2.0578885 ],\n",
       "       [-1.73222786,  2.06187207],\n",
       "       [-0.41290972,  1.19406165],\n",
       "       [-0.40863139,  1.2487614 ],\n",
       "       [-0.69183773,  2.02558912],\n",
       "       [-1.69346508,  1.80731461],\n",
       "       [-1.81858675,  2.26989767],\n",
       "       [-2.65171871,  2.32984971],\n",
       "       [-0.68145289,  2.08007024],\n",
       "       [-0.57289313,  1.30626527],\n",
       "       [-0.10891122,  1.93433044],\n",
       "       [-2.04498415,  2.45356668],\n",
       "       [-0.57170201,  2.26321744],\n",
       "       [-0.7999212 ,  1.74749587],\n",
       "       [-0.2873387 ,  1.16925593],\n",
       "       [-1.23181183,  1.76212012],\n",
       "       [-0.99815879,  2.16161397],\n",
       "       [-1.30251831,  1.53857163],\n",
       "       [-0.01490553,  1.55910948],\n",
       "       [-1.17374677,  2.33804721],\n",
       "       [-0.99158836,  2.34125978],\n",
       "       [-1.05938461,  1.68664848],\n",
       "       [-0.33970313,  1.52862101],\n",
       "       [-0.80805513,  1.58191679],\n",
       "       [-0.44455974,  2.05467683],\n",
       "       [-0.20614102,  1.46651446]])"
      ]
     },
     "execution_count": 47,
     "metadata": {},
     "output_type": "execute_result"
    }
   ],
   "source": [
    "mds = manifold.MDS(n_components=2, max_iter=3000,\n",
    "                   dissimilarity=\"precomputed\", n_jobs=1)\n",
    "\n",
    "pos = mds.fit(d).embedding_\n",
    "pos"
   ]
  },
  {
   "cell_type": "markdown",
   "metadata": {},
   "source": [
    "### On représente graphiquement le résultat"
   ]
  },
  {
   "cell_type": "code",
   "execution_count": 48,
   "metadata": {},
   "outputs": [
    {
     "data": {
      "image/png": "[encoded data removed]",
      "text/plain": [
       "<Figure size 720x720 with 1 Axes>"
      ]
     },
     "metadata": {},
     "output_type": "display_data"
    }
   ],
   "source": [
    "data = pd.DataFrame(pos)\n",
    "data.columns=(str(x) for x in data.columns) # pour ce fichu bug\n",
    "\n",
    "fig, ax = plt.subplots(figsize=(10, 10))\n",
    "\n",
    "sns.scatterplot(x='0', \n",
    "                y='1', \n",
    "                data=data,\n",
    "                legend=False,\n",
    "                hue = [0] * 50 + [1] * 50 + [2] * 50,\n",
    "                palette=current_palette[:3],\n",
    "                ax=ax)\n",
    "plt.show()"
   ]
  },
  {
   "cell_type": "markdown",
   "metadata": {},
   "source": [
    "## Méthode 4 : isomap"
   ]
  },
  {
   "cell_type": "markdown",
   "metadata": {},
   "source": [
    "On essaie non pas de conserver toutes les distances mais seulement les $k$ plus proches.\n",
    "\n",
    "https://scikit-learn.org/stable/modules/generated/sklearn.manifold.Isomap.html#sklearn.manifold.Isomap"
   ]
  },
  {
   "cell_type": "markdown",
   "metadata": {},
   "source": [
    "### On trouve 2 axes permettant de recréer la distance des 10 plus proches voisins de façon approchée"
   ]
  },
  {
   "cell_type": "code",
   "execution_count": 49,
   "metadata": {},
   "outputs": [
    {
     "name": "stderr",
     "output_type": "stream",
     "text": [
      "/opt/anaconda3/lib/python3.9/site-packages/sklearn/manifold/_isomap.py:304: UserWarning: The number of connected components of the neighbors graph is 2 > 1. Completing the graph to fit Isomap might be slow. Increase the number of neighbors to avoid this issue.\n",
      "  self._fit_transform(X)\n",
      "/opt/anaconda3/lib/python3.9/site-packages/scipy/sparse/_index.py:82: SparseEfficiencyWarning: Changing the sparsity structure of a csr_matrix is expensive. lil_matrix is more efficient.\n",
      "  self._set_intXint(row, col, x.flat[0])\n"
     ]
    },
    {
     "data": {
      "text/plain": [
       "array([[-3.13998823e+00, -1.13944307e-01],\n",
       "       [-3.36145971e+00, -1.61190518e-01],\n",
       "       [-3.57835241e+00, -1.84034756e-01],\n",
       "       [-3.47598558e+00, -1.73585982e-01],\n",
       "       [-3.20882280e+00, -1.10056838e-01],\n",
       "       [-3.49900763e+00,  1.59878728e-02],\n",
       "       [-3.39196663e+00, -1.58695499e-01],\n",
       "       [-3.02210616e+00, -1.33019127e-01],\n",
       "       [-3.74912271e+00, -1.91135800e-01],\n",
       "       [-3.31341645e+00, -1.57445950e-01],\n",
       "       [-3.31049395e+00, -4.21646665e-02],\n",
       "       [-3.10663558e+00, -1.43001597e-01],\n",
       "       [-3.47579969e+00, -1.72674293e-01],\n",
       "       [-3.95984379e+00, -2.16658018e-01],\n",
       "       [-3.83994943e+00,  6.85208338e-02],\n",
       "       [-4.01548636e+00,  1.00611650e-01],\n",
       "       [-3.52089031e+00,  1.47150567e-02],\n",
       "       [-3.04383019e+00, -1.13201042e-01],\n",
       "       [-3.49266061e+00,  6.32738009e-02],\n",
       "       [-3.28214812e+00, -6.24978315e-02],\n",
       "       [-3.04182502e+00, -4.64603476e-02],\n",
       "       [-3.14660148e+00, -7.04667959e-02],\n",
       "       [-3.67090151e+00, -1.53680876e-01],\n",
       "       [-2.64300689e+00, -1.10254220e-01],\n",
       "       [-3.08515345e+00, -1.11566601e-01],\n",
       "       [-3.40405434e+00, -1.53284663e-01],\n",
       "       [-2.83926457e+00, -1.22107769e-01],\n",
       "       [-3.05347333e+00, -1.00615853e-01],\n",
       "       [-3.07586981e+00, -1.12430941e-01],\n",
       "       [-3.31405867e+00, -1.58863206e-01],\n",
       "       [-3.38881003e+00, -1.64057633e-01],\n",
       "       [-2.99791914e+00, -5.24751262e-02],\n",
       "       [-3.62777828e+00, -2.35103718e-02],\n",
       "       [-3.75689490e+00,  4.63508236e-02],\n",
       "       [-3.29594397e+00, -1.58465550e-01],\n",
       "       [-3.27583314e+00, -1.46120868e-01],\n",
       "       [-3.30203202e+00, -4.54967432e-02],\n",
       "       [-3.27292590e+00, -1.22783070e-01],\n",
       "       [-3.75734095e+00, -1.96835808e-01],\n",
       "       [-3.00910179e+00, -1.23445632e-01],\n",
       "       [-3.17879426e+00, -1.23440674e-01],\n",
       "       [-4.11709188e+00, -1.99410682e-01],\n",
       "       [-3.69111031e+00, -1.90685161e-01],\n",
       "       [-2.88465254e+00, -7.96245067e-02],\n",
       "       [-3.13334989e+00, -3.25833549e-03],\n",
       "       [-3.48244723e+00, -1.72976566e-01],\n",
       "       [-3.36250906e+00, -6.40138239e-02],\n",
       "       [-3.52829942e+00, -1.78663542e-01],\n",
       "       [-3.25816651e+00, -5.74346378e-02],\n",
       "       [-3.06753884e+00, -1.39998352e-01],\n",
       "       [ 1.74054302e+00,  3.89226900e-02],\n",
       "       [ 1.33653696e+00,  2.14789784e-01],\n",
       "       [ 1.84934147e+00, -9.91578534e-02],\n",
       "       [ 9.16401234e-02,  3.97675278e-01],\n",
       "       [ 1.41218640e+00,  2.00614837e-02],\n",
       "       [ 7.33769002e-01,  1.06611070e-01],\n",
       "       [ 1.50173245e+00,  4.93084730e-01],\n",
       "       [-7.67897747e-01,  3.59674122e-01],\n",
       "       [ 1.35625175e+00,  8.09301082e-02],\n",
       "       [-5.85021232e-02,  2.34491689e-01],\n",
       "       [-5.69858043e-01,  5.28870732e-01],\n",
       "       [ 7.78626009e-01,  8.77696164e-02],\n",
       "       [ 3.68808023e-01, -8.90630813e-02],\n",
       "       [ 1.21021029e+00,  1.16937797e-01],\n",
       "       [-8.58385530e-02, -8.69611910e-02],\n",
       "       [ 1.36909946e+00, -3.87191421e-02],\n",
       "       [ 8.04895947e-01,  2.98738206e-01],\n",
       "       [ 3.28167202e-01,  1.84117345e-01],\n",
       "       [ 1.13446399e+00, -3.26082889e-02],\n",
       "       [ 3.52607458e-02,  2.57875944e-02],\n",
       "       [ 1.51815909e+00,  3.96097355e-01],\n",
       "       [ 5.80517458e-01,  7.28463899e-02],\n",
       "       [ 1.57295205e+00,  2.10631112e-01],\n",
       "       [ 1.16560240e+00,  2.17742341e-01],\n",
       "       [ 1.01942816e+00, -3.69054755e-02],\n",
       "       [ 1.26875859e+00, -3.48640190e-02],\n",
       "       [ 1.67221471e+00, -1.10099046e-02],\n",
       "       [ 1.94757745e+00, -1.97348662e-01],\n",
       "       [ 1.05667114e+00,  3.78211843e-02],\n",
       "       [-2.21635912e-01, -3.78396125e-02],\n",
       "       [-1.12721127e-01,  9.03148109e-02],\n",
       "       [-2.00842584e-01,  7.27973854e-02],\n",
       "       [ 2.53818876e-01,  4.59908226e-02],\n",
       "       [ 1.88095129e+00,  6.50153091e-01],\n",
       "       [ 7.65923992e-01,  5.50592312e-01],\n",
       "       [ 1.23213528e+00,  4.07947856e-01],\n",
       "       [ 1.62514978e+00, -1.65433653e-01],\n",
       "       [ 9.67434381e-01,  4.69730001e-02],\n",
       "       [ 4.18289835e-01, -8.81698998e-03],\n",
       "       [ 9.71187267e-02,  8.46052347e-02],\n",
       "       [ 4.79917469e-01,  2.00053147e-01],\n",
       "       [ 1.20387209e+00,  3.42084867e-01],\n",
       "       [ 2.71678758e-01,  9.21795516e-02],\n",
       "       [-7.41175775e-01,  2.83489266e-01],\n",
       "       [ 3.97551264e-01,  7.38367246e-02],\n",
       "       [ 5.44378250e-01,  1.54489628e-01],\n",
       "       [ 5.78639168e-01,  6.63364943e-03],\n",
       "       [ 9.22939813e-01,  7.73318154e-02],\n",
       "       [-9.86011846e-01,  3.24843812e-02],\n",
       "       [ 4.37193524e-01, -3.14318062e-03],\n",
       "       [ 3.21527752e+00,  2.91626465e-01],\n",
       "       [ 1.82868386e+00,  1.13595790e+00],\n",
       "       [ 3.13359140e+00, -5.39198633e-01],\n",
       "       [ 2.25171804e+00, -1.68415272e-01],\n",
       "       [ 2.74925954e+00, -1.39486919e-01],\n",
       "       [ 3.96067938e+00, -7.95024702e-01],\n",
       "       [ 5.29285198e-01,  1.06944274e+00],\n",
       "       [ 3.59331199e+00, -5.28553032e-01],\n",
       "       [ 2.71520476e+00, -1.94513103e-01],\n",
       "       [ 3.64895921e+00, -4.06968124e-01],\n",
       "       [ 2.15347640e+00, -1.23663809e-01],\n",
       "       [ 2.11663698e+00,  1.96622086e-02],\n",
       "       [ 2.64775151e+00, -3.53709822e-01],\n",
       "       [ 1.60943524e+00,  8.96147885e-01],\n",
       "       [ 2.03801575e+00,  8.72533370e-01],\n",
       "       [ 2.50518227e+00,  1.18010324e-01],\n",
       "       [ 2.50233001e+00, -5.04617764e-02],\n",
       "       [ 4.37793370e+00, -8.54915606e-01],\n",
       "       [ 4.32856721e+00, -8.60959029e-01],\n",
       "       [ 1.59881631e+00,  6.11105948e-01],\n",
       "       [ 2.99383652e+00, -3.48590199e-01],\n",
       "       [ 1.53435785e+00,  9.02270936e-01],\n",
       "       [ 4.12156278e+00, -7.61917242e-01],\n",
       "       [ 1.71045033e+00, -5.18278696e-02],\n",
       "       [ 3.01164984e+00, -1.71889814e-01],\n",
       "       [ 3.35682056e+00, -5.65148497e-01],\n",
       "       [ 1.53686274e+00,  1.61686116e-02],\n",
       "       [ 1.62248356e+00,  1.16876663e-01],\n",
       "       [ 2.47878047e+00, -2.75417562e-02],\n",
       "       [ 3.27810016e+00, -3.55820523e-01],\n",
       "       [ 3.54497271e+00, -4.96856973e-01],\n",
       "       [ 4.32819092e+00, -8.76957931e-01],\n",
       "       [ 2.53553326e+00,  5.99140580e-03],\n",
       "       [ 1.66698003e+00,  1.09202733e-01],\n",
       "       [ 2.19362164e+00,  3.89043152e-01],\n",
       "       [ 3.76930202e+00, -7.17696412e-01],\n",
       "       [ 2.86761559e+00,  1.97963339e-01],\n",
       "       [ 2.49783809e+00, -6.37909044e-03],\n",
       "       [ 1.47955590e+00,  1.39854384e-01],\n",
       "       [ 2.66867801e+00, -2.97286825e-01],\n",
       "       [ 2.96106873e+00, -4.37699689e-02],\n",
       "       [ 2.58599920e+00, -1.32726454e-01],\n",
       "       [ 1.82868386e+00,  1.13595790e+00],\n",
       "       [ 3.12201411e+00, -2.57193895e-01],\n",
       "       [ 3.04977747e+00, -4.33571871e-02],\n",
       "       [ 2.55201482e+00, -8.44829551e-02],\n",
       "       [ 1.87433591e+00,  2.50316959e-01],\n",
       "       [ 2.21721648e+00, -2.24697897e-01],\n",
       "       [ 2.65752093e+00,  2.20012614e-01],\n",
       "       [ 1.71485202e+00,  6.94453213e-01]])"
      ]
     },
     "execution_count": 49,
     "metadata": {},
     "output_type": "execute_result"
    }
   ],
   "source": [
    "mds = manifold.Isomap(n_neighbors=10,\n",
    "                      n_components=2, max_iter=3000,                      \n",
    "                      metric=\"precomputed\")\n",
    "\n",
    "pos = mds.fit(d).embedding_\n",
    "pos"
   ]
  },
  {
   "cell_type": "markdown",
   "metadata": {},
   "source": [
    "### On représente graphiquement le résultat\n"
   ]
  },
  {
   "cell_type": "code",
   "execution_count": 50,
   "metadata": {},
   "outputs": [
    {
     "data": {
      "image/png": "[encoded data removed]",
      "text/plain": [
       "<Figure size 720x720 with 1 Axes>"
      ]
     },
     "metadata": {},
     "output_type": "display_data"
    }
   ],
   "source": [
    "data = pd.DataFrame(pos)\n",
    "data.columns = (str(x) for x in data.columns) # pour ce fichu bug\n",
    "\n",
    "fig, ax = plt.subplots(figsize=(10, 10))\n",
    "\n",
    "sns.scatterplot(x='0', \n",
    "                y='1', \n",
    "                data=data,\n",
    "                legend=False,\n",
    "                hue = [0] * 50 + [1] * 50 + [2] * 50,\n",
    "                palette=current_palette[:3],\n",
    "                ax=ax)\n",
    "plt.show()"
   ]
  },
  {
   "cell_type": "code",
   "execution_count": null,
   "metadata": {},
   "outputs": [],
   "source": []
  }
 ],
 "metadata": {
  "kernelspec": {
   "display_name": "base",
   "language": "python",
   "name": "python3"
  },
  "language_info": {
   "codemirror_mode": {
    "name": "ipython",
    "version": 3
   },
   "file_extension": ".py",
   "mimetype": "text/x-python",
   "name": "python",
   "nbconvert_exporter": "python",
   "pygments_lexer": "ipython3",
   "version": "3.9.12"
  },
  "vscode": {
   "interpreter": {
    "hash": "40d3a090f54c6569ab1632332b64b2c03c39dcf918b08424e98f38b5ae0af88f"
   }
  }
 },
 "nbformat": 4,
 "nbformat_minor": 2
}
